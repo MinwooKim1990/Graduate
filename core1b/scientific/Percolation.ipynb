{
 "cells": [
  {
   "cell_type": "code",
   "execution_count": 1,
   "metadata": {
    "deletable": false,
    "editable": false,
    "init_cell": true,
    "nbgrader": {
     "cell_type": "code",
     "checksum": "aa6916c62ac50a9bf09a95ce767cc6eb",
     "grade": false,
     "grade_id": "cell-9b00d99d1ebddd38",
     "locked": true,
     "schema_version": 3,
     "solution": false,
     "task": false
    }
   },
   "outputs": [],
   "source": [
    "# Import some libraries from python and set some defaults\n",
    "%matplotlib inline\n",
    "import numpy as np\n",
    "import matplotlib.pyplot as plt\n",
    "from matplotlib import rc\n",
    "import matplotlib.image as mpimg\n",
    "import sys\n",
    "import os\n",
    "import time\n",
    "sys.path.append(os.getcwd())\n",
    "from scipy import stats\n",
    "import pickle\n",
    "import copy\n",
    "#set the font size for plots\n",
    "plt.rcParams.update({'font.size': 17})\n",
    "params = {'axes.labelsize': 16, 'axes.titlesize': 16}\n",
    "plt.rcParams.update(params)\n",
    "rc('animation', html='html5')"
   ]
  },
  {
   "cell_type": "code",
   "execution_count": 2,
   "metadata": {
    "deletable": false,
    "editable": false,
    "init_cell": true,
    "nbgrader": {
     "cell_type": "code",
     "checksum": "34d16ab820e2d92fc02c8d17863432d3",
     "grade": false,
     "grade_id": "cell-1cbdac26e9079bde",
     "locked": true,
     "schema_version": 3,
     "solution": false,
     "task": false
    },
    "tags": [
     "hide_input"
    ]
   },
   "outputs": [],
   "source": [
    "from ipywidgets import widgets, interact, interactive, fixed\n",
    "from ipywidgets import Button, HBox, VBox\n",
    "import shelve\n",
    "assessmentName=\"Percolation\";\n",
    "import os\n",
    "\n",
    "def get_last_value(key):\n",
    "    if os.path.isfile('.choices.shelve') or os.path.isfile('.choices.shelve.dir'):\n",
    "        s=shelve.open('.choices.shelve')\n",
    "        return s.get(key,None)\n",
    "    return None\n",
    "\n",
    "\n",
    "class myRadioButton:\n",
    "    def __init__(self,name,description,options):\n",
    "        self.name=name\n",
    "        self.options=options\n",
    "        self.description=description\n",
    "    def getWidget(self):\n",
    "        def on_value_change(change):\n",
    "            s=shelve.open('.choices.shelve')\n",
    "            key=self.getKey()\n",
    "            s[key]=change['new']\n",
    "            s.close()\n",
    "\n",
    "        self.widget=widgets.RadioButtons(\n",
    "            options=self.options,\n",
    "            value=get_last_value(self.getKey()),\n",
    "            description=self.description,\n",
    "            disabled=False\n",
    "        )\n",
    "        self.widget.observe(on_value_change, names='value')\n",
    "\n",
    "        return self.widget\n",
    "    def getKey(self):\n",
    "        return '{0}_{1}'.format(assessmentName,self.name)\n",
    "        \n",
    "        \n",
    "def on_value_change(change):\n",
    "                s=shelve.open('.choices.shelve')\n",
    "                key='{0}_{1}_{2}'.format(assessmentName,self.name,i)\n",
    "                s[key]=change['new']\n",
    "                s.close()\n",
    "\n",
    "def make_value_change_fn(assessmentName,name,i):\n",
    "        def fn(change):\n",
    "            s=shelve.open('.choices.shelve')\n",
    "            key='{0}_{1}_{2}'.format(assessmentName,name,i)\n",
    "            s[key]=change['new']\n",
    "            s.close()\n",
    "        return fn\n",
    "\n",
    "class myCheckBoxSet:\n",
    "    def __init__(self,name,description,options):\n",
    "        self.name=name\n",
    "        self.options=options\n",
    "        self.description=description\n",
    "    def getWidget(self):\n",
    "        keys=['{0}_{1}_{2}'.format(assessmentName,self.name,i) for i in range(len(self.options))]    \n",
    "        self.widgets=[ widgets.Checkbox(value=get_last_value(key),\n",
    "    description=o,\n",
    "    disabled=False\n",
    "        ) for key,o in zip(keys,self.options)]\n",
    "        \n",
    "        txt=widgets.HTMLMath(\n",
    "            value=self.description,\n",
    "            placeholder='',\n",
    "            description='',\n",
    "        )\n",
    "\n",
    "        \n",
    "        self.widget=VBox([txt]+self.widgets)\n",
    "        for i,w in enumerate(self.widgets):\n",
    "            w.observe(make_value_change_fn(assessmentName,self.name,i), names='value')\n",
    "\n",
    "        return self.widget\n",
    "import mywidgets"
   ]
  },
  {
   "cell_type": "markdown",
   "metadata": {
    "deletable": false,
    "editable": false,
    "nbgrader": {
     "cell_type": "markdown",
     "checksum": "4d8b686b4c166e10750e25d3ef6a5cde",
     "grade": false,
     "grade_id": "cell-a690aea7fcdd3150",
     "locked": true,
     "schema_version": 3,
     "solution": false,
     "task": false
    }
   },
   "source": [
    "# Preamble: workshop notebooks\n",
    "\n",
    "Work through this notebook cell by cell.\n",
    "\n",
    "When working on your solution, you can save the notebook as many times as you like. You can also submit \n",
    "as many times as you like. In fact, it is a good idea to save and submit often.\n",
    "\n",
    "**Validate** the notebook before submitting. Use the *validate* button in the browser\n",
    "\n",
    "**Do not copy or delete one of the original cells**. Doing so means you cannot validate the notebook.\n",
    "If required, *create a new cell*, and copy the *contents* of another cell.\n",
    "\n",
    "\n",
    "**Only the last submission before the deadline** will be marked.\n",
    "Note that you have to **submit** at least once for your work to be marked.\n",
    "\n",
    "Please note that is a **summative assignment** and will determine your marks for Scientific Computing.\n",
    "This also means that you are **not allowed to collaborate on this assignment**: it should all be your own work.\n",
    "\n"
   ]
  },
  {
   "cell_type": "markdown",
   "metadata": {
    "deletable": false,
    "editable": false,
    "nbgrader": {
     "cell_type": "markdown",
     "checksum": "6bc65c3b23abcca2cf98909804985e60",
     "grade": false,
     "grade_id": "cell-4ceb08114a5ff5d8",
     "locked": true,
     "schema_version": 3,
     "solution": false,
     "task": false
    }
   },
   "source": [
    "The notebook contains cells with code. Some of the code is (intentionally) missing. Please insert appropriate code below the line 'YOUR CODE HERE'. Cells which do not contain any 'YOUR CODE HERE' lines will allow you to test your code; if they return an error there is something wrong with your implementation; if they do not return an error your code might be correct (it is unfortunately not possible to check for every possible error).\n",
    "\n",
    "Note:\n",
    "\n",
    "simply add numerical value in a dropbox for it to get marked\n",
    "\n",
    "when asked for true/false in a box:\n",
    "\n",
    "ticking a box means True\n",
    "not ticking (or ticking an even number of times) yields False\n"
   ]
  },
  {
   "cell_type": "markdown",
   "metadata": {
    "deletable": false,
    "editable": false,
    "nbgrader": {
     "cell_type": "markdown",
     "checksum": "48a43784def7acb66855738a8334eadd",
     "grade": false,
     "grade_id": "cell-bbf88e10bb307ab1",
     "locked": true,
     "schema_version": 3,
     "solution": false,
     "task": false
    }
   },
   "source": [
    "# Workshop 8: Cluster growth and percolation"
   ]
  },
  {
   "cell_type": "markdown",
   "metadata": {
    "deletable": false,
    "editable": false,
    "nbgrader": {
     "cell_type": "markdown",
     "checksum": "4d587755027618ccd1d7c38d2c74bfff",
     "grade": false,
     "grade_id": "cell-ed6fdce58752a39a",
     "locked": true,
     "schema_version": 3,
     "solution": false,
     "task": false
    }
   },
   "source": [
    "## 1) Cluster growth"
   ]
  },
  {
   "cell_type": "markdown",
   "metadata": {
    "deletable": false,
    "editable": false,
    "nbgrader": {
     "cell_type": "markdown",
     "checksum": "f1ac3f8fd45676f3764307850d26ad84",
     "grade": false,
     "grade_id": "cell-1d22aac375ec9408",
     "locked": true,
     "schema_version": 3,
     "solution": false,
     "task": false
    }
   },
   "source": [
    "### The cell below defines the Cluster class. Complete the methods that are only partially implemented.\n",
    "\n",
    "You can the use the later cells to test your implementation."
   ]
  },
  {
   "cell_type": "markdown",
   "metadata": {
    "deletable": false,
    "editable": false,
    "nbgrader": {
     "cell_type": "markdown",
     "checksum": "d312ee75bbeefc19b9ab3f851e05a1a1",
     "grade": false,
     "grade_id": "cell-a6ef87cefbe5b332",
     "locked": true,
     "schema_version": 3,
     "solution": false,
     "task": false
    }
   },
   "source": [
    "Completing the class `Cluster` is the main aim of the first part. Some parts of the methods need to be completed.\n",
    "The cells below take you through this, one method at a time. There are also some cells to verify your implementation.\n",
    "\n",
    "The main components of an instance of the class are:\n",
    " - ndim: the dimension of the cluster. We only examine the special case of ndim=2\n",
    " - periodic: if True, impose periodic boundary conditions, else, impose isolated boundary conditions\n",
    " - size: the extent of a cluster in any dimension\n",
    " - grid: a dictionary of positions currently occupied by the cluster, in the form of tuples\n",
    "      for example ((0,1): True) if element (0,1) is part of the cluster\n",
    " - boundary: a dictionary of nearest-neighbours of cluster elements, that are **not** (yet) occupied\n",
    " - offsets: a list of all neigbours of location (0,0)\n",
    "     - for ndim=2, the list of offsets is [(1,0), (-1,0), (0,1), (0,-1)]\n",
    "\n",
    "Note that `position` is a tuple of shape `self.size`, e.g. (0,1) in 2 dimensions. For some calculations it may be useful to convert this tuple to a numpy array, for example when computing distances between two positions.\n",
    "Using tuples - one of the standard python types - makes it easy to check whether a given position is inside a cluster of tuples.\n",
    "\n",
    "\"Periodic boundry conditions\" means that location (0,0) neighbours locations (1,0), (0,1) but in addition also\n",
    "locations $(L-1,0)$ and $(0,L-1)$, where $L$ is the linear size of the lattice. When the boundary conditions are not periodic, then the neighbours of location (0,0) are only (1,0) and (0,1). \n"
   ]
  },
  {
   "cell_type": "code",
   "execution_count": 14,
   "metadata": {
    "deletable": false,
    "nbgrader": {
     "cell_type": "code",
     "checksum": "ecf9d637065809720793063974e2a3d1",
     "grade": false,
     "grade_id": "cell-05bb92207c1e8869",
     "locked": false,
     "schema_version": 3,
     "solution": true,
     "task": false
    }
   },
   "outputs": [],
   "source": [
    "class Cluster:\n",
    "    # initialize the cluster\n",
    "    def __init__(self, ndim=2, size=32, random_number_seed=-1, periodic=False):\n",
    "        self.size     = size             # linear extent of the lattice\n",
    "        self.ndim     = ndim             # dimensionality\n",
    "        self.periodic = periodic         # if True: use periodic boundary conditions, else use isolated boundary conditions\n",
    "        self.grid     = {}               # the grid will store all the tuples that correspond to occupied locations\n",
    "        self.boundary = None             # to be initialized \n",
    "        \n",
    "        ''' Initialize the random number generator provided random_number_seed is > 0\n",
    "        When initialized, the random sequence will be the same sequence every time you run the code\n",
    "             This can be useful for debugging your code.\n",
    "        If uninitialized, you'll get a different sequence every time. \n",
    "             This can be used if you want to calculate average properties of clusters, siince different runs\n",
    "             will result in different clusters ''' \n",
    "        if random_number_seed > 0:\n",
    "            np.random.seed(random_number_seed)\n",
    "        else:\n",
    "            np.random.seed(None)\n",
    "            \n",
    "        # create list of all nearest neighbours of element (0,) * ndim\n",
    "        self.offsets = []\n",
    "        for dim in range(self.ndim):\n",
    "            offset = np.zeros(ndim, dtype=int)\n",
    "            offset[dim] = 1\n",
    "            self.offsets.append(tuple(offset))\n",
    "            self.offsets.append(tuple(-offset))\n",
    "        self.noffsets = len(self.offsets)     \n",
    "            \n",
    "    def element_inside(self, position):\n",
    "        ''' The function return True / False depending on whether position is inside / outside the grid.\n",
    "            input: location \"position\" to be tested (tuple)\n",
    "            output: True if position is on the lattice, False if position is not on the lattice '''\n",
    "        if self.periodic:\n",
    "            return True                                     # all positions are part of the lattice\n",
    "        sp = np.array(position)\n",
    "        return (sp >= 0).all() and (sp < self.size).all()   # test whether each coordinate is in the range [0, L[\n",
    "                                                            # where L=self.size is the size of the lattice\n",
    "\n",
    "    def periodic_wrap(self, position):\n",
    "        ''' This function periodically wraps \"position\" on the grid if self.periodic\n",
    "            input: location \"position\" to be wrapped (tuple)\n",
    "            output: wrapped value of position (tuple) '''\n",
    "        if self.periodic:\n",
    "            return tuple(np.array(position) % self.size)\n",
    "        else:\n",
    "            return position\n",
    "            \n",
    "        \n",
    "    def element_add(self, position):\n",
    "        ''' This routine adds the element at location \"position\" (a tuple) to the cluster\n",
    "                if the element is already part of the cluster, raise an exception\n",
    "            If periodic=True:  wrap position periodically before inserting element\n",
    "            If periodic=False: raise exception if element is outside the grid boundaries '''\n",
    "        \n",
    "        # convert tuple to array to perform arithmetic\n",
    "        pos = np.array(position)\n",
    "\n",
    "        if self.periodic:\n",
    "            pos  = (pos + 2 * self.size) % self.size     # apply periodic boundary conditions\n",
    "            \n",
    "        if(self.element_inside(pos)):\n",
    "            if tuple(pos) in self.grid:\n",
    "                print(\" ++ element_add, Position = \", pos)\n",
    "                raise Exception(\"Element is already in cluster\")\n",
    "            else:\n",
    "                self.grid[tuple(pos)] = True\n",
    "        else:\n",
    "            print(\" ++ element_add, Position = \", pos)\n",
    "            raise Exception(\"Element is outside of grid\")\n",
    "    \n",
    "    def element_neighbours(self, position):\n",
    "        ''' This function returns the list of all nearest-neighbours of a given position, that are inside the grid.\n",
    "            input:   position: location for which we want a list of nearest-neighbours (tuple)\n",
    "            output:  neighbours: a list of tuples that are valid neighbours of position (tuples)'''\n",
    "\n",
    "        # consistency check:\n",
    "        if len(position) != self.ndim:\n",
    "            raise Exception(\" Error: this position does not have the right dimension\")\n",
    "            \n",
    "        ''' You may want to use self.offsets to create the list of all nearest-neighbours positions.\n",
    "         Note: Adding tuples does not give you the offset that is required. Instead, you must\n",
    "               convert the tuple to an array to compute the offset position first, for example as\n",
    "                   new_neighbour = np.asarray(position) + offset,\n",
    "               but make sure to convert it back to a tuple before adding it to the list of neighbours\n",
    "                   neighbours.append(new_neighbour)\n",
    "               You must also make sure that new_neighbour is on the grid, and, if periodic, is correcty wrapped '''\n",
    "        neighbours = []\n",
    "        # YOUR CODE HERE\n",
    "        for i in range(len(self.offsets)):\n",
    "            new_neighbour = np.asarray(position)+self.offsets[i] #set the new neighbours\n",
    "            if self.element_inside(new_neighbour): #check element inside\n",
    "                if self.periodic ==True:\n",
    "                    new_neighbour=self.periodic_wrap(new_neighbour)\n",
    "                neighbours.append(tuple(new_neighbour))\n",
    "    \n",
    "        return neighbours\n",
    "\n",
    "    def distance(self, position1, position2):\n",
    "        ''' This function returns the distance (float) between the tuples at position1 and position2 '''\n",
    "        # consistency check\n",
    "        if len(position1) != self.ndim:\n",
    "            raise Exception(\"not a valid position 1 in distance\")\n",
    "        if len(position2) != self.ndim:\n",
    "            raise Exception(\"not a valid position 2 in distance\")\n",
    "        \n",
    "        # Again we convert the tuple to an array to perform the calculation\n",
    "        p = np.asarray(position1)\n",
    "        q = np.asarray(position2)\n",
    "        distance = 0\n",
    "        for i in range(len(p)):\n",
    "            dx = np.abs(p[i]-q[i])\n",
    "            if self.periodic:\n",
    "                if dx > self.size/2:\n",
    "                    dx = self.size - dx\n",
    "            distance += dx * dx\n",
    "        distance = np.sqrt(distance)\n",
    "        return distance\n",
    "    \n",
    "    def element_distances(self, position):\n",
    "        ''' This function returns all the distances from each element of the cluster, \n",
    "            to the given location \"position\" '''\n",
    "        distance = {}\n",
    "        for element in self.grid:\n",
    "            distance[element] = self.distance(element, position)\n",
    "        return distance\n",
    "    \n",
    "\n",
    "        \n",
    "    '''\n",
    "    #########################################################################################################\n",
    "    #      The three methods below implement the three models for cluster growth that were discussed in the #\n",
    "    #     lecture namely Eden, DLA and Random.                                                              #\n",
    "    #########################################################################################################\n",
    "    '''\n",
    "    \n",
    "\n",
    "    def Eden(self):\n",
    "        ''' Eden model for cluster growth\n",
    "          The algorithm for adding an element is as follows. Starting from a seed (single element)\n",
    "             - pick randomly any unoccupied site that is a nearest neighbour of an element already in the cluster\n",
    "             - add it to the cluster\n",
    "        The method below should add 1 element to the cluster based on this algorithm        \n",
    "        The first time Eden is invoked, we create a list of empty sites that neighbour the cluster.\n",
    "        This dictionary is called self.boundary, \n",
    "        Each time Eden is called, we update the dictionary, adding new boundary elements and removing\n",
    "        none-boundary elements'''\n",
    "        if self.boundary == None:\n",
    "            self.boundary = {}\n",
    "            # iterate over all neighbours of all elements in the current cluster.\n",
    "            # if the neighbour is not in the cluster, and not in self.boundary, add it to self.boundary\n",
    "            # YOUR CODE HERE\n",
    "            for element in self.grid: #find element in greed\n",
    "                for neighbour in self.element_neighbours(element):\n",
    "                    if neighbour not in self.grid:\n",
    "                        if neighbour not in self.boundary:\n",
    "                            self.boundary[self.periodic_wrap(neighbour)] = True\n",
    "\n",
    "        # pick at random an element of self.boundary, and add this element to the cluster\n",
    "        # there are several valid ways of picking an element to add\n",
    "        # once you've picked an element to add, use self.element_add(element) to add it to the cluster\n",
    "        # make sure you call the element \"element\"\n",
    "        # YOUR CODE HERE\n",
    "    \n",
    "        rand=np.random.choice(len((self.boundary.keys())))\n",
    "        element=list(self.boundary.keys())[rand]\n",
    "        self.element_add(element)\n",
    "\n",
    "        # remove this element from self.boundary\n",
    "        # YOUR CODE HERE\n",
    "        del self.boundary[element]\n",
    "        \n",
    "        # add the neighbours of the element to self.boundary,\n",
    "        #      provided they are not in the cluster and not already in the boundary\n",
    "\n",
    "        for neighbour in self.element_neighbours(element):\n",
    "            if neighbour not in self.grid:\n",
    "                if neighbour not in self.boundary:\n",
    "                    self.boundary[self.periodic_wrap(neighbour)] = True\n",
    "\n",
    "        # return current number of elements in the boundary\n",
    "        return len(self.boundary)\n",
    "\n",
    "    def DLA(self, centre, radius, edge):\n",
    "        ''' DLA model for generating a cluster. The method for adding an element to a DLA cluster is as follows.\n",
    "            Start a random walk at a distance \"radius\" away from the seed of the cluster. The seed is at location \"centre\"\n",
    "            Terminate the walk, if either the walker:\n",
    "              - Hits the cluster. When this happens, add the previous step of the walk to the cluster\n",
    "              - Crosses the edge, i.e. reaches a distances > edge from the centre\n",
    "              \n",
    "              \n",
    "            The DLA method below adds an element to a cluster and return \"track\". \n",
    "            \n",
    "            Track is a list of all sites visited in this particular random walk.\n",
    "        \n",
    "            input:\n",
    "              centre: the original centre of the cluster (tuple)\n",
    "              radius: the distance to the centre from which we start the random walk (float)\n",
    "              edge:   the maximum distance from the centre, before we terminate the walk (float)\n",
    "            Note that once again, we use arrays - rather than tuples - to perform the calculation'''\n",
    "        \n",
    "        # location of the centre - converted to array to perform arithmetic\n",
    "        start     = np.asarray(centre)\n",
    "        \n",
    "        # we will generate an offset from the starting position initially in polar coordinates (rad, phi)\n",
    "        # rad is the distance from the starting position, for which we take radius\n",
    "        # phi is the polar angle, and is in the range [0, 2pi[\n",
    "        # the Cartesian coordinates are then\n",
    "        #    x = r cos(phi); y=r sin(phi) (but converted to integers so that this is a position on the grid)\n",
    "        # once the offset is computed, we convert it to Cartesian (x,y) coordinates\n",
    "        rad = radius\n",
    "        if(rad < 1):\n",
    "            rad = 1\n",
    "        phi = 2 * np.pi * np.random.random()  # angle uniform in [0, 2pi[\n",
    "        x   = rad * np.cos(phi)\n",
    "        ix  = int(np.rint(x))      # convert to integer offset\n",
    "        y   = rad * np.sin(phi)\n",
    "        iy  = int(np.rint(y))      # convert to integer offset\n",
    "        dr  = np.sqrt(x*x+y*y)\n",
    "        \n",
    "        # add starting offset\n",
    "        start[0] += ix\n",
    "        start[1] += iy\n",
    "        start     = tuple(start)\n",
    "        cont      = True\n",
    "        \n",
    "        # track stores all the locations that the random walk visits\n",
    "        track   = []\n",
    "        track.append(start)\n",
    "        step    = start   # the random walk steps from the current step, \"step\", to the next step, \"next_step\"\n",
    "        while cont:\n",
    "            # continue walking as long as cont = True\n",
    "            #print(1)\n",
    "            # take a random step, from step to next_step\n",
    "            # Hint: use RandomStep, implemented below, or write your own\n",
    "            # YOUR CODE HERE\n",
    "\n",
    "            next_step=self.RandomStep(step)\n",
    "            # If any neighbour of next_step is in the cluster, then:\n",
    "            #    - add next_step to cluster\n",
    "            #    - add next_step to track\n",
    "            #    - set cont = False, to end walk\n",
    "            # use self.element_add to add the element to the cluster\n",
    "            # If no neighbour is in the cluster, keep stepping unless the walker wandered too far from the centre\n",
    "            # YOUR CODE HERE\n",
    "\n",
    "            for ele in self.element_neighbours(next_step):\n",
    "                if ele in self.grid:\n",
    "                    if next_step not in self.grid:\n",
    "                        if self.element_inside(next_step):\n",
    "                            self.element_add(next_step)\n",
    "                    track.append(next_step)\n",
    "                    cont=False\n",
    "                    break\n",
    "            # if cont is True, we need to check if walker is still in the allowed region\n",
    "            #     if distance to centre > edge: put cont = False, add element to track, and end walk\n",
    "            #     if distance to centre < edge: cont = True\n",
    "            #         - add next_step to track\n",
    "            #         - put step = next_step\n",
    "            #         - continue walk\n",
    "            # YOUR CODE HERE\n",
    "            if cont == True:\n",
    "                if self.distance(next_step,centre) > edge:\n",
    "                    cont=False\n",
    "                    track.append(next_step)\n",
    "                    break\n",
    "                if self.distance(next_step,centre) < edge:\n",
    "                    cont=True\n",
    "                    track.append(next_step)\n",
    "                    step=next_step\n",
    "        # walk finished: return the track \n",
    "        # You may want to uncomment the lines below for debugging your code\n",
    "        #if attach:\n",
    "            #print(\"Walker attached to cluster at position = \", next_step)\n",
    "        #else:\n",
    "            #print(\"walker off grid\")\n",
    "        return track\n",
    "\n",
    "    \n",
    "    def Random(self, probability):\n",
    "        ''' Random model for generating a cluster.\n",
    "            This function randomly adds sites to a grid, based on comparing a uniform random number, prob,\n",
    "               to the input (given) probability \"probability\" (float)\n",
    "        \n",
    "        \n",
    "         input: \n",
    "            probability: desired probabikity that a site is occupied (float)\n",
    "         if probability>1:  all sites are added to the cluster. \n",
    "         if probability <= 0: no sites are added.\n",
    "         if 0<probability<1: for each site: if random number < probability, add element to cluster '''\n",
    "        \n",
    "        self.p = probability\n",
    "        shape  = (self.size,) * self.ndim\n",
    "        prob   = np.random.rand(*shape)\n",
    "        assign = np.where(prob < probability)\n",
    "        assign = np.array(assign).T\n",
    "        for a in assign:\n",
    "            self.element_add(a)\n",
    "\n",
    "    ''' \n",
    "    #########################################################################################################\n",
    "    The routines below are helper routines. You should not need to edit them.                                                              \n",
    "    #########################################################################################################\n",
    "    '''\n",
    "\n",
    "    # Perform a single random step, starting at location \"position\"\n",
    "    #     function returns the location of the end of the step\n",
    "    def RandomStep(self, position):\n",
    "        # input:\n",
    "        #    position: location from where the single step starts\n",
    "        # offset the step chosen randomly from the list of valid offsets\n",
    "        itry      = np.random.choice(range(self.noffsets))\n",
    "        offset    = self.offsets[itry]\n",
    "        # once offset is chosen, the new poistion is offset from position\n",
    "        new       = tuple(np.array(position) + np.array(offset))\n",
    "        return self.periodic_wrap(new)\n",
    "\n",
    "    \n",
    "    # Starting from location \"position\", take nstep random walk steps\n",
    "    def RandomWalk(self, position, nstep):\n",
    "        # input:\n",
    "        #   position: starting position\n",
    "        #   nstep:    number of steps to perform\n",
    "        # output:\n",
    "        #   track: locations of the nstep steps   \n",
    "        track   = []\n",
    "        current = position\n",
    "        for i in range(nstep):\n",
    "            current  = self.RandomStep(current)\n",
    "            track.append(current)\n",
    "        return track\n",
    "    \n",
    "    # Plot the current cluster\n",
    "    #   Input is the cut to plot, and, optionally, the name of the plot, and the name of the file\n",
    "    #   to save the plot\n",
    "    # This general routine allows you to plot clusters of any dimensionallity. If ndim>2, it will plot\n",
    "    #   a 2D slice. In our case, we only generate clusters in 2 dimensions.\n",
    "    def ShowCluster(self, cut, title=None, file=None):\n",
    "        # extract the coordinates of the cluster specified by cut \n",
    "        xs, ys  = self.ExtractSlice(cut)\n",
    "        # create the figure, and plot all cluster sites\n",
    "        fig, ax = plt.subplots(figsize=(7,7))\n",
    "        ax.set_aspect('equal')\n",
    "        ax.set_xlim(-1, self.size)\n",
    "        ax.set_ylim(-1, self.size)\n",
    "        ax.set_xlabel('x')\n",
    "        ax.set_ylabel('y')\n",
    "        if not title == None:\n",
    "            ax.set_title(title)\n",
    "        ax.grid()\n",
    "        ax.plot(xs,ys,'ro',alpha=0.2)[0]\n",
    "        \n",
    "        # save the figure\n",
    "        if not file == None:\n",
    "            print(\"Saving cluster to file: \", file)\n",
    "            plt.savefig(file)\n",
    "            \n",
    "        fig.show()\n",
    "        \n",
    " \n",
    "    # Extract a slice: this is useful if the cluster is in ndim>2 dimensions\n",
    "    #    cut specifies the direction to cut the cluster and extract a 2D slice\n",
    "    def ExtractSlice(self, cut):\n",
    "        # cut is a tuple of length self.ndim\n",
    "        # the tuple should have exactly 2 elements equal to -1, which define the plane to extract\n",
    "        if len(cut) != self.ndim:\n",
    "            raise Exception(\" cut has wrong length\")\n",
    "        plane = np.where(np.asarray(cut) == -1)[0]\n",
    "        if len(plane) != 2:\n",
    "            raise Exception(\" plane has wrong dimenson \", len(plane))\n",
    "        for dim in range(self.ndim):\n",
    "            if dim not in plane:\n",
    "                if cut[dim] < 0 or cut[dim] >= self.size:\n",
    "                    raise Exception(\" cut is out of range \", dim, cut[dim])\n",
    "        #\n",
    "        sites = []\n",
    "        xs    = []\n",
    "        ys    = []\n",
    "        cut = np.asarray(cut)\n",
    "        for site in self.grid:\n",
    "            if np.all(np.logical_or(cut==-1,cut==np.asarray(site))):\n",
    "                sites.append(site)\n",
    "                xs.append(site[plane[0]])\n",
    "                ys.append(site[plane[1]])\n",
    "        return xs, ys        \n",
    "                \n",
    "    # This function plots a track, as generated by DLA for example, for a given random walk\n",
    "    #  Input is the track and optionally, file: the name of the file to save the figure\n",
    "    def ShowTrack(self, track, file=None):\n",
    "\n",
    "        fig, ax = plt.subplots(figsize=(7,7))\n",
    "        ax.set_aspect('equal')\n",
    "        ax.set_xlim(-1, self.size)\n",
    "        ax.set_ylim(-1, self.size)\n",
    "        ax.set_xlabel(\"x-position\")\n",
    "        ax.set_ylabel(\"y-position\")\n",
    "        ax.set_title(\"Track of random\")\n",
    "        ax.grid()\n",
    "        xs = []\n",
    "        ys = []\n",
    "        for el in track:\n",
    "            xs.append(el[0]) \n",
    "            ys.append(el[1])\n",
    "#        ax.plot(xs,ys,'ro',alpha=0.2)[0]\n",
    "        ax.plot(xs, ys)\n",
    "    \n",
    "        # plot the starting position\n",
    "        label = 'start'\n",
    "        el = track[0]\n",
    "        ax.plot(el[0], el[1], 'D', color='red',label=label)\n",
    "\n",
    "        # plot the end position\n",
    "        label = 'end'\n",
    "        el = track[-1]\n",
    "        ax.plot(el[0], el[1], 'D', color='cyan', label=label)\n",
    "        \n",
    "        ax.legend(frameon=False)\n",
    "        fig.tight_layout()\n",
    "        # save the figure\n",
    "        if not file == None:\n",
    "            print(\"Saving track to file: \", file)\n",
    "            plt.savefig(file)\n",
    "            \n",
    "        plt.show()  \n"
   ]
  },
  {
   "cell_type": "markdown",
   "metadata": {
    "deletable": false,
    "editable": false,
    "nbgrader": {
     "cell_type": "markdown",
     "checksum": "99f36132f286f5b6e9e6b66494497442",
     "grade": false,
     "grade_id": "cell-c1a26e9a17ec06dd",
     "locked": true,
     "schema_version": 3,
     "solution": false,
     "task": false
    }
   },
   "source": [
    "### The cells below, test your implementation of the methods in Cluster\n",
    "\n",
    "If your code does not pass this cell, you should debug your implementation of `Cluster` before continuing.\n",
    "There are no marks associated with these tests."
   ]
  },
  {
   "cell_type": "code",
   "execution_count": 15,
   "metadata": {
    "deletable": false,
    "editable": false,
    "nbgrader": {
     "cell_type": "code",
     "checksum": "e1ba305cb56a2902a5501eb5f65b274e",
     "grade": false,
     "grade_id": "cell-3590d8f3631b017e",
     "locked": true,
     "schema_version": 3,
     "solution": false,
     "task": false
    }
   },
   "outputs": [
    {
     "name": "stdout",
     "output_type": "stream",
     "text": [
      "That's right! -- continue\n",
      "We are adding element =  (3, 2)\n",
      "That's right! -- continue\n",
      " ++ element_add, Position =  [2 2]\n",
      "That's right! -- continue\n",
      "We are adding element =  (10, 2)\n",
      "That's right! -- continue\n",
      " ++ element_add, Position =  [10  2]\n",
      "That's right! -- continue\n"
     ]
    }
   ],
   "source": [
    "# initialize a small cluster\n",
    "size     = 5          # size of cluster\n",
    "ndim     = 2          # dimensionallity of cluster\n",
    "periodic = True       # boundary condition\n",
    "cluster  = Cluster(ndim=ndim, size=size, periodic=periodic) # generate instance of the cluster\n",
    "\n",
    "# add a single element at the centre\n",
    "cent = int(size/2)          # location of seed\n",
    "seed = (cent,) * ndim       # seed of cluster\n",
    "cluster.element_add(seed)   # we now have a cluster with 1 element, which is located at the centre\n",
    "\n",
    "# Provided your implementation is correct, cluster.grid = {{2,2)}: True}\n",
    "test = {(2,2): True}\n",
    "if cluster.grid == test:\n",
    "    print(\"That's right! -- continue\")\n",
    "else:\n",
    "    print(\"you made and error in element_add\")\n",
    "\n",
    "# Using the list of offsets, add the neighbour to the right of the seed to the cluster\n",
    "offset  = cluster.offsets[0]\n",
    "element = tuple(np.asarray(seed) + np.asarray(offset))\n",
    "print(\"We are adding element = \", element)\n",
    "cluster.element_add(element)\n",
    "test2 = {(2, 2): True, (3, 2): True}\n",
    "if cluster.grid == test2:\n",
    "    print(\"That's right! -- continue\")\n",
    "else:\n",
    "    print(\"you made and error in element_add or the list of offsets\")\n",
    "\n",
    "# Test adding an element that is already in the cluster\n",
    "try:\n",
    "    cluster.element_add(seed)\n",
    "    print(\" this should not happen: element should not be added twice \")\n",
    "except:\n",
    "    print(\"That's right! -- continue\")\n",
    "    pass    \n",
    "\n",
    "# Test periodic wrapping\n",
    "element = (2*size, int(size/2))  # this element is outside of the grid, but we are using periodic boundary conditions\n",
    "print(\"We are adding element = \", element)\n",
    "cluster.element_add(element)\n",
    "test3 = {(2, 2): True, (3, 2): True, (0, 2): True}\n",
    "if cluster.grid == test3:\n",
    "    print(\"That's right! -- continue\")\n",
    "else:\n",
    "    print(\"you made and error in implementing element_add (periodic boundary conditions)\")\n",
    "\n",
    "    \n",
    "    \n",
    "# now test non-periodic cluster\n",
    "cluster  = Cluster(ndim=ndim, size=size, periodic=False)\n",
    "try: \n",
    "    cluster.element_add(element)\n",
    "    print(\" this should not happen: element should not be added\")\n",
    "except:\n",
    "    print(\"That's right! -- continue\")\n",
    "    pass"
   ]
  },
  {
   "cell_type": "code",
   "execution_count": 16,
   "metadata": {
    "deletable": false,
    "editable": false,
    "nbgrader": {
     "cell_type": "code",
     "checksum": "2aacd089d0d99c9b6c752d51770a60c5",
     "grade": false,
     "grade_id": "cell-74300b61619621d7",
     "locked": true,
     "schema_version": 3,
     "solution": false,
     "task": false
    }
   },
   "outputs": [
    {
     "name": "stdout",
     "output_type": "stream",
     "text": [
      " That's right! -- continue\n"
     ]
    }
   ],
   "source": [
    "# This cell tests your implementation of the \"element_neighbours\" method\"\n",
    "\n",
    "# create a small cluster and add some elements to it\n",
    "size     = 7          # size of cluster\n",
    "ndim     = 2          # dimensionallity of cluster\n",
    "periodic = False      # boundary condition\n",
    "cluster  = Cluster(ndim=ndim, size=size, periodic=periodic)\n",
    "\n",
    "# start with seed at centre, and add all off its neighbours\n",
    "cent = int(size/2)          # location of seed\n",
    "seed = (cent,) * ndim       # seed of cluster\n",
    "cluster.element_add(seed)\n",
    "for offset in cluster.offsets:\n",
    "    element = tuple(np.asarray(seed) + np.asarray(offset))\n",
    "    cluster.element_add(element)\n",
    "\n",
    "# list all neighbours of some positions\n",
    "neighbours = cluster.element_neighbours(seed)\n",
    "test = [(4, 3), (2, 3), (3, 4), (3, 2)]\n",
    "if neighbours == test:\n",
    "    print(\" That's right! -- continue\")\n",
    "else:\n",
    "    print(\"you made an error in implementing element_neighbours\")"
   ]
  },
  {
   "cell_type": "markdown",
   "metadata": {
    "deletable": false,
    "editable": false,
    "nbgrader": {
     "cell_type": "markdown",
     "checksum": "a07d0f31b00276767b9a26c554a4877c",
     "grade": false,
     "grade_id": "cell-4af13f5a5b7eeb79",
     "locked": true,
     "schema_version": 3,
     "solution": false,
     "task": false
    }
   },
   "source": [
    "## a) The Eden model of cluster growth\n",
    "\n",
    "Complete implementing the Eden model in the `Cluster` class.\n",
    "The growth algorithm is as follows (see lecture notes)\n",
    "    - at start-up, create self.boundary - a list of all valid, empty sites that are nearest-neighbours \n",
    "    of the current cluster elements. Initially, these are the nearest neighbours of the `seed`.\n",
    "    - pick randomly one of the elements in the list of boundary cells, self.boundary\n",
    "        - add the element to the cluster\n",
    "        - remove the element from the list of boundary sites\n",
    "        - update the list of boundary sites\n",
    "        \n",
    "        \n",
    "\n"
   ]
  },
  {
   "cell_type": "code",
   "execution_count": 17,
   "metadata": {
    "deletable": false,
    "nbgrader": {
     "cell_type": "code",
     "checksum": "93c98c3f76a65699f72674b5dcac247e",
     "grade": false,
     "grade_id": "cell-f293cea1cc5568f8",
     "locked": false,
     "schema_version": 3,
     "solution": true,
     "task": false
    }
   },
   "outputs": [
    {
     "name": "stdout",
     "output_type": "stream",
     "text": [
      "Saving cluster to file:  Eden.png\n"
     ]
    },
    {
     "data": {
      "image/png": "[encoded data removed]",
      "text/plain": [
       "<Figure size 504x504 with 1 Axes>"
      ]
     },
     "metadata": {
      "needs_background": "light"
     },
     "output_type": "display_data"
    }
   ],
   "source": [
    "size     = 21         # size of cluster\n",
    "ndim     = 2          # dimensionality of the cluster\n",
    "periodic = False      # boundary condition\n",
    "cluster  = Cluster(ndim=ndim, size=size, random_number_seed = 1, periodic=periodic)\n",
    "cent     = int(size/2)\n",
    "seed     = (cent,) * ndim       # seed of cluster\n",
    "\n",
    "cluster.element_add(seed)\n",
    "nsites = 200               # add nsites=200 elements to the Eden cluster\n",
    "for i in range(nsites):\n",
    "    cluster.Eden()\n",
    "\n",
    "# Use ShowCluster to visualize the cluster. Set cut=[-1, -1] to show the full 2D cluster\n",
    "cut   = [-1, -1]\n",
    "file  = 'Eden.png'\n",
    "# YOUR CODE HERE\n",
    "### Nothing to add - simply run this cell\n",
    "title = 'Eden cluster'\n",
    "cluster.ShowCluster(cut, file=file)\n"
   ]
  },
  {
   "cell_type": "markdown",
   "metadata": {
    "deletable": false,
    "editable": false,
    "nbgrader": {
     "cell_type": "markdown",
     "checksum": "29be7bc8811990e3381f055bcec88c5d",
     "grade": false,
     "grade_id": "cell-9d856db8db4dc6fe",
     "locked": true,
     "schema_version": 3,
     "solution": false,
     "task": false
    }
   },
   "source": [
    "You may want to compare to the image below"
   ]
  },
  {
   "attachments": {
    "Eden_solution.png": {
     "image/png": "[encoded data removed]"
    }
   },
   "cell_type": "markdown",
   "metadata": {
    "deletable": false,
    "editable": false,
    "nbgrader": {
     "cell_type": "markdown",
     "checksum": "ae8e19babb363b4fbb60aea41e4687ab",
     "grade": false,
     "grade_id": "cell-3447238405db1a55",
     "locked": true,
     "schema_version": 3,
     "solution": false,
     "task": false
    }
   },
   "source": [
    "![Eden_solution.png](attachment:Eden_solution.png)"
   ]
  },
  {
   "cell_type": "markdown",
   "metadata": {
    "deletable": false,
    "editable": false,
    "nbgrader": {
     "cell_type": "markdown",
     "checksum": "d2e19ba6977472b57a61522dd28687b3",
     "grade": false,
     "grade_id": "cell-38a1000710c80341",
     "locked": true,
     "schema_version": 3,
     "solution": false,
     "task": false
    }
   },
   "source": [
    "### Compute the fractal dimension of an Eden cluster\n"
   ]
  },
  {
   "cell_type": "markdown",
   "metadata": {
    "deletable": false,
    "editable": false,
    "nbgrader": {
     "cell_type": "markdown",
     "checksum": "0e327a327351b3757316fd55bfa2de8e",
     "grade": false,
     "grade_id": "cell-5f8946de50fbf5a6",
     "locked": true,
     "schema_version": 3,
     "solution": false,
     "task": false
    }
   },
   "source": [
    "In the next cell:\n",
    " - Generate an Eden cluster with the specified parameters of size, ndim, periodic, and location of starting seed.\n",
    " - Compute the distance of each element to the seed\n",
    " - Sort the distance in ascending order\n",
    " - Plot the enclosed mass, $M(\\le r)$, as a function of radius $r$. Assume that each element has mass = 1. (In effect this amounts to counting the number of elements as a function of distance to the seed. Please do not count the seed).\n",
    " - Use this to estimate the fractal dimension $d$, from $M(\\le r)\\propto r^d$ (ignore the seed). Do so by fitting a linear relation of the form $\\log M(\\le r)=A + d \\log(r)$ to the plot.\n",
    " \n",
    " \n",
    "Hint: for large $r$, say $r\\ge 10$, you'll see that the $M(r)$ turns over. This is not surprising, since the cluster has finite size. Therefore once $r$ becomes too large, $M(r)$ becomes a constant. \n",
    "\n",
    "Because of this, you don't want to fit the relation $\\log M(\\leq r)\\propto \\log r$ to determine $d$ for all values of $r$ for which you have occupied sites. Instead, **fit the relation only for $1<r< 10$**. \n",
    "\n",
    "In conclusion, compute $M(\\leq r)$ for the Eden cluster, then fit the parameters $A$ and $d$ of the relation\n",
    "\n",
    "$$M(\\leq r) = A\\,r^d\\,,$$\n",
    "\n",
    "to your result, over the range $r\\in ]1, 10[$. You may want to use a built-in linear regression routine such as ``stats.linregress`` to perform the fit."
   ]
  },
  {
   "cell_type": "code",
   "execution_count": 18,
   "metadata": {
    "deletable": false,
    "nbgrader": {
     "cell_type": "code",
     "checksum": "5b3c7d39cb078e85096aa5061bc9dbd7",
     "grade": true,
     "grade_id": "cell-7668aeb88e5f84ae",
     "locked": false,
     "points": 10,
     "schema_version": 3,
     "solution": true,
     "task": false
    }
   },
   "outputs": [
    {
     "name": "stdout",
     "output_type": "stream",
     "text": [
      "1.8552948410179797 0.5401826034784301\n"
     ]
    },
    {
     "data": {
      "image/png": "[encoded data removed]",
      "text/plain": [
       "<Figure size 504x504 with 1 Axes>"
      ]
     },
     "metadata": {
      "needs_background": "light"
     },
     "output_type": "display_data"
    }
   ],
   "source": [
    "size       = 101                  # linear extent of lattice\n",
    "ndim       = 2                    # dimensionality of lattice\n",
    "periodic   = False                # non-periodic boundary conditions\n",
    "cent       = int(size/2)          # location of seed\n",
    "seed       = (cent,) * ndim       # seed of cluster\n",
    "nsites     = 200                  # number of sites to add\n",
    "\n",
    "\n",
    "# for each element of the cluster, compute the distance to the seed\n",
    "# sort these distances from small to large, and remove the first element (the seed, which has distance = 0, of course)\n",
    "# assume each element has a mass equal to one, and compute the enclosed mass, M(<r), where M is mass enclosed within radius r\n",
    "# Estimate the fractal dimension, d, using M=M_0 r^d\n",
    "#   - hint: you may want make linear fit to log M = A + B log r, which has slope is B=d\n",
    "#           notice that the relation starts to bend (and hence is no longer linear) for large r - you may\n",
    "#           want to restrict the fit to stay away from the boundary\n",
    "#           I used stats.linregress to perform the linear fit\n",
    "#  plot log M(<r) versus log(r), and overplot your fit. Make sure you add a legend and label the axes\n",
    "\n",
    "# approximate marking scheme\n",
    "# plot has correctly labelled axes:                    2 marks\n",
    "# results from the Eden model are plotted and look OK: 4 marks\n",
    "# linear fit is over plotted and looks OK:             2 marks\n",
    "# the plot has a legend:                               2 marks\n",
    "\n",
    "fig, ax = plt.subplots(1, 1, figsize=(7,7))\n",
    "# YOUR CODE HERE\n",
    "cluster  = Cluster(ndim=ndim, size=size, random_number_seed = 1, periodic=periodic)\n",
    "cluster.element_add(seed)\n",
    "origin=list(cluster.grid.keys())[0]\n",
    "for i in range(nsites):\n",
    "    cluster.Eden()\n",
    "dist_ori=list(cluster.element_distances(origin).values())\n",
    "dist_ori.remove(0.0)\n",
    "dist_sorted=sorted(dist_ori)\n",
    "\n",
    "m=[]\n",
    "temp=[]\n",
    "for j in range(len(dist_sorted)):\n",
    "    \n",
    "    m.append(j+1)\n",
    "slo=0\n",
    "c=0\n",
    "x=np.log10(dist_sorted)\n",
    "y=np.log10(m)\n",
    "res = stats.linregress(x, y)\n",
    "slo=res.slope\n",
    "c=res.intercept\n",
    "print(slo,c)\n",
    "ax.scatter(np.log10(dist_sorted),np.log10(m), label='Eden', s=5)\n",
    "ax.set_xlim(0.5,1.2)\n",
    "ax.set_ylim(1.1,2.5)\n",
    "ax.set_xlabel(r'log_10(r)')\n",
    "ax.set_ylabel(r'log_10M(<=r)')\n",
    "ax.set_title('Eden:enclosed mass as a function of radius')\n",
    "ax.plot(np.log10(dist_sorted),slo*np.log10(dist_sorted)+c,label='M(<=r)=3.46r^1.85', color='red')\n",
    "plt.legend()\n",
    "plt.show()"
   ]
  },
  {
   "cell_type": "markdown",
   "metadata": {
    "deletable": false,
    "editable": false,
    "nbgrader": {
     "cell_type": "markdown",
     "checksum": "30b40139f5ad00a57125c87f5b349e07",
     "grade": false,
     "grade_id": "cell-e33269635e630cb1",
     "locked": true,
     "schema_version": 3,
     "solution": false,
     "task": false
    }
   },
   "source": [
    "You may want to compare to the plot below. If you use a different random number seed, you'll get a different cluster and the parameters $A$ and $B$ of the fit will differ."
   ]
  },
  {
   "attachments": {
    "Eden_mass.png": {
     "image/png": "[encoded data removed]"
    }
   },
   "cell_type": "markdown",
   "metadata": {
    "deletable": false,
    "editable": false,
    "nbgrader": {
     "cell_type": "markdown",
     "checksum": "477980ec30678506adee71b05e2cd12d",
     "grade": false,
     "grade_id": "cell-f15cf352aec21455",
     "locked": true,
     "schema_version": 3,
     "solution": false,
     "task": false
    }
   },
   "source": [
    "![Eden_mass.png](attachment:Eden_mass.png)"
   ]
  },
  {
   "cell_type": "markdown",
   "metadata": {
    "deletable": false,
    "editable": false,
    "nbgrader": {
     "cell_type": "markdown",
     "checksum": "3fe5b9766efb616dbfdab1b969c0c65b",
     "grade": false,
     "grade_id": "cell-f244e80ba6cd2ace",
     "locked": true,
     "schema_version": 3,
     "solution": false,
     "task": false
    }
   },
   "source": [
    "Now generate 2000 realisations of an Eden cluster with the parameters as used before, ndim=2, nsites=200.\n",
    "\n",
    "**Make sure that each cluster is different by using a different random seed for the random number generator.**\n",
    "\n",
    "Compute the fractal dimension $d$, defined as $M(\\leq)\\propto r^d$, where $M(\\leq r)$ is the mass enclosed with radius $r$, fitting to the range $r\\in ]1, 10[$ for each. (The notation`],[` means that you do **not** include the limits, i.e use $r>1$ and $r<10$) for each of the realisations.\n",
    "\n",
    "Plot a histogram of the values of $d$, making sure the histogram is normalised to unity. \n",
    "\n",
    "Compute the mean value, $\\langle d\\rangle$, of $d$ and the standard deviation of $d$.\n",
    "Over plot a Gaussian with the same mean and standard deviation.\n",
    "Plot a vertical dashed line with horizontal value equal to $\\langle d\\rangle$.\n",
    "\n",
    "Add a legend to make clear what has been plotted."
   ]
  },
  {
   "cell_type": "code",
   "execution_count": 19,
   "metadata": {
    "deletable": false,
    "nbgrader": {
     "cell_type": "code",
     "checksum": "0beda9e85a50638aa9cd90c476f6aaa7",
     "grade": false,
     "grade_id": "cell-6712094001e020a7",
     "locked": false,
     "schema_version": 3,
     "solution": true,
     "task": false
    }
   },
   "outputs": [
    {
     "name": "stdout",
     "output_type": "stream",
     "text": [
      " Calculation finished, cpu time used =  38.3683922290802\n"
     ]
    }
   ],
   "source": [
    "\n",
    "# Approximate marking scheme\n",
    "# axes are correctly labelled:             2 marks\n",
    "# histogram of numerical values looks OK:  5 marks\n",
    "# Gaussian is over ploted and looks OK:    5 marks\n",
    "# Mean value is indicated by a line:       1\n",
    "# Plot has a legend:                       2 marks\n",
    "\n",
    "# YOUR CODE HERE\n",
    "start_time = time.time()\n",
    "slopes=[]\n",
    "for i in range(2000):\n",
    "    cluster  = Cluster(ndim=ndim, size=size, random_number_seed = i, periodic=periodic)\n",
    "    cluster.element_add(seed)\n",
    "    origin=list(cluster.grid.keys())[0]\n",
    "    for i in range(nsites):\n",
    "        cluster.Eden()\n",
    "    dist_ori=list(cluster.element_distances(origin).values())\n",
    "    dist_ori.remove(0.0)\n",
    "    dist_sorted=sorted(dist_ori)\n",
    "\n",
    "    m=[]\n",
    "    temp=[]\n",
    "    for j in range(len(dist_sorted)):\n",
    "    \n",
    "        m.append(j+1)\n",
    "    slo=0\n",
    "    c=0\n",
    "    x=np.log10(dist_sorted)\n",
    "    y=np.log10(m)\n",
    "    res = stats.linregress(x, y)\n",
    "    slo=res.slope\n",
    "    c=res.intercept\n",
    "    slopes.append(slo)\n",
    "slopes_a = np.asarray(slopes)\n",
    "cpu_time = time.time() - start_time\n",
    "print(\" Calculation finished, cpu time used = \", cpu_time)      "
   ]
  },
  {
   "cell_type": "code",
   "execution_count": 20,
   "metadata": {
    "deletable": false,
    "nbgrader": {
     "cell_type": "code",
     "checksum": "c1c6cc54d9b3edfe152ffa1a7b14a372",
     "grade": true,
     "grade_id": "cell-5254e3b0b384deac",
     "locked": false,
     "points": 15,
     "schema_version": 3,
     "solution": true,
     "task": false
    }
   },
   "outputs": [
    {
     "name": "stdout",
     "output_type": "stream",
     "text": [
      "1.79 0.0016233492723563216\n"
     ]
    },
    {
     "data": {
      "image/png": "[encoded data removed]",
      "text/plain": [
       "<Figure size 432x288 with 1 Axes>"
      ]
     },
     "metadata": {
      "needs_background": "light"
     },
     "output_type": "display_data"
    }
   ],
   "source": [
    "# Use this cell to make the plot\n",
    "# YOUR CODE HERE\n",
    "hist, edges = np.histogram(slopes, bins = int(len(slopes)/10))\n",
    "centre = 0.5 * (edges[1:]+edges[0:-1])\n",
    "widths = (edges[1:]-edges[0:-1])\n",
    "hist   = hist / len(slopes) / widths \n",
    "mu=np.mean(slopes)\n",
    "sig=np.std(slopes)\n",
    "mu_error=sig/(np.sqrt(len(slopes)))\n",
    "data=np.arange(min(slopes),max(slopes),(max(slopes)-min(slopes))/len(slopes))\n",
    "gaussian = lambda i: (1/(sig*np.sqrt(2*np.pi)))*np.exp((-(i-mu)**2)/(2*sig**2))\n",
    "gaussian_data = gaussian(data)\n",
    "color = 'tab:red'\n",
    "\n",
    "plt.plot(data,gaussian_data/len(data),label = 'Gaussian', color=color)\n",
    "plt.bar(centre, hist/len(slopes), width=widths, align='center', facecolor=\"none\",label='Histogram', edgecolor='black')\n",
    "plt.xlabel(r'Fractal dimensions')\n",
    "plt.ylabel(r'Probability')\n",
    "plt.xlim(1.5,2,5)\n",
    "plt.legend()\n",
    "plt.title('histogram of fractal dimension')\n",
    "print(round(mu,2),mu_error)"
   ]
  },
  {
   "cell_type": "code",
   "execution_count": 3,
   "metadata": {
    "deletable": false,
    "editable": false,
    "init_cell": true,
    "nbgrader": {
     "cell_type": "code",
     "checksum": "0dac22ef07b4179efd34affeca30d5fc",
     "grade": false,
     "grade_id": "cell-af7bf4b272473c00",
     "locked": true,
     "schema_version": 3,
     "solution": false,
     "task": false
    },
    "scrolled": true,
    "tags": [
     "hide_input"
    ]
   },
   "outputs": [
    {
     "data": {
      "application/vnd.jupyter.widget-view+json": {
       "model_id": "",
       "version_major": 2,
       "version_minor": 0
      },
      "text/plain": [
       "VBox(children=(HTMLMath(value='Enter your estimate of the mean fractal dimension to three significant figures …"
      ]
     },
     "metadata": {},
     "output_type": "display_data"
    }
   ],
   "source": [
    "dimen=mywidgets.myFloatBox('Percolation','P1',r'$\\langle d\\rangle=$'\n",
    "                           , 'Enter your estimate of the mean fractal dimension to three significant figures (5 marks)')\n",
    "dimen.getWidget()\n"
   ]
  },
  {
   "cell_type": "code",
   "execution_count": 4,
   "metadata": {
    "deletable": false,
    "editable": false,
    "init_cell": true,
    "nbgrader": {
     "cell_type": "code",
     "checksum": "fd951c7d0d168b438b3e68e23e2da0fc",
     "grade": true,
     "grade_id": "cell-5c3f7587da94ddc3",
     "locked": true,
     "points": 5,
     "schema_version": 3,
     "solution": false,
     "task": false
    },
    "tags": [
     "hide_input"
    ]
   },
   "outputs": [],
   "source": [
    "# display(HTML('<hr>'))"
   ]
  },
  {
   "cell_type": "code",
   "execution_count": 5,
   "metadata": {
    "deletable": false,
    "editable": false,
    "init_cell": true,
    "nbgrader": {
     "cell_type": "code",
     "checksum": "33ea6900386dba0a6b81a55141c29226",
     "grade": false,
     "grade_id": "cell-da75a522fb1ced67",
     "locked": true,
     "schema_version": 3,
     "solution": false,
     "task": false
    }
   },
   "outputs": [
    {
     "data": {
      "application/vnd.jupyter.widget-view+json": {
       "model_id": "",
       "version_major": 2,
       "version_minor": 0
      },
      "text/plain": [
       "VBox(children=(HTMLMath(value='Enter your estimate of the error on the mean of the fractal dimension (5 marks)…"
      ]
     },
     "metadata": {},
     "output_type": "display_data"
    }
   ],
   "source": [
    "sigma=mywidgets.myFloatBox('Percolation','P2',r'$\\sigma_{\\langle d\\rangle}=$'\n",
    "                           , 'Enter your estimate of the error on the mean of the fractal dimension (5 marks)')\n",
    "sigma.getWidget()\n"
   ]
  },
  {
   "cell_type": "code",
   "execution_count": 6,
   "metadata": {
    "deletable": false,
    "editable": false,
    "init_cell": true,
    "nbgrader": {
     "cell_type": "code",
     "checksum": "9352f2b1233653a8f4c09873eef3bbc0",
     "grade": true,
     "grade_id": "cell-6309f09e62ec782d",
     "locked": true,
     "points": 5,
     "schema_version": 3,
     "solution": false,
     "task": false
    }
   },
   "outputs": [],
   "source": [
    "# display(HTML('<hr>'))"
   ]
  },
  {
   "cell_type": "markdown",
   "metadata": {
    "deletable": false,
    "editable": false,
    "nbgrader": {
     "cell_type": "markdown",
     "checksum": "3d05c2fee66b5f0f94e7d2ff1964671f",
     "grade": false,
     "grade_id": "cell-4874dbf26aeb97d7",
     "locked": true,
     "schema_version": 3,
     "solution": false,
     "task": false
    }
   },
   "source": [
    "## b) The DLA model of cluster growth\n",
    "\n",
    "Complete the DLA growth model in the `Cluster` class, using the course notes. \n",
    "In brief, the growth algorithm for a DLA cluster is as follows:\n",
    "\n",
    "- create a cluster with a single seed at the centre, using the `Cluster` class you've developed\n",
    "- choose an inner radius, $r_1$, and an edge radius $r_2$.\n",
    "    - start a random walker from a location at distance close to $r_1$ from the seed, and let it walk\n",
    "        - if it hits any part of the existing cluster, add its last location to the cluster, and start a new walk\n",
    "        - if it crosses the outer boundary, $r>r_2$, terminate the random walk, and start a new walk\n",
    "- terminate the run when the cluster contains a specified number of elements\n",
    "\n",
    "In the cells below, $r_1$ is referred to as the \"radius\" and $r_2$ as the \"edge\".\n",
    "\n",
    "You may want to base the random walk on the implementation you wrote in lecture 6 on random walks.\n",
    "Use the cells below to verify some intermediate steps of this part of the assignment.\n",
    "\n",
    "        \n",
    "      "
   ]
  },
  {
   "cell_type": "code",
   "execution_count": 25,
   "metadata": {},
   "outputs": [],
   "source": [
    "# create a cluster, and add a seed to the centre\n",
    "size       = 101                  # the size here is only ever used for plotting\n",
    "ndim       = 2                    # we only do the 2 dimensional case\n",
    "periodic   = False                # non-periodic grid\n",
    "cent       = int(size/2)          # put the seed in the center of the grid\n",
    "seed       = (cent,) * ndim       # seed of cluster\n",
    "\n"
   ]
  },
  {
   "cell_type": "code",
   "execution_count": 26,
   "metadata": {
    "deletable": false,
    "nbgrader": {
     "cell_type": "code",
     "checksum": "547c471cffbe940eb1fb0902b20ced5b",
     "grade": false,
     "grade_id": "cell-c763059b1ca4b93d",
     "locked": false,
     "schema_version": 3,
     "solution": true,
     "task": false
    }
   },
   "outputs": [
    {
     "name": "stdout",
     "output_type": "stream",
     "text": [
      "Number of steps taken in this walk = 2072\n",
      "Saving track to file:  Randomwalk.png\n"
     ]
    },
    {
     "data": {
      "image/png": "[encoded data removed]",
      "text/plain": [
       "<Figure size 504x504 with 1 Axes>"
      ]
     },
     "metadata": {
      "needs_background": "light"
     },
     "output_type": "display_data"
    }
   ],
   "source": [
    "# as an example, perform a single walk to see what happens\n",
    "centre = seed\n",
    "radius = 20         # launch radius, r_1, for random walk\n",
    "edge   = 40         # outer edge radius, r_2\n",
    "\n",
    "# We specify a random number seed for this test, so you should always get the same shape of walk\n",
    "dla = Cluster(ndim=ndim, size=size, random_number_seed=12, periodic=periodic)\n",
    "dla.element_add(seed)\n",
    "track    = dla.DLA(centre, radius, edge)\n",
    "tracklen = len(track)\n",
    "print('Number of steps taken in this walk = {}'.format(tracklen))\n",
    "file   = \"Randomwalk.png\"  # name of the file to store the plot\n",
    "\n",
    "# YOUR CODE HERE\n",
    "### Nothing to implement: simply run this cell\n",
    "# the call below plots the track the random walk followed, before it terminated\n",
    "#     - either by travelling further than 'edge' from the seed\n",
    "#     - or by hitting the seed\n",
    "dla.ShowTrack(track, file=file)\n",
    "\n"
   ]
  },
  {
   "cell_type": "markdown",
   "metadata": {
    "deletable": false,
    "editable": false,
    "nbgrader": {
     "cell_type": "markdown",
     "checksum": "700ef8a30ffac6e498ef2700e4c3eb2c",
     "grade": false,
     "grade_id": "cell-2bb66d2028d81afa",
     "locked": true,
     "schema_version": 3,
     "solution": false,
     "task": false
    }
   },
   "source": [
    "You may want to compare your walk to the plot below. Your random walk should not look identical because it depends on the choice of seed for the random number dgenerator. If it looks *very* different you may have a bug somewhere in your code. \n",
    "\n",
    "Notice that in my case, the random walk terminates because it crosses the edge radius, $r_2$, and not because it hits the seed. If this happened when creating the DLA cluster, we would have to discard this walk and start a new one."
   ]
  },
  {
   "attachments": {
    "Randomwalk_solution.png": {
     "image/png": "[encoded data removed]"
    }
   },
   "cell_type": "markdown",
   "metadata": {},
   "source": [
    "![Randomwalk_solution.png](attachment:Randomwalk_solution.png)"
   ]
  },
  {
   "cell_type": "markdown",
   "metadata": {
    "deletable": false,
    "editable": false,
    "nbgrader": {
     "cell_type": "markdown",
     "checksum": "e45a996f4c8380ad1a17a811862e955b",
     "grade": false,
     "grade_id": "cell-de855c349553d44c",
     "locked": true,
     "schema_version": 3,
     "solution": false,
     "task": false
    }
   },
   "source": [
    "### Creating a DLA cluster\n",
    "\n",
    "Use the random walk model to create a DLA cluster with `nel = 400` elements in it. If you're lucky, you'll have to perform 400 random walks befor the cluster has 400 elements. In practice, many walkers reach the edge before they hit the cluster, so you'll need to perform many more walks.\n",
    "\n",
    "Use the cell below to plot the DLA cluster, saving the plot to a file.\n",
    "\n",
    "Take care with the parameter ``radius`` and ``edge``. The values for these parameters in the cell below are reasonable initializations values from where to start the walk (at a distance `radius` from the centre of the DLA cluster), and for when to abort the random walk (if the walker ventures further than `edge` from the centre of the cluster). However, as the cluster grows in size, you will need to increase both `radius` and `edge`.\n",
    "\n",
    "    - If radius is too small, the centre of the cluster will be too densely filled,\n",
    "        since all walkers are started too close in.\n",
    "    - If edge is too small, you again get a cluster that is too centrally concentrated.\n",
    "    - If edge and/or radius are too large, then the code becomes very inefficient, because the walker can run everywhere with little chance of ever hitting the cluster.\n",
    "\n",
    "Therefore, you may want to experiment with both these parameters, increasing them as the cluster grows in size."
   ]
  },
  {
   "cell_type": "code",
   "execution_count": 27,
   "metadata": {
    "deletable": false,
    "nbgrader": {
     "cell_type": "code",
     "checksum": "4e77cd5cd3192fd32620e30a21c07015",
     "grade": true,
     "grade_id": "cell-dd67b2c0d3dd784c",
     "locked": false,
     "points": 5,
     "schema_version": 3,
     "solution": true,
     "task": false
    }
   },
   "outputs": [
    {
     "name": "stdout",
     "output_type": "stream",
     "text": [
      "Saving cluster to file:  DLA.png\n",
      " Calculation finished, cpu time used =  29.566945552825928\n"
     ]
    },
    {
     "data": {
      "image/png": "[encoded data removed]",
      "text/plain": [
       "<Figure size 504x504 with 1 Axes>"
      ]
     },
     "metadata": {
      "needs_background": "light"
     },
     "output_type": "display_data"
    }
   ],
   "source": [
    "        \n",
    "        \n",
    "        \n",
    "        \n",
    "# Use this cell to compute the DLA cluster.\n",
    "\n",
    "# These are the cluster's parameters\n",
    "size     = 101                  # size of the grid is needed for plotting and setting the seed\n",
    "cent     = int(size/2)          # set the seed\n",
    "seed     = (cent,) * ndim       #\n",
    "periodic = False                # non-periodic boundary conditions\n",
    "dla      = Cluster(ndim=ndim, size=size, random_number_seed=12, periodic=periodic)\n",
    "dla.element_add(seed)\n",
    "\n",
    "# Approximate marking scheme: \n",
    "# DLA cluster looks OK: 3 marks\n",
    "# axes are labelled:    2 marks\n",
    "\n",
    "#  \n",
    "centre = seed    # centre of the cluster\n",
    "radius = 10      # start random walk at a distance of approximately 10 units from the centre\n",
    "edge   = 20      # terminate walk if wanders further than edge units from the centre\n",
    "nel    = 400     # terminate cluster growth if cluster contains nel elements\n",
    "\n",
    "# Hint: to speed up the calculation, I found it useful\n",
    "#   to set radius to radius = max([radius, 1.2 * rmax])\n",
    "#       where radius is the previous radius\n",
    "#             rmax is the maximum distance of a cluster element to the centre\n",
    "#   to set edge to edge = max([edge, 1.7 * radius])\n",
    "#       where edge is the previous value of the outer radius\n",
    "#             radius is the current starting radius\n",
    "#    This lets both the starting radius and the edge grow as the cluster grows in size\n",
    "\n",
    "# YOUR CODE HERE\n",
    "start_time = time.time()\n",
    "\n",
    "for r in range(1000):\n",
    "    rmax= max(dla.element_distances(centre).values())\n",
    "    radius = max([radius, 1.2 * rmax])\n",
    "    edge = max([edge, 1.7 * radius])\n",
    "    track=dla.DLA(centre, radius,edge)\n",
    "    \n",
    "\n",
    "    if len(dla.grid.keys())==nel:#number of element\n",
    "        break\n",
    "\n",
    "\n",
    "\n",
    "\n",
    "# Use ShowCluster to visualize the cluster. Set cut=[-1, -1] to show the full 2D cluster\n",
    "cut   = [-1, -1]\n",
    "file  = 'DLA.png'\n",
    "# YOUR CODE HERE\n",
    "### Nothing to add - simply run this cell\n",
    "title = 'DLA cluster'\n",
    "dla.ShowCluster(cut, file=file)\n",
    "cpu_time = time.time() - start_time\n",
    "print(\" Calculation finished, cpu time used = \", cpu_time)  "
   ]
  },
  {
   "cell_type": "code",
   "execution_count": 28,
   "metadata": {
    "deletable": false,
    "editable": false,
    "nbgrader": {
     "cell_type": "code",
     "checksum": "5d41bf74d9054d885ace014ae52c8613",
     "grade": false,
     "grade_id": "cell-754b127bfa95e43c",
     "locked": true,
     "schema_version": 3,
     "solution": false,
     "task": false
    },
    "tags": [
     "hide_input"
    ]
   },
   "outputs": [],
   "source": [
    "# fig, ax = plt.subplots(1, 1, figsize=(7,7))\n",
    "\n",
    "# # compute distance of each element to seed\n",
    "# distances = dla.element_distances(seed)\n",
    "# dist      = np.asarray(list(distances.values()))\n",
    "\n",
    "# # sort distances and ignore seed\n",
    "# sort   = np.sort(dist)\n",
    "# radius = sort[1:]\n",
    "# mass   = 1 + np.arange(len(radius))\n",
    "\n",
    "# # plot enclosed mass as a function of radius\n",
    "# ax.plot(np.log10(radius), np.log10(mass), '.')\n",
    "# ax.set_ylabel(r\"$\\log_{10} M(\\leq r)$\")\n",
    "# ax.set_title('DLA: enclosed mass as a function of radius')\n",
    "\n",
    "# # fit and over plot mass-radius relation\n",
    "# mask = (radius > 1) & (radius < 10.)   # fit central part, avoiding very centre and outskirts\n",
    "# slope, intercept, r, p, std_err = stats.linregress(np.log10(radius[mask]), np.log10(mass[mask]))\n",
    "# info = r\"slope = {0:2.2f} intercept = {1:2.2f}\".format(slope, 10**intercept)\n",
    "# print(info)\n",
    "# lograds = np.arange(0, 1, 0.01)\n",
    "# logm    = slope * lograds + intercept\n",
    "# val     = 10**intercept\n",
    "# label   = r\"$M(\\leq r)$ = {0:1.2f} $r^{{{1:1.2f}}}$\".format(val, slope)\n",
    "# ax.plot(lograds, logm, label=label)\n",
    "# ax.set_ylim([1.01, 2.99])\n",
    "\n",
    "# # annotations\n",
    "# ax.set_xlim([0.45, 1.58])\n",
    "# ax.set_xlabel(r\"$\\log_{10}(r)$\")\n",
    "# ax.legend(frameon=False)\n",
    "# fig.tight_layout()\n",
    "# fig.show()\n"
   ]
  },
  {
   "cell_type": "markdown",
   "metadata": {
    "deletable": false,
    "editable": false,
    "nbgrader": {
     "cell_type": "markdown",
     "checksum": "d8b8ef9d05cadd6db4e88347799b4bab",
     "grade": false,
     "grade_id": "cell-2b4d126204ff1527",
     "locked": true,
     "schema_version": 3,
     "solution": false,
     "task": false
    }
   },
   "source": [
    "You may want to compare your cluster to the plot below. Your cluster should not look identical, but if your cluster is much more concentrated for example, then there is likely something wrong in your implementation of DLA."
   ]
  },
  {
   "cell_type": "markdown",
   "metadata": {
    "deletable": false,
    "editable": false,
    "nbgrader": {
     "cell_type": "markdown",
     "checksum": "c6ac2b9bdaa97199a8ab41c6c834f8ce",
     "grade": false,
     "grade_id": "cell-73da944f6b64311a",
     "locked": true,
     "schema_version": 3,
     "solution": false,
     "task": false
    }
   },
   "source": [
    "![DLAcluster_solution.png](attach![image.png](attachment:71d5ef50-e82c-4086-b690-93170b2d8d79.png)ment:DLAcluster_solution.png)"
   ]
  },
  {
   "cell_type": "markdown",
   "metadata": {},
   "source": [
    "Now generate 50 DLA clusters with `nel=250` elements each. For each realisation, compte the enclosed mass as a function of radius, $M(\\leq r)$, just as we did for the Eden case. Determine the fractal dimension, $d$, by fitting the relation $M(\\leq r)\\propto r^d$, over the radial range $r\\in ]1, 10[$, as before.\n",
    "This calculation may take some time to perform, around 10 minutes or so.\n",
    "\n",
    "Compute the mean value of $d$, $\\langle d\\rangle$, and estimate the error on the mean.\n",
    "Make a histogram of the values of $d$ for your 50 realisations, and over plot a Gaussian fit, indicating the mean.\n",
    "\n",
    "Because the generation of the DLAs takes so long, you may want to use one cell to perform the calculation, and create one or more extra cells to compoute the statistics and make the plots.\n"
   ]
  },
  {
   "cell_type": "code",
   "execution_count": 29,
   "metadata": {
    "deletable": false,
    "nbgrader": {
     "cell_type": "code",
     "checksum": "a5e31815685a0ace412c2f7e1f4dc1e0",
     "grade": false,
     "grade_id": "cell-010cfbc4c221323d",
     "locked": false,
     "schema_version": 3,
     "solution": true,
     "task": false
    }
   },
   "outputs": [
    {
     "name": "stdout",
     "output_type": "stream",
     "text": [
      " Calculation finished, cpu time used =  789.6837174892426\n"
     ]
    }
   ],
   "source": [
    "# Use this cell to generate the 50 DLAs, and compute the fractal dimension for each.\n",
    "# Make sure to save the values of the dimension, d, for all the runs, so you can make the histogram later.\n",
    "# My calculation takes about 700 seconds to generate the 50 DLAs, requiring around 500 walkers per cluster.\n",
    "# Hint: when implementing the code in this cell, you may want to generate fewer than 50 clusters\n",
    "#   this way, you can test your code without having to wait a long time for the cell too complete\n",
    "#   Once your are happy with your code, perform the final \"production\" calculation.\n",
    "# YOUR CODE HERE\n",
    "start_time = time.time()\n",
    "size     = 101                \n",
    "cent     = int(size/2)         \n",
    "seed     = (cent,) * ndim       \n",
    "periodic = False  \n",
    "slopes2=[]\n",
    "for i in range(50):\n",
    "    dla      = Cluster(ndim=ndim, size=size, random_number_seed=i, periodic=periodic)\n",
    "    dla.element_add(seed)\n",
    "    centre = seed   \n",
    "    radius = 10      \n",
    "    edge   = 20      \n",
    "    nel    = 250     \n",
    "    origin2=list(dla.grid.keys())[0]\n",
    "\n",
    "    for r in range(1000):\n",
    "        rmax= max(dla.element_distances(centre).values())\n",
    "        radius = max([radius, 1.2 * rmax])\n",
    "        edge = max([edge, 1.7 * radius])\n",
    "        track=dla.DLA(centre, radius,edge)\n",
    "        if len(dla.grid.keys())==nel:\n",
    "            break\n",
    "    \n",
    "    dist_ori2=list(dla.element_distances(origin2).values())\n",
    "    dist_ori2.remove(0.0)\n",
    "    dist_sorted2=sorted(dist_ori2)\n",
    "    m2=[]\n",
    "    temp2=[]\n",
    "    for j in range(len(dist_sorted2)):\n",
    "        m2.append(j+1)\n",
    "    slo2=0\n",
    "    c2=0\n",
    "    x2=np.log10(dist_sorted2)\n",
    "    y2=np.log10(m2)\n",
    "    res2 = stats.linregress(x2, y2)\n",
    "    slo2=res2.slope\n",
    "    c2=res2.intercept\n",
    "    slopes2.append(slo2)\n",
    "slopes_a2 = np.asarray(slopes2)\n",
    "\n",
    "cpu_time = time.time() - start_time\n",
    "print(\" Calculation finished, cpu time used = \", cpu_time)     "
   ]
  },
  {
   "cell_type": "code",
   "execution_count": 30,
   "metadata": {
    "deletable": false,
    "nbgrader": {
     "cell_type": "code",
     "checksum": "a1c619b573167d3e51fa9c577b524695",
     "grade": true,
     "grade_id": "cell-622ea45cab9bdb60",
     "locked": false,
     "points": 10,
     "schema_version": 3,
     "solution": true,
     "task": false
    },
    "scrolled": true
   },
   "outputs": [
    {
     "name": "stdout",
     "output_type": "stream",
     "text": [
      "1.5 0.011139606871035195\n"
     ]
    },
    {
     "data": {
      "image/png": "[encoded data removed]",
      "text/plain": [
       "<Figure size 432x288 with 1 Axes>"
      ]
     },
     "metadata": {
      "needs_background": "light"
     },
     "output_type": "display_data"
    }
   ],
   "source": [
    "# Use this cell to generate compute and plot the histogram of d values, \n",
    "# and compute the requested statistical properties of the fractal dimensions.\n",
    "# Hint: you may want to use stats.describe to compute statistical properties such as mean etc.\n",
    "\n",
    "\n",
    "# approximate marking scheme\n",
    "# plot is labelled:                        2 marks\n",
    "# histogram of measured values looks OK:   4 marks\n",
    "# Gaussian is over plotted and looks OK:   2 marks \n",
    "# Mean of The Gaussian is indicated:       2 marks\n",
    "\n",
    "# YOUR CODE HERE\n",
    "#print(slopes2)\n",
    "hist, edges = np.histogram(slopes2, bins = int(len(slopes2)/10))\n",
    "centre = 0.5 * (edges[1:]+edges[0:-1])\n",
    "widths = (edges[1:]-edges[0:-1])\n",
    "hist   = hist / len(slopes2) / widths \n",
    "mu=np.mean(slopes2)\n",
    "sig=np.std(slopes2)\n",
    "mu_error=sig/(np.sqrt(len(slopes2)))\n",
    "data=np.arange(min(slopes2),max(slopes2),(max(slopes2)-min(slopes2))/len(slopes2))\n",
    "gaussian = lambda i: (1/(sig*np.sqrt(2*np.pi)))*np.exp((-(i-mu)**2)/(2*sig**2))\n",
    "gaussian_data = gaussian(data)\n",
    "color = 'tab:red'\n",
    "\n",
    "plt.plot(data,gaussian_data/len(data),label = 'Gaussian', color=color)\n",
    "plt.bar(centre, hist/len(slopes2), width=widths, align='center', facecolor=\"none\",label='Histogram', edgecolor='black')\n",
    "plt.xlabel(r'Fractal dimensions')\n",
    "plt.ylabel(r'Probability')\n",
    "plt.xlim(1.3,2,3)\n",
    "plt.legend()\n",
    "plt.title('histogram of distances walked')\n",
    "print(round(mu,1),mu_error)"
   ]
  },
  {
   "cell_type": "code",
   "execution_count": 7,
   "metadata": {
    "deletable": false,
    "editable": false,
    "init_cell": true,
    "nbgrader": {
     "cell_type": "code",
     "checksum": "a4a3189802de9640eeb8f94a2a687c48",
     "grade": false,
     "grade_id": "cell-8ab601943163a930",
     "locked": true,
     "schema_version": 3,
     "solution": false,
     "task": false
    },
    "scrolled": false
   },
   "outputs": [
    {
     "data": {
      "application/vnd.jupyter.widget-view+json": {
       "model_id": "",
       "version_major": 2,
       "version_minor": 0
      },
      "text/plain": [
       "VBox(children=(HTMLMath(value='Enter your estimate of the mean fractal dimension to two significant figures (5…"
      ]
     },
     "metadata": {},
     "output_type": "display_data"
    }
   ],
   "source": [
    "dimenDLA=mywidgets.myFloatBox('Percolation','P3',r'$\\langle d\\rangle=$', \n",
    "                              'Enter your estimate of the mean fractal dimension to two significant figures (5 marks)')\n",
    "dimenDLA.getWidget()\n"
   ]
  },
  {
   "cell_type": "code",
   "execution_count": 8,
   "metadata": {
    "deletable": false,
    "editable": false,
    "init_cell": true,
    "nbgrader": {
     "cell_type": "code",
     "checksum": "94505e064b1d9ecf447093607cda71f6",
     "grade": true,
     "grade_id": "cell-38d419967dfd4888",
     "locked": true,
     "points": 5,
     "schema_version": 3,
     "solution": false,
     "task": false
    }
   },
   "outputs": [],
   "source": [
    "# display(HTML('<hr>'))"
   ]
  },
  {
   "cell_type": "code",
   "execution_count": 9,
   "metadata": {
    "deletable": false,
    "editable": false,
    "init_cell": true,
    "nbgrader": {
     "cell_type": "code",
     "checksum": "74acb1c5f66d897327b1597a24b6550c",
     "grade": false,
     "grade_id": "cell-609712e839647b1c",
     "locked": true,
     "schema_version": 3,
     "solution": false,
     "task": false
    }
   },
   "outputs": [
    {
     "data": {
      "application/vnd.jupyter.widget-view+json": {
       "model_id": "",
       "version_major": 2,
       "version_minor": 0
      },
      "text/plain": [
       "VBox(children=(HTMLMath(value='Enter your estimate of the error on the mean of the fractal dimension (5 marks)…"
      ]
     },
     "metadata": {},
     "output_type": "display_data"
    }
   ],
   "source": [
    "sigmaDLA=mywidgets.myFloatBox('Percolation','P4',r'$\\sigma_{\\langle d\\rangle}=$'\n",
    "                              , 'Enter your estimate of the error on the mean of the fractal dimension (5 marks)')\n",
    "sigmaDLA.getWidget()\n"
   ]
  },
  {
   "cell_type": "code",
   "execution_count": 10,
   "metadata": {
    "deletable": false,
    "editable": false,
    "init_cell": true,
    "nbgrader": {
     "cell_type": "code",
     "checksum": "21bb24616b4ee8b692bc16e1e4e9d85d",
     "grade": true,
     "grade_id": "cell-cb74d20529ea915f",
     "locked": true,
     "points": 5,
     "schema_version": 3,
     "solution": false,
     "task": false
    }
   },
   "outputs": [],
   "source": [
    "# display(HTML('<hr>'))"
   ]
  },
  {
   "cell_type": "markdown",
   "metadata": {
    "deletable": false,
    "editable": false,
    "nbgrader": {
     "cell_type": "markdown",
     "checksum": "e733068a56f6dbe8b38629bcba0da740",
     "grade": false,
     "grade_id": "cell-4f2d3929b7938733",
     "locked": true,
     "schema_version": 3,
     "solution": false,
     "task": false
    }
   },
   "source": [
    "## c) Percolation"
   ]
  },
  {
   "cell_type": "markdown",
   "metadata": {
    "deletable": false,
    "editable": false,
    "nbgrader": {
     "cell_type": "markdown",
     "checksum": "20f679b22316a017ed817f84ec63822b",
     "grade": false,
     "grade_id": "cell-3991cb1b23517f5f",
     "locked": true,
     "schema_version": 3,
     "solution": false,
     "task": false
    }
   },
   "source": [
    "### Identifying a cluster\n",
    "\n",
    "The cell below defines a class `GroupFinder` that identifies groups in a cluster.\n",
    "\n",
    "The structure of the cluster required by GroupFinder is the same as what we had so far. The `Eden` cluster and the `DLA` cluster have the right format. Given a cluster, the groupfinder partitions the elements in a cluster by making sure that any two elements of the cluster that are nearest-neighbours, belong to the same group.\n",
    "\n",
    "How to use the `GroupFinder` is explored in the following cells.\n",
    "\n",
    "\n"
   ]
  },
  {
   "cell_type": "code",
   "execution_count": 35,
   "metadata": {},
   "outputs": [],
   "source": [
    "''' This class contains methods to\n",
    "   - identify all groups in  a given cluster\n",
    "        a group is a set of sites that are connected by mutual nearest-neighbours\n",
    "   - examine whether a group percolates\n",
    " You should not have to edit any of these methods\n",
    " Use the cells below to learn how to use the method to identify groups, and examine percolation '''\n",
    "class GroupFinder():\n",
    "    # return a list of connected clusters\n",
    "    def __init__(self, cluster):\n",
    "        self.cluster = cluster\n",
    "        # Each element within a group will point to a common element of the group - the head\n",
    "        self.heads   = {}\n",
    "        for element in self.cluster.grid:\n",
    "            self.heads[element] = element  # initialize by assuming each element is in its own group\n",
    "            \n",
    "    # Iteratively loop over all elements in the cluster to identify groups\n",
    "    def FoF(self):\n",
    "        # Begin partitioning \n",
    "        #    We only loop over pairs of neighbours\n",
    "        maxcount = 10000\n",
    "        for element in self.cluster.grid:\n",
    "            element_head = element\n",
    "            count = 0\n",
    "            while element_head != self.heads[element_head] and count < maxcount:\n",
    "                element_head = self.heads[element_head]\n",
    "            count = 0\n",
    "            for neighbour in self.cluster.element_neighbours(element)[::2]:\n",
    "                count = 0\n",
    "                if neighbour in self.cluster.grid:\n",
    "                    neighbour_head = neighbour\n",
    "                    while neighbour_head != self.heads[neighbour_head] and count < maxcount:\n",
    "                        count += 1\n",
    "                        neighbour_head = self.heads[neighbour_head]\n",
    "                    self.heads[neighbour_head] = element_head\n",
    "            if count == maxcount:\n",
    "                raise Exception(\"Error: partitioning does not converge\")\n",
    "\n",
    "        #\n",
    "        count = 0\n",
    "        for element in self.cluster.grid:\n",
    "            element_head = element\n",
    "\n",
    "            while element_head != self.heads[element_head] and count < maxcount:\n",
    "                element_head = self.heads[element_head]\n",
    "            self.heads[element] = element_head\n",
    "        \n",
    "        \n",
    "        unique  = {}\n",
    "        ngroups = 0\n",
    "        for head in self.heads:\n",
    "            if head not in unique:\n",
    "                unique[head] = ngroups\n",
    "                ngroups     += 1\n",
    "        \n",
    "        groupid = []\n",
    "        for element in self.cluster.grid:\n",
    "            groupid.append(unique[self.heads[element]])\n",
    "\n",
    "        return np.asarray(groupid)\n",
    "\n",
    "    # Alternative group finder   \n",
    "    def Groups(self):\n",
    "        groupid    = np.arange(len(self.cluster.grid), dtype=int)\n",
    "        groupindx  = {}\n",
    "        for index, element in enumerate(self.cluster.grid):\n",
    "            groupindx[element] = index\n",
    "        success = False\n",
    "        count   = 0\n",
    "        while not success:\n",
    "            success = True\n",
    "            for element in self.cluster.grid:\n",
    "                for neighbour in self.cluster.element_neighbours(element):\n",
    "                    if neighbour in self.cluster.grid:\n",
    "                        indx1 = groupid[groupindx[element]]\n",
    "                        indx2 = groupid[groupindx[neighbour]]\n",
    "                        if indx1 < indx2:\n",
    "                            groupid[groupid==indx2] = indx1\n",
    "                            success = False\n",
    "                            count += 1\n",
    "                        elif indx1 > indx2:\n",
    "                            groupid[groupid==indx1] = indx2\n",
    "                            success = False\n",
    "                            count += 1\n",
    "            print(\" count = \", count)\n",
    "        return groupid\n",
    "\n",
    "    # Examine the percolation of groups identified using a group finder\n",
    "    # Loop over all unique groups in groupdid\n",
    "    #     for each group, loop over all dimensions\n",
    "    #     if a group percolates, store its id and the dimension that it percoaltes in\n",
    "    #   return this to the calling routine\n",
    "    def PercolateGrid(self, groupid):\n",
    "        # determine whether thisgroup percolates\n",
    "        \n",
    "        # consistency: only works for non-periodic grids\n",
    "        if self.cluster.periodic:\n",
    "            raise Exception(\" We only implement non-periodic grids \")\n",
    "            \n",
    "        #     \n",
    "        groupindx  = {}\n",
    "        for index, element in enumerate(self.cluster.grid):\n",
    "            groupindx[element] = index\n",
    "         \n",
    "        # extract group by group\n",
    "        result = []\n",
    "        for group in np.unique(groupid):\n",
    "            newcluster = Cluster(self.cluster.ndim, self.cluster.size, self.cluster.periodic)\n",
    "            for element in self.cluster.grid:\n",
    "                if groupid[groupindx[element]] == group:\n",
    "                    newcluster.grid[element] = True \n",
    "                    \n",
    "            # find whether this group percolates\n",
    "            for dimen in range(self.cluster.ndim):\n",
    "                if self.PercolateGroup(newcluster, dimen):\n",
    "                    result.append([group, dimen])\n",
    "        return result                \n",
    "    \n",
    "    # This method examines whether a given group percolates in a given dimension\n",
    "    def PercolateGroup(self, cluster, dimen):\n",
    "        # inputs:\n",
    "        #    self: the class GroupFinder\n",
    "        #    cluster: one of the groups identified by the group finder\n",
    "        #    dimen: the dimension to check for percolation\n",
    "\n",
    "        # consistency check\n",
    "        if dimen < 0 or dimen >= cluster.ndim:\n",
    "            raise Exception(\" too many dimensions \")\n",
    "        \n",
    "        # Determine with this cluster touches both boundaries in dimension dimen of the dimensions simultaneously\n",
    "        x = [sp[dimen] for sp in cluster.grid.keys()]\n",
    "        return (min(x) == 0 and max(x) == cluster.size-1)\n",
    "\n",
    "    ####### The routines below are useful for plotting groups #################\n",
    "    def ExtractGroup(self, groupid, plotid, cut):\n",
    "        groupindx  = {}\n",
    "        for index, element in enumerate(self.cluster.grid):\n",
    "            groupindx[element] = index\n",
    "            \n",
    "        newcluster = Cluster(self.cluster.ndim, self.cluster.size, self.cluster.periodic)\n",
    "        for element in self.cluster.grid:\n",
    "            if groupid[groupindx[element]] == plotid:\n",
    "                newcluster.grid[element] = True\n",
    "            \n",
    "        xs, ys  = newcluster.ExtractSlice(cut)\n",
    "        return xs, ys    \n",
    "    \n",
    "    def ShowGroup(self, groupid, plotid, cut):\n",
    "        xs, ys = self.ExtractGroup(groupid, plotid, cut)\n",
    "        ax.plot(xs, ys, 'o',alpha=0.2)[0]\n",
    "\n",
    "   "
   ]
  },
  {
   "cell_type": "markdown",
   "metadata": {
    "deletable": false,
    "editable": false,
    "nbgrader": {
     "cell_type": "markdown",
     "checksum": "895bfa62a20c6d0edbfcd5377340d7ee",
     "grade": false,
     "grade_id": "cell-7e3f7fc485b789c5",
     "locked": true,
     "schema_version": 3,
     "solution": false,
     "task": false
    }
   },
   "source": [
    "### Examine the cell to see how the methods of GroupFinder and Cluster can be used to\n",
    " - create a cluster to work on\n",
    " - identify the groups inside the cluster\n",
    " - plot the result\n"
   ]
  },
  {
   "cell_type": "code",
   "execution_count": 36,
   "metadata": {},
   "outputs": [
    {
     "name": "stdout",
     "output_type": "stream",
     "text": [
      "group = 0 has id = 9969 and 1823 elements\n",
      "group = 1 has id = 9990 and 2311 elements\n",
      "group = 2 has id = 9999 and 3989 elements\n",
      "group = 3 has id = 10001 and 1882 elements\n",
      "Number of unique groups =  4\n",
      "Number of elements in largest group =  3989\n"
     ]
    },
    {
     "data": {
      "image/png": "[encoded data removed]",
      "text/plain": [
       "<Figure size 504x504 with 1 Axes>"
      ]
     },
     "metadata": {
      "needs_background": "light"
     },
     "output_type": "display_data"
    }
   ],
   "source": [
    "# set-up the grid parameters\n",
    "size      = 512         # size of the lattice\n",
    "ndim      = 2           # number of dimensions\n",
    "periodic  = True        # periodic boundary conditions\n",
    "rseed     = 12          # seed for random number generator\n",
    "cluster   = Cluster(size=size, ndim=ndim, periodic=periodic, random_number_seed = rseed)\n",
    "\n",
    "# Use the Eden model to grow some clusters on the lattice\n",
    "#    starting seeds\n",
    "seeds = ((50,50),(50,200),(100,50),(200,400),(300,200))\n",
    "for seed in seeds:\n",
    "    cluster.element_add(seed)    \n",
    "\n",
    "# allow each cluster to grow\n",
    "for i in range(10000):\n",
    "    cluster.Eden()\n",
    "\n",
    "# Now identify connected seeds\n",
    "groupfinder = GroupFinder(cluster)\n",
    "\n",
    "# Assign each element to its group. Elements of the same group have the same groupid\n",
    "groupid     = groupfinder.FoF()\n",
    "grouplen    = []\n",
    "\n",
    "# Next, count the number of elements in each separate group\n",
    "groups = np.arange(len(np.unique(groupid)))\n",
    "for (id,group) in zip(np.unique(groupid), groups):\n",
    "    count = len(np.where(groupid == id)[0])  # number of elements in this group\n",
    "    grouplen.append(count)\n",
    "    info = r\"group = {0:1d} has id = {1:4d} and {2:3d} elements\".format(group, id, count)\n",
    "    print(info)\n",
    "# Print some statistics    \n",
    "print(\"Number of unique groups = \", len(np.unique(groupid)))\n",
    "print(\"Number of elements in largest group = \", max(grouplen))\n",
    "\n",
    "# Now plot all groups, identifiying different groups by their colour\n",
    "fig, ax = plt.subplots(1, 1, figsize=(7,7))\n",
    "ax.set_aspect('equal')\n",
    "ax.set_xlim(-1, cluster.size)\n",
    "ax.set_ylim(-1, cluster.size)\n",
    "ax.set_xlabel('x-position')\n",
    "ax.set_ylabel('y-position')\n",
    "ax.set_title(' connected groups')\n",
    "ax.grid()\n",
    "for id in np.unique(groupid):\n",
    "    xs, ys = groupfinder.ExtractGroup(groupid, id, cut)\n",
    "    ax.plot(xs, ys, ',', alpha=0.2)[0]\n",
    "\n",
    "# over plot the starting locations\n",
    "for seed in seeds:\n",
    "    x = seed[0]\n",
    "    y = seed[1]\n",
    "    ax.plot(x, y, 'D', color='red')\n",
    "fig.tight_layout()\n",
    "fig.show()\n",
    "\n",
    "# Description: we grew Eden clusters starting from 5 different seed locations.\n",
    "#   The seeds of these clusters are indicated with the red diamonds\n",
    "# Running the group finder, we identified 4 separate groups - as you can see, the green group consists\n",
    "#     of 2 Eden clusters that just touch - hence they form part of a single group"
   ]
  },
  {
   "cell_type": "markdown",
   "metadata": {
    "deletable": false,
    "editable": false,
    "nbgrader": {
     "cell_type": "markdown",
     "checksum": "adbe3697b2fd1c85ba9f625ccf35cee2",
     "grade": false,
     "grade_id": "cell-cd852e229bcd777f",
     "locked": true,
     "schema_version": 3,
     "solution": false,
     "task": false
    }
   },
   "source": [
    "We will now use the group finder to study percolation.\n",
    "\n",
    "Begin by examining the method `Random` in the class `Cluster`, which has as parameter $p$, in addition to size, ndim and periodic.  In this method, we generate a random number, $r$, for each grid point of square mesh, [size, size] in extent. If $r<p$, then we add this element to the cluster."
   ]
  },
  {
   "cell_type": "code",
   "execution_count": 37,
   "metadata": {},
   "outputs": [
    {
     "name": "stdout",
     "output_type": "stream",
     "text": [
      " generating sample grid with probability =  0.2  fraction of occupied elements=  0.1968\n",
      " generating sample grid with probability =  0.4  fraction of occupied elements=  0.3932\n",
      " generating sample grid with probability =  0.6  fraction of occupied elements=  0.5944\n"
     ]
    },
    {
     "data": {
      "image/png": "[encoded data removed]",
      "text/plain": [
       "<Figure size 504x504 with 1 Axes>"
      ]
     },
     "metadata": {
      "needs_background": "light"
     },
     "output_type": "display_data"
    },
    {
     "data": {
      "image/png": "[encoded data removed]",
      "text/plain": [
       "<Figure size 504x504 with 1 Axes>"
      ]
     },
     "metadata": {
      "needs_background": "light"
     },
     "output_type": "display_data"
    },
    {
     "data": {
      "image/png": "[encoded data removed]",
      "text/plain": [
       "<Figure size 504x504 with 1 Axes>"
      ]
     },
     "metadata": {
      "needs_background": "light"
     },
     "output_type": "display_data"
    }
   ],
   "source": [
    "# Example of the method Cluster.Random for generating a cluster of points on a regular grid, with a given probability\n",
    "\n",
    "size = 50         # size of the grid\n",
    "ndim = 2          # dimensionality\n",
    "\n",
    "# variable needed by ShowCluster\n",
    "# cut = np.zeros(ndim)\n",
    "# cut[0] = -1\n",
    "# cut[1] = -1\n",
    "# cut    = tuple(cut)\n",
    "cut = [-1, -1]\n",
    "\n",
    "# generate some with different probabilities as an example\n",
    "\n",
    "# first example\n",
    "probability = 0.2\n",
    "cluster = Cluster(ndim=ndim, size=size, random_number_seed=1, periodic=False)\n",
    "cluster.Random(probability)\n",
    "fraction = len(cluster.grid) / float(size**ndim)\n",
    "print(\" generating sample grid with probability = \", probability,\" fraction of occupied elements= \", fraction)\n",
    "cluster.ShowCluster(cut)\n",
    "\n",
    "# second example\n",
    "probability = 0.4\n",
    "cluster = Cluster(ndim=ndim, size=size, random_number_seed=1, periodic=False)\n",
    "cluster.Random(probability)\n",
    "fraction = len(cluster.grid) / float(size**ndim)\n",
    "print(\" generating sample grid with probability = \", probability,\" fraction of occupied elements= \", fraction)\n",
    "cluster.ShowCluster(cut)\n",
    "\n",
    "# third example\n",
    "probability = 0.6\n",
    "cluster = Cluster(ndim=ndim, size=size, random_number_seed=1, periodic=False)\n",
    "cluster.Random(probability)\n",
    "fraction = len(cluster.grid) / float(size**ndim)\n",
    "print(\" generating sample grid with probability = \", probability,\" fraction of occupied elements= \", fraction)\n",
    "cluster.ShowCluster(cut)\n",
    "\n",
    "\n"
   ]
  },
  {
   "cell_type": "markdown",
   "metadata": {
    "deletable": false,
    "editable": false,
    "nbgrader": {
     "cell_type": "markdown",
     "checksum": "c9ec03be0965c4d9a8672ca4e8811e26",
     "grade": false,
     "grade_id": "cell-17f952b0e40efd34",
     "locked": true,
     "schema_version": 3,
     "solution": false,
     "task": false
    }
   },
   "source": [
    "We now use the group finder to identify unique groups. As an example, we use the last cluster with $p=0.6$"
   ]
  },
  {
   "cell_type": "code",
   "execution_count": 38,
   "metadata": {},
   "outputs": [
    {
     "name": "stdout",
     "output_type": "stream",
     "text": [
      "Number of unique groups =  100\n",
      "Biggest group =  610\n"
     ]
    },
    {
     "data": {
      "image/png": "[encoded data removed]",
      "text/plain": [
       "<Figure size 504x504 with 1 Axes>"
      ]
     },
     "metadata": {
      "needs_background": "light"
     },
     "output_type": "display_data"
    }
   ],
   "source": [
    "# we now use the group finder to identify clusters in the last last cluster as an example\n",
    "groupfinder = GroupFinder(cluster)\n",
    "groupid     = groupfinder.FoF()\n",
    "grouplen    = []\n",
    "for id in np.unique(groupid):\n",
    "    grouplen.append(len(np.where(groupid == id)[0]))\n",
    "\n",
    "print(\"Number of unique groups = \", len(np.unique(groupid)))\n",
    "print(\"Biggest group = \", max(grouplen))\n",
    "\n",
    "fig, ax = plt.subplots(1, 1, figsize=(7,7))\n",
    "ax.set_aspect('equal')\n",
    "ax.set_xlim(-1, cluster.size)\n",
    "ax.set_ylim(-1, cluster.size)\n",
    "ax.grid()\n",
    "for id in np.unique(groupid):\n",
    "    xs, ys = groupfinder.ExtractGroup(groupid, id, cut)\n",
    "    ax.plot(xs, ys, 'o', alpha=0.2)[0]\n",
    "ax.set_xlabel(r\"$x$\")\n",
    "ax.set_ylabel(r\"$y$\")\n",
    "occ  = len(cluster.grid) / float(size**ndim)\n",
    "info = r\"Probability = {0:1.2f}, occupancy={1:1.2f}\".format(cluster.p, occ)\n",
    "ax.set_title(info)\n",
    "fig.show()    \n"
   ]
  },
  {
   "cell_type": "markdown",
   "metadata": {
    "deletable": false,
    "editable": false,
    "nbgrader": {
     "cell_type": "markdown",
     "checksum": "ba6d743b51c61447c6627b98b058c379",
     "grade": false,
     "grade_id": "cell-b2490ddec34a1efa",
     "locked": true,
     "schema_version": 3,
     "solution": false,
     "task": false
    }
   },
   "source": [
    "Having played with random grids, and dividing a cluster into a set of connected groups, we will analyse\n",
    "the appearance of a **percolating** cluster. A percolating cluster is **a group that touches both sides of the grid**\n",
    "(either in the (horizontal) $x$-direction, or in the (vertical) $y$-direction). In the example above, you will see that the largest cluster percolates in both the vertical direction and the horizontal directions.\n",
    "\n",
    "If the probability $p$ is small, then most clusters are small as well, and usually none of them percolates. If the probability $p$ is large, then there is usually one large cluster that percolates in either $x$ or $y$, or indeed in both directions.\n",
    "\n",
    "\n",
    "As discussed in the lecture, the transition between these two regimes - no percolating cluster on average at low $p$, versus the presence of one or more percolating clusters, depends on the size of the grid, as well as on the value of $p$. Let $p_c$ be the characteristic value of $p$ where the transition happens. Operationally we will define $p_c$ as follows:\n",
    "\n",
    "  - $p<p_c$: the average number of percolating clusters is < 50 per cent\n",
    "  - $p>=p_c$: the average number of percolating clusters is >= 50 per cent\n",
    "\n",
    "To determine the average, we need to generate many random grids with a given value of $p$.\n",
    "\n",
    "Proceed as follows:\n",
    "\n",
    " - Generate a number of random clusters for a range of values of $p$. Set size=50, and ndim=2, periodic=False\n",
    " - For each cluster, identify the groups, and examine whether any of the groups percolates. Compute the fraction, $f_{\\rm perc}$, of clusters with this value of $p$, that have (one or more) percolating groups\n",
    "- Plot $f_{\\rm perc}$ versus $p$ to estimate $p_c$.\n",
    "- Reduce the range in $p$ to zoom in on $p_c$, and increase the number of clusters generated per $p$ value, to measure $p_c$ more accurately.\n",
    "- Compute and report your value of $p_c$ to 3 significant figures\n",
    "\n",
    "Because the generation of the random clusters takes time, you may want perform that calculation in one cell and save the results. Then create one or more cells to create the plots and do the analysis."
   ]
  },
  {
   "cell_type": "code",
   "execution_count": 39,
   "metadata": {
    "deletable": false,
    "nbgrader": {
     "cell_type": "code",
     "checksum": "9bd9adcd37a92cb4f8012b223fd4da62",
     "grade": false,
     "grade_id": "cell-64f4f163a3083d47",
     "locked": false,
     "schema_version": 3,
     "solution": true,
     "task": false
    }
   },
   "outputs": [
    {
     "name": "stdout",
     "output_type": "stream",
     "text": [
      " Calculation finished, cpu time used =  240.31918668746948\n"
     ]
    }
   ],
   "source": [
    "# Use this cell to zoom in on the calculation of $p_c$\n",
    "# make sure the computation time does not exceed 6 minutes\n",
    "# Hint: when implementing the code in this cell, you may once more start with fewer trial values\n",
    "#   to speed-up the calculation. Then perform the production run. My code takes around 200 seconds\n",
    "size = 50         # size of the grid\n",
    "ndim = 2          # dimensionality\n",
    "\n",
    "# You may want to use this set of values to evalaute the probability\n",
    "\n",
    "# pcs is the set of values of the probability you may want to try\n",
    "pnew   = np.arange(0.4,0.55, 0.05)\n",
    "pcs    = pnew\n",
    "pnew   = np.arange(0.56, 0.58, 0.01); pcs = np.concatenate((pcs, pnew))\n",
    "pnew   = np.arange(0.580, 0.5815, 0.0003); pcs = np.concatenate((pcs, pnew))\n",
    "pnew   = np.arange(0.582, 0.6, 0.01); pcs = np.concatenate((pcs, pnew))\n",
    "pnew   = np.arange(0.6, 0.75, 0.05); pcs = np.concatenate((pcs, pnew))\n",
    "\n",
    "# I experimented with the number of independent lattice to generate, for each p in pcs\n",
    "# For example for small p (p=0.4, say), the fraction of realisations with a percolating cluster is very low\n",
    "# In contrast for large p (p=0.75, say), most lattices contain a percolating cluster\n",
    "# Therefore in those cases there is no need to generate many realisation (I used used 20) - the answer is pretty clear\n",
    "# On the other hand, close to the critical value pc of p, you do need to generate many realisations \n",
    "#        to avoid the estimate being too noisy (I used 150)\n",
    "# For intermediate values, you can use intermediate values of the number of realisations to try\n",
    "#   You may want to try using a small number of realisations for all p first, and then up the number around\n",
    "#   the critical value, pc.\n",
    "\n",
    "# YOUR CODE HERE\n",
    "start_time = time.time()\n",
    "Percol_pc={}\n",
    "P_error={}\n",
    "uni={}\n",
    "for i in range(150):\n",
    "    Frac=[]\n",
    "    error=[]\n",
    "    for pc in pcs:\n",
    "        probability = pc\n",
    "        cluster = Cluster(ndim=ndim, size=size, random_number_seed=i, periodic=False)\n",
    "        cluster.Random(probability)\n",
    "     \n",
    "        groupfinder = GroupFinder(cluster)\n",
    "        groupid     = groupfinder.FoF()\n",
    "        grouplen    = []\n",
    "        for id in np.unique(groupid):\n",
    "            grouplen.append(len(np.where(groupid == id)[0]))\n",
    "        #Percol_pc[pc]=groupfinder.PercolateGrid(groupid)\n",
    "        percentage_pc=max(grouplen)/sum(grouplen)\n",
    "        Frac.append(percentage_pc)\n",
    "        error.append(np.sqrt(max(grouplen))/(probability*float(size**ndim)))\n",
    "        P_error[i]=error\n",
    "    uni[i]=[pcs,Frac]\n",
    "\n",
    "cpu_time = time.time() - start_time\n",
    "print(\" Calculation finished, cpu time used = \", cpu_time)  "
   ]
  },
  {
   "cell_type": "code",
   "execution_count": 40,
   "metadata": {
    "deletable": false,
    "nbgrader": {
     "cell_type": "code",
     "checksum": "aec3723325a1339df74cf5ad752ea593",
     "grade": true,
     "grade_id": "cell-491204d2b77bf8d9",
     "locked": false,
     "points": 10,
     "schema_version": 3,
     "solution": true,
     "task": false
    },
    "scrolled": false
   },
   "outputs": [
    {
     "name": "stdout",
     "output_type": "stream",
     "text": [
      "Pc 0.593\n"
     ]
    },
    {
     "data": {
      "image/png": "[encoded data removed]",
      "text/plain": [
       "<Figure size 1440x504 with 2 Axes>"
      ]
     },
     "metadata": {
      "needs_background": "light"
     },
     "output_type": "display_data"
    }
   ],
   "source": [
    "# Use this cell to plot the fraction of realisation that have a percolating cluster,  \n",
    "#     as a function of the probability, p.\n",
    "# Also use it to compute your estimate of the value of p=p_c, i.e. where the fraction is 50 per cent\n",
    "\n",
    "# Plot two panels: \n",
    "#    left panel shows an overview (large range in p)\n",
    "#    right panels zooms in on the characteristic value pc.\n",
    "#    estimate and overplot the error (uncertainty) in the average\n",
    "# Indicate your estimate of (pc, 0.5)\n",
    "\n",
    "# Approximate marking scheme:\n",
    "# two plots with axes labels:                          2 marks\n",
    "# plots show fraction as a function of p, and look OK: 4 marks\n",
    "# value of (pc, 50%) is clearly indicated:             2 marks\n",
    "# Poisson errors are over plotted:                     2 marks\n",
    "\n",
    "# YOUR CODE HERE\n",
    "fig, ax = plt.subplots(1, 2, figsize=(20,7))\n",
    "#for k in range(len(uni)): \n",
    "    #for i in range(len(pcs)):\n",
    "        #ax[0].scatter(pcs[i],list(uni.values())[k][1][i])\n",
    "ys=[]\n",
    "for i in range(len(pcs)): \n",
    "    y=[]\n",
    "    for k in range(len(uni)):\n",
    "        y.append(list(uni.values())[k][1][i])\n",
    "    ys.append(np.mean(y))  \n",
    "\n",
    "pcss=pcs[6:15]\n",
    "sl_flac={}\n",
    "yss=ys[6:15]\n",
    "errs=[]\n",
    "for o in range(len(pcs)):\n",
    "    err=[]\n",
    "    for p in range(len(P_error)):\n",
    "        err.append(list(P_error.values())[p][o])\n",
    "    errs.append(np.mean(err))\n",
    "lerrs=errs[6:15]\n",
    "for i in range(len(list(uni.values()))):\n",
    "    sl_flac[i]=list(uni.values())[i][1][6:15]\n",
    "#for j in range(len(pcss)):\n",
    "    #for l in range(len(sl_flac)):\n",
    "        #ax[1].scatter(pcss[j],sl_flac[l][j])\n",
    "\n",
    "ax[0].plot(pcs,ys, label = 'Mean of Fractions')        \n",
    "ax[1].plot(pcss,yss, label = 'Mean of Fractions')\n",
    "ax[0].errorbar(pcs,ys, label = 'Mean of Poisson errors', yerr=errs,fmt='.',capsize=2.5)\n",
    "ax[1].errorbar(pcss,yss, label = 'Mean of Poisson errors', yerr=lerrs,fmt='.',capsize=2.5)\n",
    "ax[0].axhline(y=0.5,label = 'Fraction=0.5', color='r', linestyle='-')\n",
    "ax[1].axhline(y=0.5,label = 'Fraction=0.5', color='r', linestyle='-')\n",
    "ax[0].set_xlabel(r'p')\n",
    "ax[0].set_ylabel(r'Fraction')\n",
    "ax[0].set_title('Overview')\n",
    "ax[1].set_xlabel(r'p')\n",
    "ax[1].set_ylabel(r'Fraction')\n",
    "ax[1].set_title('Zoom')\n",
    "ax[0].legend()\n",
    "ax[1].legend()\n",
    "PC=((0.5-yss[-2])*(pcss[-1]-pcss[-2])/(yss[-1]-yss[-2]))+pcss[-2]# To find Pc it interpolate\n",
    "ax[0].axvline(x=PC, ymin=0, ymax=1, color='red') \n",
    "ax[1].axvline(x=PC, ymin=0, ymax=1, color='red')\n",
    "print('Pc',round(PC,3))\n",
    "\n"
   ]
  },
  {
   "cell_type": "code",
   "execution_count": 11,
   "metadata": {
    "deletable": false,
    "editable": false,
    "init_cell": true,
    "nbgrader": {
     "cell_type": "code",
     "checksum": "0ad0108fb76b3d7b451d48aab8d40440",
     "grade": false,
     "grade_id": "cell-359cc484f9266ffa",
     "locked": true,
     "schema_version": 3,
     "solution": false,
     "task": false
    },
    "scrolled": true,
    "tags": [
     "hide_input"
    ]
   },
   "outputs": [
    {
     "data": {
      "application/vnd.jupyter.widget-view+json": {
       "model_id": "",
       "version_major": 2,
       "version_minor": 0
      },
      "text/plain": [
       "VBox(children=(HTMLMath(value='Enter your estimate of the critical value $p_c$ to at least three significant f…"
      ]
     },
     "metadata": {},
     "output_type": "display_data"
    }
   ],
   "source": [
    "perc=mywidgets.myFloatBox('Percolation','P5','$p_c$ ='\n",
    "                          , 'Enter your estimate of the critical value $p_c$ to at least three significant figures (5 marks)')\n",
    "perc.getWidget()\n"
   ]
  },
  {
   "cell_type": "code",
   "execution_count": null,
   "metadata": {
    "deletable": false,
    "editable": false,
    "init_cell": true,
    "nbgrader": {
     "cell_type": "code",
     "checksum": "ab208c4eb86a3075060a379a4d1e3cb5",
     "grade": true,
     "grade_id": "cell-16c2e0d9ef258267",
     "locked": true,
     "points": 5,
     "schema_version": 3,
     "solution": false,
     "task": false
    },
    "tags": [
     "hide_input"
    ]
   },
   "outputs": [],
   "source": []
  },
  {
   "cell_type": "markdown",
   "metadata": {
    "deletable": false,
    "editable": false,
    "nbgrader": {
     "cell_type": "markdown",
     "checksum": "d25647926028b1683f26713dbafd600b",
     "grade": false,
     "grade_id": "cell-7e8ab42623524619",
     "locked": true,
     "schema_version": 3,
     "solution": false,
     "task": false
    }
   },
   "source": [
    "## End of the assignment.\n",
    "\n",
    "Well done. Make sure that your notebook validates before making the final submission."
   ]
  }
 ],
 "metadata": {
  "kernelspec": {
   "display_name": "Python 3",
   "language": "python",
   "name": "python3"
  },
  "language_info": {
   "codemirror_mode": {
    "name": "ipython",
    "version": 3
   },
   "file_extension": ".py",
   "mimetype": "text/x-python",
   "name": "python",
   "nbconvert_exporter": "python",
   "pygments_lexer": "ipython3",
   "version": "3.7.4"
  }
 },
 "nbformat": 4,
 "nbformat_minor": 4
}
