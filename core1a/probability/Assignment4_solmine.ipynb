{
 "cells": [
  {
   "cell_type": "markdown",
   "metadata": {
    "deletable": false,
    "editable": false,
    "nbgrader": {
     "cell_type": "markdown",
     "checksum": "e20a2bf8ad8cee9e2035481b27da74cf",
     "grade": false,
     "grade_id": "cell-87f08bf516c2b724",
     "locked": true,
     "schema_version": 3,
     "solution": false,
     "task": false
    }
   },
   "source": [
    "# Data Analysis Homework 4\n",
    "## Summative assessment\n",
    "### Due date: Monday, November 8th 2021, 2 PM"
   ]
  },
  {
   "cell_type": "code",
   "execution_count": 1,
   "metadata": {
    "deletable": false,
    "editable": false,
    "nbgrader": {
     "cell_type": "code",
     "checksum": "ac9ce840998cd2dd1c021d96328dfe4f",
     "grade": false,
     "grade_id": "cell-49fdd24c4e02c3d3",
     "locked": true,
     "schema_version": 3,
     "solution": false,
     "task": false
    }
   },
   "outputs": [],
   "source": [
    "from __future__ import division\n",
    "from scipy.stats import norm\n",
    "from IPython.display import HTML\n",
    "from IPython.display import display\n",
    "from scipy.optimize import *\n",
    "from scipy.special import erf\n",
    "from scipy import stats\n",
    "import numpy as np, pandas as pd, matplotlib.pyplot as plt"
   ]
  },
  {
   "cell_type": "markdown",
   "metadata": {
    "deletable": false,
    "editable": false,
    "nbgrader": {
     "cell_type": "markdown",
     "checksum": "cb36ae372e51e03f5245fb30d1f58543",
     "grade": false,
     "grade_id": "cell-812c55647b5e07be",
     "locked": true,
     "schema_version": 3,
     "solution": false,
     "task": false
    }
   },
   "source": [
    "## Question 1: Linear Regression (10 marks) \n",
    "Data collected in an experiment of the photoelectric effect are listed below.\n",
    "\n",
    "\\begin{array}{lcccc}\n",
    "\\hline\n",
    "{\\rm frequency, f/10^{15} Hz} &1.18&0.96&0.82&0.74\\\\\n",
    "{\\rm energy, E_{k, max}/10^{-19} J} &3.12&1.57&0.8&0.22\\\\\n",
    "{\\rm error, E_{k, max}/10^{-19} J}   &0.05&0.04&0.11&0.09\\\\\n",
    "\\hline\n",
    "\\end{array} \n",
    "\n",
    "\n",
    "\n",
    "According to Einstein's formulation, the maximum kinetic energy ($E_{k, max}$) of the resulting electrons is related to the frequency  ($f$) of the incoming light as <br>\n",
    "\n",
    "\\begin{equation}\n",
    "E_{k, max}=hf-W\n",
    "\\end{equation}\n",
    "\n",
    "where $h$ is Planck's constant and $W$ is the minimum energy required to remove the electrons from the illuminated surface. <br>\n",
    "(i) Make a plot of the energy versus frequency from the table above, keeping in mind the elements that make a good plot. <br>\n",
    "(ii) Calculate the slope and intercept of the best-fit straight line to the data, and their associated errors. <br>\n",
    "(iii) What is the value of Planck's constant and its error you obtain using the data from this experiment?<br>\n",
    "(iv) Planck's constant is one of the fundamental physical constants and its value is 6.62607015$\\times$10$^{-34}$ J Hz$^{-1}$.  Is the value deduced from your linear fit consistent with the expected value? <br>\n",
    "(v) How would you report the resulting value for $h$?\n"
   ]
  },
  {
   "cell_type": "markdown",
   "metadata": {},
   "source": [
    "### (i) Make a plot of the energy versus frequency from the table above, keeping in mind the elements that make a good plot.\n"
   ]
  },
  {
   "cell_type": "code",
   "execution_count": 2,
   "metadata": {},
   "outputs": [],
   "source": [
    "# this is the data for this exercise\n",
    "data = pd.read_csv('speed.csv') #read data\n",
    "frequency = np.array(data.iloc[:,0])#read data\n",
    "energy = np.array(data.iloc[:,1])#read data\n",
    "energy_error = data.iloc[:,2]#read data"
   ]
  },
  {
   "cell_type": "code",
   "execution_count": 3,
   "metadata": {
    "deletable": false,
    "nbgrader": {
     "cell_type": "code",
     "checksum": "d66340d11a53bd13984800bb8a0c9198",
     "grade": true,
     "grade_id": "cell-94e4ba089b6f5f03",
     "locked": false,
     "points": 2,
     "schema_version": 3,
     "solution": true,
     "task": false
    }
   },
   "outputs": [
    {
     "data": {
      "image/png": "[encoded data removed]",
      "text/plain": [
       "<Figure size 432x288 with 1 Axes>"
      ]
     },
     "metadata": {
      "needs_background": "light"
     },
     "output_type": "display_data"
    }
   ],
   "source": [
    "# YOUR CODE HERE\n",
    "\n",
    "plt.errorbar(frequency,energy, label = 'data', yerr=energy_error,fmt='.',capsize=2.5)#plot error bar of energy\n",
    "plt.plot(frequency,energy, label = 'plot')#plot between datas\n",
    "plt.xlabel('Frequency (f/1015Hz)')\n",
    "plt.ylabel('Energy (Ek,max/10−19J)')\n",
    "plt.legend()\n",
    "plt.show()"
   ]
  },
  {
   "cell_type": "markdown",
   "metadata": {
    "deletable": false,
    "editable": false,
    "nbgrader": {
     "cell_type": "markdown",
     "checksum": "3b014b5277cb6844eb94feb493b9d421",
     "grade": false,
     "grade_id": "cell-296a574d688c079a",
     "locked": true,
     "schema_version": 3,
     "solution": false,
     "task": false
    }
   },
   "source": [
    "### (ii) Calculate the slope and intercept of the best-fit straight line to the data, and their associated errors.\n"
   ]
  },
  {
   "cell_type": "code",
   "execution_count": 4,
   "metadata": {
    "deletable": false,
    "nbgrader": {
     "cell_type": "code",
     "checksum": "4589569273eb5c133913e5ff47608eb4",
     "grade": false,
     "grade_id": "cell-f6a87bcc94694e11",
     "locked": false,
     "schema_version": 3,
     "solution": true,
     "task": false
    }
   },
   "outputs": [
    {
     "data": {
      "image/png": "[encoded data removed]",
      "text/plain": [
       "<Figure size 432x288 with 1 Axes>"
      ]
     },
     "metadata": {
      "needs_background": "light"
     },
     "output_type": "display_data"
    },
    {
     "name": "stdout",
     "output_type": "stream",
     "text": [
      "(6.51, 0.3, -4.6, 0.29)\n"
     ]
    }
   ],
   "source": [
    "def linear(x,m,c):\n",
    "    return x*m + c\n",
    "\n",
    "def one_ii():\n",
    "    '''Your function should return the gradient,gradient_error,intercept,intercept_error.\n",
    "    Please make sure that the answer is a list/array of four floats'''\n",
    "    gradient = 0 #set variable gradient and its error, intercept and its error\n",
    "    gradient_error = 0\n",
    "    intercept = 0\n",
    "    intercept_error = 0\n",
    "    popt, pcov = curve_fit(linear, frequency, energy, sigma = energy_error) #Using curve fit to find best fit parameter\n",
    "    perr = np.sqrt(np.diag(pcov)) #Using covariance matrix to find the error\n",
    "    gradient = popt[0] #gradient,its error, intercept and its error\n",
    "    gradient_error = perr[0]\n",
    "    intercept = popt[1]\n",
    "    intercept_error = perr[1]\n",
    "    \n",
    "    plt.errorbar(frequency,energy, label = 'data', yerr=energy_error,fmt='.',capsize=2.5)#plot error bar\n",
    "    plt.plot(frequency, gradient*frequency+intercept, label='best_fit', color='red')#plot best fit graph\n",
    "    plt.xlabel('Frequency (f/1015Hz)')\n",
    "    plt.ylabel('Energy (Ek,max/10−19J)')\n",
    "    plt.legend()\n",
    "    plt.show()\n",
    "    \n",
    "    return(round(gradient,2),round(gradient_error,2),round(intercept,2),round(intercept_error,2))\n",
    "\n",
    "print(one_ii())"
   ]
  },
  {
   "cell_type": "code",
   "execution_count": 5,
   "metadata": {
    "deletable": false,
    "editable": false,
    "nbgrader": {
     "cell_type": "code",
     "checksum": "753297ecf464f7b58a01574a961812fa",
     "grade": true,
     "grade_id": "cell-f11689cb22df2c7d",
     "locked": true,
     "points": 0.5,
     "schema_version": 3,
     "solution": false,
     "task": false
    }
   },
   "outputs": [
    {
     "data": {
      "image/png": "[encoded data removed]",
      "text/plain": [
       "<Figure size 432x288 with 1 Axes>"
      ]
     },
     "metadata": {
      "needs_background": "light"
     },
     "output_type": "display_data"
    }
   ],
   "source": [
    "'''TEST CELL- DO NOT DELETE'''\n",
    "# sanity check:\n",
    "assert len(one_ii())==4"
   ]
  },
  {
   "cell_type": "code",
   "execution_count": 6,
   "metadata": {
    "deletable": false,
    "editable": false,
    "nbgrader": {
     "cell_type": "code",
     "checksum": "06656daf026fb8cf817c7d1bd6aafe5b",
     "grade": true,
     "grade_id": "cell-959b65b58ccac211",
     "locked": true,
     "points": 0.5,
     "schema_version": 3,
     "solution": false,
     "task": false
    }
   },
   "outputs": [
    {
     "data": {
      "text/plain": [
       "'TEST CELL- DO NOT DELETE'"
      ]
     },
     "execution_count": 6,
     "metadata": {},
     "output_type": "execute_result"
    }
   ],
   "source": [
    "'''TEST CELL- DO NOT DELETE'''"
   ]
  },
  {
   "cell_type": "code",
   "execution_count": 7,
   "metadata": {
    "deletable": false,
    "editable": false,
    "nbgrader": {
     "cell_type": "code",
     "checksum": "c54b8f59638d274f70f0bbc94a826896",
     "grade": true,
     "grade_id": "cell-2c542bdf03d46e4a",
     "locked": true,
     "points": 0.5,
     "schema_version": 3,
     "solution": false,
     "task": false
    }
   },
   "outputs": [
    {
     "data": {
      "text/plain": [
       "'TEST CELL- DO NOT DELETE'"
      ]
     },
     "execution_count": 7,
     "metadata": {},
     "output_type": "execute_result"
    }
   ],
   "source": [
    "'''TEST CELL- DO NOT DELETE'''"
   ]
  },
  {
   "cell_type": "code",
   "execution_count": 8,
   "metadata": {
    "deletable": false,
    "editable": false,
    "nbgrader": {
     "cell_type": "code",
     "checksum": "bead01fd34e0ecfab2dc2c9019917e28",
     "grade": true,
     "grade_id": "cell-e4c4a5fb8482c8f7",
     "locked": true,
     "points": 0.5,
     "schema_version": 3,
     "solution": false,
     "task": false
    }
   },
   "outputs": [
    {
     "data": {
      "text/plain": [
       "'TEST CELL- DO NOT DELETE'"
      ]
     },
     "execution_count": 8,
     "metadata": {},
     "output_type": "execute_result"
    }
   ],
   "source": [
    "'''TEST CELL- DO NOT DELETE'''"
   ]
  },
  {
   "cell_type": "markdown",
   "metadata": {
    "deletable": false,
    "editable": false,
    "nbgrader": {
     "cell_type": "markdown",
     "checksum": "d155323a946c4e1834e36f0ef7ad4da5",
     "grade": false,
     "grade_id": "cell-222a7d7d3e8f1897",
     "locked": true,
     "schema_version": 3,
     "solution": false,
     "task": false
    }
   },
   "source": [
    "### (iii) What is the value of Planck's constant and it's error you obtain using the data from this experiment?\n"
   ]
  },
  {
   "cell_type": "markdown",
   "metadata": {
    "deletable": false,
    "nbgrader": {
     "cell_type": "markdown",
     "checksum": "53e6ed3180e20872eaf5ea0ab4e39cd0",
     "grade": true,
     "grade_id": "cell-423fb61c6147ab56",
     "locked": false,
     "points": 2,
     "schema_version": 3,
     "solution": true,
     "task": false
    }
   },
   "source": [
    "According to the original significant figures, Planck's constant, which obtained by data is 6.51$\\times$10$^{-34}$ J Hz$^{-1}$. and its error of 0.30."
   ]
  },
  {
   "cell_type": "markdown",
   "metadata": {
    "deletable": false,
    "editable": false,
    "nbgrader": {
     "cell_type": "markdown",
     "checksum": "5ef7296be806e02779f138bdca7bb046",
     "grade": false,
     "grade_id": "cell-a8361c17c0ac0d85",
     "locked": true,
     "schema_version": 3,
     "solution": false,
     "task": false
    }
   },
   "source": [
    "### (iv) Planck's constant is one of the fundamental physical constants and its value is 6.62607015$\\times$10$^{-34}$ J Hz$^{-1}$.  Is the value deduced from your linear fit consistent with the expected value?"
   ]
  },
  {
   "cell_type": "markdown",
   "metadata": {
    "deletable": false,
    "nbgrader": {
     "cell_type": "markdown",
     "checksum": "39e588f13187e964159d4599f9e295cd",
     "grade": true,
     "grade_id": "cell-380e5b5514659a98",
     "locked": false,
     "points": 2,
     "schema_version": 3,
     "solution": true,
     "task": false
    }
   },
   "source": [
    "The difference between Planck's constant, which I obtained from data and the fundamental value, is roughly 0.12, and this value is under the error of 0.15, which find from the data that in plus part.\n",
    "So, the value can deduce from the linear fit."
   ]
  },
  {
   "cell_type": "markdown",
   "metadata": {
    "deletable": false,
    "editable": false,
    "nbgrader": {
     "cell_type": "markdown",
     "checksum": "fa0343fd36ad1ae4c9b16f33291c1aea",
     "grade": false,
     "grade_id": "cell-2cd5c394cfb464ac",
     "locked": true,
     "schema_version": 3,
     "solution": false,
     "task": false
    }
   },
   "source": [
    "### (v) How would you report the resulting value for $h$?"
   ]
  },
  {
   "cell_type": "markdown",
   "metadata": {
    "deletable": false,
    "nbgrader": {
     "cell_type": "markdown",
     "checksum": "104361867783b9f6b1508ea4da965f34",
     "grade": true,
     "grade_id": "cell-14675271a47b9946",
     "locked": false,
     "points": 2,
     "schema_version": 3,
     "solution": true,
     "task": false
    }
   },
   "source": [
    "According to the data h will be reported to $6.51 \\pm 0.15 \\times 10^{-34}JHz^{-1}$"
   ]
  },
  {
   "cell_type": "markdown",
   "metadata": {
    "deletable": false,
    "editable": false,
    "nbgrader": {
     "cell_type": "markdown",
     "checksum": "9dac2785859c47101db05077b9df792c",
     "grade": false,
     "grade_id": "cell-04445a0c70999d5f",
     "locked": true,
     "schema_version": 3,
     "solution": false,
     "task": false
    }
   },
   "source": [
    "## Question 2: Pixels in an image (10 marks + 2 bonus)\n",
    "\n",
    "An astronomer just received a new image from a telescope. The image has 2048 $\\times$ 2048 pixels, with a mean  background count of $\\bar N = $50. Upon looking at the image, the astronomer sees that there is one pixel which has a value of 86 counts, so it is brighter than the mean pixel value.\n",
    "In this exercise you will have to determine the significance of the signal in this pixel: is it real, or should the astronomer discard it as a fluke signal? \n",
    "\n",
    "> (i)  How many pixels, $N$, are there in the image?  \n",
    "<bf>\n",
    "> (ii) What is the standard deviation of the background? (Hint: assume a Poisson distribution).<br>\n",
    "<bf>\n",
    "> (iii) Plot the the distribution of the background pixel values of the image using a histogram. When plotting the histogram, keep in mind the elements that make a good plot.<br>\n",
    "(iv) Determine how many standard deviations the bright pixel is from the mean, and use vertical lines to clearly indicate the location of the 1$\\sigma$, 2$\\sigma$ and 3$\\sigma$ intervals on your histogram. <br>\n",
    "(v) Remember the \"5$\\sigma$ level of certainty\" discussed in Lecture 1: for a normal distribution, the probability of finding a data point above 5$\\sigma$ is about about 1 in 3.5 million, i.e. $\\sim 3\\times 10^{-7}$. Why can you use the confidence limits for a normal distribution here, despite the fact that you are looking at a Poisson distribution? Is this pixel compatible with a 5$\\sigma$ detection, i.e., is the pixel significant? <br>\n",
    "(vi) Given the number of pixels in the image, calculate how many pixels you would expect above 5$\\sigma$.<br>\n",
    "Based on the result, reconsider the significance of the bright pixel.<br>\n",
    "Bonus: The astronomer gets an image from a different telescope, where the instrument only has 400$\\times$400 pixels. How would your answer change, if all other parameters are the same as above?    "
   ]
  },
  {
   "cell_type": "markdown",
   "metadata": {
    "deletable": false,
    "editable": false,
    "nbgrader": {
     "cell_type": "markdown",
     "checksum": "b6c855334076f799dfe675c3b2ea61b7",
     "grade": false,
     "grade_id": "cell-2145f1f6b7585872",
     "locked": true,
     "schema_version": 3,
     "solution": false,
     "task": false
    }
   },
   "source": [
    "### (i) How many pixels, $N$, are there in the image?\n"
   ]
  },
  {
   "cell_type": "code",
   "execution_count": 9,
   "metadata": {
    "deletable": false,
    "nbgrader": {
     "cell_type": "code",
     "checksum": "bf3fe6205651328456b00389faee599d",
     "grade": false,
     "grade_id": "cell-32d6401cff6e04db",
     "locked": false,
     "schema_version": 3,
     "solution": true,
     "task": false
    }
   },
   "outputs": [
    {
     "name": "stdout",
     "output_type": "stream",
     "text": [
      "4194304\n"
     ]
    }
   ],
   "source": [
    "def two_i():\n",
    "    '''Your function should return the number of pixels in the image.'''\n",
    "    npixels=(2048*2048) #number of pixels\n",
    "    return npixels\n",
    "\n",
    "print(two_i())"
   ]
  },
  {
   "cell_type": "code",
   "execution_count": 10,
   "metadata": {
    "deletable": false,
    "editable": false,
    "nbgrader": {
     "cell_type": "code",
     "checksum": "27b42da1fe3387fc15623bcbbd7e7baa",
     "grade": true,
     "grade_id": "cell-57577538b6de57d6",
     "locked": true,
     "points": 1,
     "schema_version": 3,
     "solution": false,
     "task": false
    }
   },
   "outputs": [
    {
     "data": {
      "text/plain": [
       "'TEST CELL- DO NOT DELETE'"
      ]
     },
     "execution_count": 10,
     "metadata": {},
     "output_type": "execute_result"
    }
   ],
   "source": [
    "'''TEST CELL- DO NOT DELETE'''"
   ]
  },
  {
   "cell_type": "markdown",
   "metadata": {
    "deletable": false,
    "editable": false,
    "nbgrader": {
     "cell_type": "markdown",
     "checksum": "259a343010d531018ad634c42d9f83cc",
     "grade": false,
     "grade_id": "cell-bee155b3f9298445",
     "locked": true,
     "schema_version": 3,
     "solution": false,
     "task": false
    }
   },
   "source": [
    "### (ii) What is the standard deviation of the background? (Hint: assume a Poisson distribution)"
   ]
  },
  {
   "cell_type": "code",
   "execution_count": 11,
   "metadata": {
    "deletable": false,
    "nbgrader": {
     "cell_type": "code",
     "checksum": "be5d92f97734cd99c08ee9e3cd0a7021",
     "grade": false,
     "grade_id": "cell-e9016a79007f5d76",
     "locked": false,
     "schema_version": 3,
     "solution": true,
     "task": false
    }
   },
   "outputs": [
    {
     "name": "stdout",
     "output_type": "stream",
     "text": [
      "7.0710678118654755\n"
     ]
    }
   ],
   "source": [
    "def two_ii():\n",
    "    '''Your function should return the standard deviation of the background'''\n",
    "    mean = 50    \n",
    "    stdev=np.sqrt(50) #standard deviation from the mean\n",
    "    return stdev\n",
    "\n",
    "print(two_ii())"
   ]
  },
  {
   "cell_type": "code",
   "execution_count": 12,
   "metadata": {
    "deletable": false,
    "editable": false,
    "nbgrader": {
     "cell_type": "code",
     "checksum": "778029dad291d51f5dac6a0628978d3d",
     "grade": true,
     "grade_id": "cell-893cc806b53f8b66",
     "locked": true,
     "points": 1,
     "schema_version": 3,
     "solution": false,
     "task": false
    }
   },
   "outputs": [
    {
     "data": {
      "text/plain": [
       "'TEST CELL- DO NOT DELETE'"
      ]
     },
     "execution_count": 12,
     "metadata": {},
     "output_type": "execute_result"
    }
   ],
   "source": [
    "'''TEST CELL- DO NOT DELETE'''"
   ]
  },
  {
   "cell_type": "markdown",
   "metadata": {
    "deletable": false,
    "editable": false,
    "nbgrader": {
     "cell_type": "markdown",
     "checksum": "615d8b7950e63db947a132257f8ea8f9",
     "grade": false,
     "grade_id": "cell-006be3aa487838e2",
     "locked": true,
     "schema_version": 3,
     "solution": false,
     "task": false
    }
   },
   "source": [
    "### (iii) Plot the the distribution of the background pixel values of the image using a histogram. When plotting the histogram, keep in mind the elements that make a good plot."
   ]
  },
  {
   "cell_type": "code",
   "execution_count": 13,
   "metadata": {
    "deletable": false,
    "nbgrader": {
     "cell_type": "code",
     "checksum": "d81f6a00ea62f9f4caa7dbc29e37d5a1",
     "grade": true,
     "grade_id": "cell-b2db187252a30611",
     "locked": false,
     "points": 2,
     "schema_version": 3,
     "solution": true,
     "task": false
    }
   },
   "outputs": [
    {
     "data": {
      "text/plain": [
       "<matplotlib.legend.Legend at 0x7faf48693c70>"
      ]
     },
     "execution_count": 13,
     "metadata": {},
     "output_type": "execute_result"
    },
    {
     "data": {
      "image/png": "[encoded data removed]",
      "text/plain": [
       "<Figure size 432x288 with 1 Axes>"
      ]
     },
     "metadata": {
      "needs_background": "light"
     },
     "output_type": "display_data"
    }
   ],
   "source": [
    "fig, ax1 = plt.subplots()\n",
    "\n",
    "poisson_data = np.random.poisson(lam=50,size=two_i()) # using poisson ditribution set the data\n",
    "color = 'tab:blue'\n",
    "ax1.hist(poisson_data,label='Poisson dist', density=True, bins = np.arange(20,80), color=color) #Plot Poisson with histogram\n",
    "ax1.set_ylabel('Poisson units')\n",
    "ax1.set_title('Poisson ditribution')\n",
    "ax1.set_ylabel('Counts')\n",
    "ax1.set_ylim(0)\n",
    "ax1.legend()"
   ]
  },
  {
   "cell_type": "markdown",
   "metadata": {
    "deletable": false,
    "editable": false,
    "nbgrader": {
     "cell_type": "markdown",
     "checksum": "3423d5fc6ea75f6f7f7bec50d18d179c",
     "grade": false,
     "grade_id": "cell-8bb269d21ca4aa8c",
     "locked": true,
     "schema_version": 3,
     "solution": false,
     "task": false
    }
   },
   "source": [
    "### (iv) i. Determine how many standard deviations the bright pixel is from the mean."
   ]
  },
  {
   "cell_type": "code",
   "execution_count": 14,
   "metadata": {
    "deletable": false,
    "nbgrader": {
     "cell_type": "code",
     "checksum": "90960d1fbf38ec470c3fd52fc84c131a",
     "grade": false,
     "grade_id": "cell-5d1e0118271a36ee",
     "locked": false,
     "schema_version": 3,
     "solution": true,
     "task": false
    }
   },
   "outputs": [
    {
     "name": "stdout",
     "output_type": "stream",
     "text": [
      "5.091168824543142\n"
     ]
    }
   ],
   "source": [
    "def two_iv():\n",
    "    '''Your function should return the number of standard deviations the birght pixel is from the mean'''\n",
    "    bright=86 #bright value\n",
    "    mean=50 #mean\n",
    "    std=two_ii() #standard deviation\n",
    "    n_stdev=(bright-mean)/std #standard deviation of bright pixel\n",
    "    return n_stdev\n",
    "\n",
    "print(two_iv())"
   ]
  },
  {
   "cell_type": "code",
   "execution_count": 15,
   "metadata": {
    "deletable": false,
    "editable": false,
    "nbgrader": {
     "cell_type": "code",
     "checksum": "215100db35190ff65edba660e44b1cd7",
     "grade": true,
     "grade_id": "cell-8be2976580c3ecd4",
     "locked": true,
     "points": 1,
     "schema_version": 3,
     "solution": false,
     "task": false
    }
   },
   "outputs": [],
   "source": [
    "'''TEST CELL- DO NOT DELETE'''\n",
    "# sanity check:\n",
    "assert two_iv() > 1"
   ]
  },
  {
   "cell_type": "markdown",
   "metadata": {
    "deletable": false,
    "editable": false,
    "nbgrader": {
     "cell_type": "markdown",
     "checksum": "10111ec8ec4d891691036b5fd0065006",
     "grade": false,
     "grade_id": "cell-a2e9a63f58dde21a",
     "locked": true,
     "schema_version": 3,
     "solution": false,
     "task": false
    }
   },
   "source": [
    "### (iv) ii. Update your plot using vertical lines to clearly indicate the location of the 1 𝜎 , 2 𝜎  and 3 𝜎  intervals on your histogram."
   ]
  },
  {
   "cell_type": "code",
   "execution_count": 16,
   "metadata": {
    "deletable": false,
    "nbgrader": {
     "cell_type": "code",
     "checksum": "a2c1fce906e2f9ae5bb873a2c923e3b5",
     "grade": true,
     "grade_id": "cell-7335516c93c9c7bd",
     "locked": false,
     "points": 1,
     "schema_version": 3,
     "solution": true,
     "task": false
    }
   },
   "outputs": [
    {
     "data": {
      "image/png": "[encoded data removed]",
      "text/plain": [
       "<Figure size 432x288 with 1 Axes>"
      ]
     },
     "metadata": {
      "needs_background": "light"
     },
     "output_type": "display_data"
    }
   ],
   "source": [
    "mean=50\n",
    "std=two_ii()\n",
    "fig, ax1 = plt.subplots()\n",
    "\n",
    "poisson_data = np.random.poisson(lam=50,size=two_i())\n",
    "color = 'tab:blue'\n",
    "ax1.hist(poisson_data, density=True, bins = np.arange(20,80), label = 'Poisson', color=color)\n",
    "ax1.set_ylabel('Poisson units')\n",
    "ax1.set_xlabel('counts')\n",
    "ax1.set_ylim(0)\n",
    "ax1.axvline(x=mean, ymin=0, ymax=1,label='Mean', color='black') #mean value\n",
    "ax1.axvline(x=mean+std, ymin=0, ymax=1,label='1sigma', color='red') # 1 sigma both side\n",
    "ax1.axvline(x=mean-std, ymin=0, ymax=1, color='red')\n",
    "ax1.axvline(x=mean+2*std, ymin=0, ymax=1,label='2sigma', color='green')# 2 sigma both side\n",
    "ax1.axvline(x=mean-2*std, ymin=0, ymax=1, color='green')\n",
    "ax1.axvline(x=mean+3*std, ymin=0, ymax=1,label='3sigma', color='brown')# 3 sigma both side\n",
    "ax1.axvline(x=mean-3*std, ymin=0, ymax=1, color='brown')\n",
    "\n",
    "fig.legend(bbox_to_anchor=(0.76, 0.4, 0.4, 0.58))\n",
    "fig.tight_layout()"
   ]
  },
  {
   "cell_type": "markdown",
   "metadata": {
    "deletable": false,
    "editable": false,
    "nbgrader": {
     "cell_type": "markdown",
     "checksum": "39a6d630d206b7f2dae454386a0a2247",
     "grade": false,
     "grade_id": "cell-1d4093f0ca0897c6",
     "locked": true,
     "schema_version": 3,
     "solution": false,
     "task": false
    }
   },
   "source": [
    "### (v) Remember the \"5$\\sigma$ level of certainty\" discussed in Lecture 1: for a normal distribution, the probability of finding a data point above 5$\\sigma$ is about about 1 in 3.5 million, i.e. $\\sim 3\\times 10^{-7}$. Why can you use the confidence limits for a normal distribution here, despite the fact that you are looking at a Poisson distribution? Is this pixel compatible with a 5$\\sigma$ detection, i.e., is the pixel significant?"
   ]
  },
  {
   "cell_type": "markdown",
   "metadata": {
    "deletable": false,
    "nbgrader": {
     "cell_type": "markdown",
     "checksum": "66345d88ad007fd3e77d6678c1b905cd",
     "grade": true,
     "grade_id": "cell-ff89b41d57cadff2",
     "locked": false,
     "points": 2,
     "schema_version": 3,
     "solution": true,
     "task": false
    }
   },
   "source": [
    "Because of The central limit theorem, the sum of a large number of independent random variables, each with finite mean and variance, will tend to be normally distributed, irrespective of the distribution function of the random variable.\n",
    "So, the pixels in the image are a pretty large number of random variables, which makes Possion distribution compatible with normal distribution, and the pixel is not so significant according to the probability of five sigmas."
   ]
  },
  {
   "cell_type": "markdown",
   "metadata": {
    "deletable": false,
    "editable": false,
    "nbgrader": {
     "cell_type": "markdown",
     "checksum": "b12c850ce4f23945a7c8f3ff7b906ca7",
     "grade": false,
     "grade_id": "cell-56d9baa14debc8d8",
     "locked": true,
     "schema_version": 3,
     "solution": false,
     "task": false
    }
   },
   "source": [
    "### (vi) i. Given the number of pixels in the image, calculate how many pixels you would expect above 5$\\sigma$. "
   ]
  },
  {
   "cell_type": "code",
   "execution_count": 17,
   "metadata": {
    "deletable": false,
    "nbgrader": {
     "cell_type": "code",
     "checksum": "5f8f06d3d6cc0b06cef2d7cf3f1c64bc",
     "grade": false,
     "grade_id": "cell-563915af659fa8b8",
     "locked": false,
     "schema_version": 3,
     "solution": true,
     "task": false
    }
   },
   "outputs": [
    {
     "name": "stdout",
     "output_type": "stream",
     "text": [
      "1.0\n"
     ]
    }
   ],
   "source": [
    "def two_vi():\n",
    "    '''your function should return the number of pixels above 5 sigma for this distribution'''\n",
    "    mean=50\n",
    "    std=two_ii()\n",
    "    \n",
    "    x_1 = ((mean+(5*std))-mean)/((np.sqrt(2)*std)) #Return the fraction of measurements outside the range\n",
    "    x_2 = ((mean-(5*std))-mean)/((np.sqrt(2)*std))\n",
    "    probability = (1-((0.5*(1+erf(x_1)))-(0.5*(1+erf(x_2)))))\n",
    "    n_above=int(two_i()*probability)/2 #it exist both side so to find bright one it divided by 2\n",
    "    return n_above\n",
    "print(two_vi()) "
   ]
  },
  {
   "cell_type": "code",
   "execution_count": 18,
   "metadata": {
    "deletable": false,
    "editable": false,
    "nbgrader": {
     "cell_type": "code",
     "checksum": "676a330d77a7f4c04631791d4cb57f3a",
     "grade": true,
     "grade_id": "cell-110e2988a22c04d3",
     "locked": true,
     "points": 2,
     "schema_version": 3,
     "solution": false,
     "task": false
    }
   },
   "outputs": [
    {
     "data": {
      "text/plain": [
       "'TEST CELL- DO NOT DELETE'"
      ]
     },
     "execution_count": 18,
     "metadata": {},
     "output_type": "execute_result"
    }
   ],
   "source": [
    "'''TEST CELL- DO NOT DELETE'''"
   ]
  },
  {
   "cell_type": "markdown",
   "metadata": {
    "deletable": false,
    "editable": false,
    "nbgrader": {
     "cell_type": "markdown",
     "checksum": "06e34b1ad1dacee12277394fe3f6d0fd",
     "grade": false,
     "grade_id": "cell-ce95eaf568aea060",
     "locked": true,
     "schema_version": 3,
     "solution": false,
     "task": false
    }
   },
   "source": [
    "### (vi) ii. Based on the result, reconsider the significance of the bright pixel."
   ]
  },
  {
   "cell_type": "markdown",
   "metadata": {},
   "source": [
    "In normally distributed data, there is approximately a $5.73\\times 10^{-5}%$ chance of finding data five standard deviations away from the mean. Thus, when collecting 4,194,304 pixels, it will likely see about 2~3 (actual value was approximately 2.4) bright pixels at the five sigma level. This does not necessarily mean that it has discovered bright pixels. Rather it may mean that it has randomly happened upon a image."
   ]
  },
  {
   "cell_type": "markdown",
   "metadata": {
    "deletable": false,
    "editable": false,
    "nbgrader": {
     "cell_type": "markdown",
     "checksum": "410dd7deff82e12cbe2f2edd41bf5fb1",
     "grade": false,
     "grade_id": "cell-52f45632c3e3d43a",
     "locked": true,
     "schema_version": 3,
     "solution": false,
     "task": false
    }
   },
   "source": [
    "### Bonus: The astronomer gets an image from a different telescope, where the instrument only has 400$\\times$400 pixels. How would your answer change, if all other parameters are the same as above?  "
   ]
  },
  {
   "cell_type": "markdown",
   "metadata": {},
   "source": [
    "A number of pixels in an image are changed, but the mean value and other parameters are not changed. But if you want to find over the five sigmas like upper questions, it could not be found. Because base number of pixels are not enough to get the pixel of five sigmas."
   ]
  },
  {
   "cell_type": "code",
   "execution_count": 19,
   "metadata": {},
   "outputs": [
    {
     "data": {
      "image/png": "[encoded data removed]",
      "text/plain": [
       "<Figure size 432x288 with 1 Axes>"
      ]
     },
     "metadata": {
      "needs_background": "light"
     },
     "output_type": "display_data"
    }
   ],
   "source": [
    "# write any supporting code for your bonus answer here\n",
    "mean=50\n",
    "std=two_ii()\n",
    "fig, ax1 = plt.subplots()\n",
    "\n",
    "poisson_data = np.random.poisson(lam=50,size=400*400) #same poisson distribution but different size\n",
    "color = 'tab:blue'\n",
    "ax1.hist(poisson_data, density=True, bins = np.arange(20,80), label = 'Poisson', color=color)\n",
    "ax1.set_ylabel('Poisson units')\n",
    "ax1.set_xlabel('counts')\n",
    "ax1.set_ylim(0)\n",
    "ax1.axvline(x=mean, ymin=0, ymax=1,label='Mean', color='black')\n",
    "ax1.axvline(x=mean+std, ymin=0, ymax=1,label='1sigma', color='red')\n",
    "ax1.axvline(x=mean-std, ymin=0, ymax=1, color='red')\n",
    "ax1.axvline(x=mean+2*std, ymin=0, ymax=1,label='2sigma', color='green')\n",
    "ax1.axvline(x=mean-2*std, ymin=0, ymax=1, color='green')\n",
    "ax1.axvline(x=mean+3*std, ymin=0, ymax=1,label='3sigma', color='brown')\n",
    "ax1.axvline(x=mean-3*std, ymin=0, ymax=1, color='brown')\n",
    "\n",
    "fig.legend(bbox_to_anchor=(0.76, 0.4, 0.4, 0.58))\n",
    "fig.tight_layout()"
   ]
  },
  {
   "cell_type": "markdown",
   "metadata": {
    "deletable": false,
    "editable": false,
    "nbgrader": {
     "cell_type": "markdown",
     "checksum": "c08ac5f5b1165b5ebd31157f1da7eaec",
     "grade": false,
     "grade_id": "cell-ddcbfd98c16335d0",
     "locked": true,
     "schema_version": 3,
     "solution": false,
     "task": false
    }
   },
   "source": [
    "## Question 3: $\\chi^2$ minimisation (10 marks + 2 bonus)\n",
    "\n",
    "Some students take a spectrum of an M dwarf star. The spectra of such stars show hydrogen emission from the Balmer series, the most prominent emission line being the H$\\alpha$ line at about 6562.8 <span>&#8491;</span>.\n",
    "The data is coming from a csv file with three (comma-separated) columns, the first one corresponds to the wavelength (in Angstrom, <span>&#8491;</span>), the second corresponds to the measured flux (in units of 10$^{-14}$ erg cm$^{-1}$ s$^{-2}$ <span>&#8491;</span>$^{-1}$), and the third is the flux error.\n",
    "\n",
    "(i) Plot the spectrum i.e., make a plot of the flux versus the wavelength.<br>\n",
    "(ii) Perform a $\\chi^2$ minimisation using a Gaussian model for the H$\\alpha$ emission line. What are the best-fit parameters, and the value of $\\chi^2_{min}$?<br>\n",
    "(iii) What is the value of $\\chi^2_{\\rm \\nu}$?<br>\n",
    "(iv) What is the probability one would obtain a value of $\\chi^2$ equal to, or greater than, $\\chi^2_{\\rm min}$ assuming that the data are described by the model?<br>\n",
    "(v) Plot the best fit Gaussian model on top of the data. Then, plot the residuals of the model fit and discuss what you observe.<br>\n",
    "(vi) Repeat steps (ii)-(v) but using a Voigt model instead of a Gaussian.<br>\n",
    "(vii) Finally, comment on the differences between the two fits.<br>\n",
    "Bonus: What could you do to further improve the fit?\n",
    "\n"
   ]
  },
  {
   "cell_type": "markdown",
   "metadata": {
    "deletable": false,
    "editable": false,
    "nbgrader": {
     "cell_type": "markdown",
     "checksum": "b8a72ef9dbfb6121bab9d52f0102e698",
     "grade": false,
     "grade_id": "cell-98789cfe387cb371",
     "locked": true,
     "schema_version": 3,
     "solution": false,
     "task": false
    }
   },
   "source": [
    "### (i) Plot the spectrum i.e., make a plot of the flux versus the wavelength."
   ]
  },
  {
   "cell_type": "code",
   "execution_count": 20,
   "metadata": {
    "deletable": false,
    "nbgrader": {
     "cell_type": "code",
     "checksum": "e4dc3b4ff37d718afc28012b2e6ef7c0",
     "grade": true,
     "grade_id": "cell-7172fbec76156fbb",
     "locked": false,
     "points": 0.5,
     "schema_version": 3,
     "solution": true,
     "task": false
    }
   },
   "outputs": [
    {
     "data": {
      "image/png": "[encoded data removed]",
      "text/plain": [
       "<Figure size 432x288 with 1 Axes>"
      ]
     },
     "metadata": {
      "needs_background": "light"
     },
     "output_type": "display_data"
    }
   ],
   "source": [
    "data = pd.read_csv('ha_line.csv') #read datas\n",
    "Wavelength = data.iloc[:,0]\n",
    "Flux = data.iloc[:,1]\n",
    "Flux_errors = data.iloc[:,2]\n",
    "plt.errorbar(Wavelength,Flux, label = 'data', yerr=Flux_errors,fmt='.',capsize=2.5)# plot error bars\n",
    "plt.plot(Wavelength,Flux, label = 'plot') #plot Flux-Wavelength graph\n",
    "plt.xlabel('Wavelegth (Å)')\n",
    "plt.ylabel('Flux (10−14ergcm−1s−2Å−1)')\n",
    "plt.legend()\n",
    "plt.show()"
   ]
  },
  {
   "cell_type": "markdown",
   "metadata": {
    "deletable": false,
    "editable": false,
    "nbgrader": {
     "cell_type": "markdown",
     "checksum": "43d718b779ae3bdf838d863329fd53ca",
     "grade": false,
     "grade_id": "cell-4ce4452a03963b5c",
     "locked": true,
     "schema_version": 3,
     "solution": false,
     "task": false
    }
   },
   "source": [
    "### (ii) Perform a $\\chi^2$ minimisation using a Gaussian model for the H$\\alpha$ emission line. What are the best-fit parameters (amplitude, mean, and standard deviation), and the value of $\\chi^2_{min}$?\n"
   ]
  },
  {
   "cell_type": "code",
   "execution_count": 21,
   "metadata": {
    "deletable": false,
    "nbgrader": {
     "cell_type": "code",
     "checksum": "e6338ecd95d345e047fd53facba5bf52",
     "grade": false,
     "grade_id": "cell-c6c39a7d1ca681b1",
     "locked": false,
     "schema_version": 3,
     "solution": true,
     "task": false
    }
   },
   "outputs": [],
   "source": [
    "'''write the code to calculate chi-square for the given Gaussian model'''\n",
    "\n",
    "def gaussian(Wavelength, amplitude, mean, stdev):\n",
    "    return amplitude*np.exp(-(((Wavelength-mean)**2)/(2*(stdev**2))))\n",
    "\n",
    "def chisqfunc_gauss(parameters):\n",
    "    '''Gaussian chi-square'''\n",
    "    Wavelength, amp, mean, std = parameters\n",
    "    chisq=sum((Flux-gaussian(Wavelength,amp,mean,std))**2/Flux_errors**2) #definition of Chi-Square with Gaussian function\n",
    "    return chisq"
   ]
  },
  {
   "cell_type": "code",
   "execution_count": 22,
   "metadata": {
    "deletable": false,
    "nbgrader": {
     "cell_type": "code",
     "checksum": "61ed06ac905573da8d735a17f69f55f7",
     "grade": false,
     "grade_id": "cell-40e8438b32a41aae",
     "locked": false,
     "schema_version": 3,
     "solution": true,
     "task": false
    }
   },
   "outputs": [
    {
     "name": "stdout",
     "output_type": "stream",
     "text": [
      "([15.022461570034178, 6562.852780607729, 6.12215135030184], 212.14918782929408)\n"
     ]
    }
   ],
   "source": [
    "'''write a function called three_ii which performs a chi-square minimisation based on the chisqfunc_gauss function \n",
    "from the previous step. The function should return an array containing the best fit Gaussian amplitude, \n",
    "mean, and standard deviation, as well as the minimsed chi-square'''\n",
    "\n",
    "def three_ii():\n",
    "    '''Please make sure that the answer is a list/array of the type [[best_fit_parameters_gauss], min_chisq_gauss]'''\n",
    "    initial_guess = [15,6560,10] #set the initial value\n",
    "\n",
    "    popt, pcov = curve_fit(gaussian, Wavelength,Flux, p0=initial_guess, sigma=Flux_errors) #Using curve fit to find best fit parameters\n",
    "    amp=popt[0] #parameters come from curve fit\n",
    "    mean=popt[1]\n",
    "    std=popt[2]\n",
    "    covariance_matrix=pcov #coveriance matrix\n",
    "    best_fit_parameters_gauss=[amp,mean,std] #set best fit parameter\n",
    "    parameters=[Wavelength, amp,mean,std]\n",
    "    min_chisq_gauss=chisqfunc_gauss(parameters)  #Chi-square\n",
    "    \n",
    "    up=[]\n",
    "    down=[]\n",
    "    for i in range(len(Flux)-1): #Sum of squared lagged residuals\n",
    "        up.append(((Flux[i+1]-gaussian(Wavelength[i+1],amp,mean,std))-(Flux[i]-gaussian(Wavelength[i+1],amp,mean,std)))**2)\n",
    "    for i in range(len(Flux)):  #sum of residuals\n",
    "        down.append((Flux[i]-gaussian(Wavelength[i],amp,mean,std))**2)\n",
    "    Durbin_Watson=sum(up)/sum(down) #Durbin Watson statistic to find correlation\n",
    "\n",
    "    return best_fit_parameters_gauss, min_chisq_gauss\n",
    "    \n",
    "print(three_ii())"
   ]
  },
  {
   "cell_type": "code",
   "execution_count": 23,
   "metadata": {
    "deletable": false,
    "editable": false,
    "nbgrader": {
     "cell_type": "code",
     "checksum": "71d648c0e9704da6a453f3a9c1d1a9c2",
     "grade": true,
     "grade_id": "cell-547fc5c34f77c7ca",
     "locked": true,
     "points": 1,
     "schema_version": 3,
     "solution": false,
     "task": false
    }
   },
   "outputs": [],
   "source": [
    "'''TEST CELL- DO NOT DELETE'''\n",
    "# sanity check:\n",
    "assert len(three_ii()[0]) == 3"
   ]
  },
  {
   "cell_type": "code",
   "execution_count": 24,
   "metadata": {
    "deletable": false,
    "editable": false,
    "nbgrader": {
     "cell_type": "code",
     "checksum": "6b32a189f5f9b1b397cea48828986933",
     "grade": true,
     "grade_id": "cell-15839a32a79afa12",
     "locked": true,
     "points": 1,
     "schema_version": 3,
     "solution": false,
     "task": false
    }
   },
   "outputs": [
    {
     "data": {
      "text/plain": [
       "'TEST CELL- DO NOT DELETE'"
      ]
     },
     "execution_count": 24,
     "metadata": {},
     "output_type": "execute_result"
    }
   ],
   "source": [
    "'''TEST CELL- DO NOT DELETE'''"
   ]
  },
  {
   "cell_type": "markdown",
   "metadata": {
    "deletable": false,
    "editable": false,
    "nbgrader": {
     "cell_type": "markdown",
     "checksum": "8e056d9d93aa7f63a636165d8170181c",
     "grade": false,
     "grade_id": "cell-0a354396e7909978",
     "locked": true,
     "schema_version": 3,
     "solution": false,
     "task": false
    }
   },
   "source": [
    "### (iii) What is the value of $\\chi^2_{\\rm \\nu}$?"
   ]
  },
  {
   "cell_type": "code",
   "execution_count": 25,
   "metadata": {
    "deletable": false,
    "nbgrader": {
     "cell_type": "code",
     "checksum": "2c9bd6f12acce3274b6cd779dddd742a",
     "grade": false,
     "grade_id": "cell-2a3ec9f9d96f629e",
     "locked": false,
     "schema_version": 3,
     "solution": true,
     "task": false
    }
   },
   "outputs": [
    {
     "name": "stdout",
     "output_type": "stream",
     "text": [
      "2.1871050291679803\n"
     ]
    }
   ],
   "source": [
    "def three_iii():\n",
    "    '''your function should return the value of the reduced chi-square'''\n",
    "    dof=len(Flux)-3\n",
    "    chisq_red_gauss=three_ii()[1]/dof #Definition of reduced Chi-Square\n",
    "    return chisq_red_gauss\n",
    "\n",
    "print(three_iii())"
   ]
  },
  {
   "cell_type": "code",
   "execution_count": 26,
   "metadata": {
    "deletable": false,
    "editable": false,
    "nbgrader": {
     "cell_type": "code",
     "checksum": "d9de02e6667a0eece55bcec67f2dd612",
     "grade": true,
     "grade_id": "cell-2045173062468a1f",
     "locked": true,
     "points": 2,
     "schema_version": 3,
     "solution": false,
     "task": false
    }
   },
   "outputs": [
    {
     "data": {
      "text/plain": [
       "'TEST CELL- DO NOT DELETE'"
      ]
     },
     "execution_count": 26,
     "metadata": {},
     "output_type": "execute_result"
    }
   ],
   "source": [
    "'''TEST CELL- DO NOT DELETE'''"
   ]
  },
  {
   "cell_type": "markdown",
   "metadata": {
    "deletable": false,
    "editable": false,
    "nbgrader": {
     "cell_type": "markdown",
     "checksum": "f1fa2ce5e7967665ae1d5659da7a817b",
     "grade": false,
     "grade_id": "cell-390598c44719ee8c",
     "locked": true,
     "schema_version": 3,
     "solution": false,
     "task": false
    }
   },
   "source": [
    "### (iv) What is the probability one would obtain a value of $\\chi^2$ equal to, or greater than, $\\chi^2_{\\rm min}$ assuming that the data are described by the model?"
   ]
  },
  {
   "cell_type": "code",
   "execution_count": 27,
   "metadata": {
    "deletable": false,
    "nbgrader": {
     "cell_type": "code",
     "checksum": "6ba8a6f4c5d12f8eb11aad9929a524b4",
     "grade": false,
     "grade_id": "cell-23893fcfae63c730",
     "locked": false,
     "schema_version": 3,
     "solution": true,
     "task": false
    }
   },
   "outputs": [
    {
     "name": "stdout",
     "output_type": "stream",
     "text": [
      "1.4093937128478728e-10\n"
     ]
    }
   ],
   "source": [
    "def three_iv():\n",
    "    '''your function should return the probability of obtaining the value of chi-square minimum obtained from above'''\n",
    "    dof=len(Flux)-3 # Degree of Freedom (3 parameters)\n",
    "    def factorial(n): #definition of factorial\n",
    "        if n < 2:\n",
    "            return 1\n",
    "        else:\n",
    "            return n * factorial(n-1)\n",
    "    def prob(x): #Definition of Chi-sqare probability ditribution function\n",
    "        return ((x**(dof/2-1)*np.exp(-x/2))/(2**(dof/2)*factorial(dof/2)))\n",
    "    \n",
    "    probability_gauss=1-stats.chi2.cdf(three_ii()[1],dof) #probability with Chi-Square cumulative ditribution function\n",
    "    return probability_gauss\n",
    "\n",
    "print(three_iv())"
   ]
  },
  {
   "cell_type": "code",
   "execution_count": 28,
   "metadata": {
    "deletable": false,
    "editable": false,
    "nbgrader": {
     "cell_type": "code",
     "checksum": "5c9c6839b0fa6cdcb4ed9730b59d6805",
     "grade": true,
     "grade_id": "cell-ddad8b4560c90344",
     "locked": true,
     "points": 2,
     "schema_version": 3,
     "solution": false,
     "task": false
    }
   },
   "outputs": [],
   "source": [
    "'''TEST CELL- DO NOT DELETE'''\n",
    "# sanity check:\n",
    "assert three_iv() > 0"
   ]
  },
  {
   "cell_type": "markdown",
   "metadata": {
    "deletable": false,
    "editable": false,
    "nbgrader": {
     "cell_type": "markdown",
     "checksum": "d25787a02720a49bff2c59fd5669fcdd",
     "grade": false,
     "grade_id": "cell-201d7c472ea42c42",
     "locked": true,
     "schema_version": 3,
     "solution": false,
     "task": false
    }
   },
   "source": [
    "### (v) Plot the best fit Gaussian model on top of the data. Then, plot the residuals of the model fit and discuss what you observe."
   ]
  },
  {
   "cell_type": "code",
   "execution_count": 29,
   "metadata": {
    "deletable": false,
    "nbgrader": {
     "cell_type": "code",
     "checksum": "204d425882b613b83b89a826f538d17e",
     "grade": true,
     "grade_id": "cell-c133e1ae25c013ef",
     "locked": false,
     "points": 0.25,
     "schema_version": 3,
     "solution": true,
     "task": false
    }
   },
   "outputs": [
    {
     "data": {
      "image/png": "[encoded data removed]",
      "text/plain": [
       "<Figure size 720x1440 with 3 Axes>"
      ]
     },
     "metadata": {
      "needs_background": "light"
     },
     "output_type": "display_data"
    }
   ],
   "source": [
    "from matplotlib.patches import Rectangle #for the check Lag plot\n",
    "amp=three_ii()[0][0] #best fit parameters\n",
    "mean=three_ii()[0][1]\n",
    "std=three_ii()[0][2]\n",
    "\n",
    "fig, ax = plt.subplots(3, 1, figsize=(10,20))\n",
    "Resi=(Flux-gaussian(Wavelength,amp,mean,std))/Flux_errors #Normalised residuals in weighted\n",
    "Resi1=list(Resi)\n",
    "Resi2=list(Resi)\n",
    "Resi1.remove(Resi1[0]) #lagged residuals\n",
    "Resi2.remove(Resi2[99])\n",
    "\n",
    "ax[0].plot(Wavelength, gaussian(Wavelength,amp,mean,std), color='red', linewidth=2) #Best fit curve in Gaussian\n",
    "ax[1].scatter(Resi1, Resi2, color='black') #lagged residual\n",
    "ax[2].scatter(Wavelength, Resi, color='black')#Normalised residual\n",
    "ax[0].errorbar(Wavelength,Flux, label= 'data', yerr=Flux_errors,fmt='.',capsize=2.5)#plot error bar\n",
    "ax[0].plot(Wavelength,Flux, label = 'plot')\n",
    "ax[0].set_xlabel('Wavelegth (Å)')\n",
    "ax[0].set_ylabel('Flux (10−14ergcm−1s−2Å−1)')\n",
    "ax[1].set_xlabel('Residual(n)')\n",
    "ax[1].set_ylabel('Residual(n+1)')\n",
    "ax[1].add_patch(Rectangle((-2,-2),4,4,fc='blue',ec='red',alpha=0.1)) #check the +_2 range\n",
    "ax[2].set_xlabel('Wavelegth (Å)')\n",
    "ax[2].set_ylabel('Residual(n)')\n",
    "ax[0].set_title('Wavelength-Flux')\n",
    "ax[1].set_title('lag plot(Residuals)')\n",
    "ax[2].set_title('Normalised Residuals')\n",
    "ax[0].legend()\n",
    "plt.show()"
   ]
  },
  {
   "cell_type": "markdown",
   "metadata": {
    "deletable": false,
    "nbgrader": {
     "cell_type": "markdown",
     "checksum": "5f0fd601304668d4e586947af5a13492",
     "grade": true,
     "grade_id": "cell-37bcbad382b2f8ac",
     "locked": false,
     "points": 0.25,
     "schema_version": 3,
     "solution": true,
     "task": false
    }
   },
   "source": [
    "In the graph 1, best_fit graph looks nice. But from the Lag plot in graph 2, 91percent of residuals are not in the square $\\pm2$. Also Normalised residual in graph 3, residuals are not randomly spread it consist some shape. And the probability of chi-square is almost 1.\n",
    "According to the these results, best fit parameters which is supported by gaussian function is not good fit."
   ]
  },
  {
   "cell_type": "markdown",
   "metadata": {
    "deletable": false,
    "editable": false,
    "nbgrader": {
     "cell_type": "markdown",
     "checksum": "8bba3d105ab1600215816574104f3c1b",
     "grade": false,
     "grade_id": "cell-b03da09afd5b41e7",
     "locked": true,
     "schema_version": 3,
     "solution": false,
     "task": false
    }
   },
   "source": [
    "### (vi) Repeat steps (ii)-(v) but using a Voigt model instead of a Gaussian."
   ]
  },
  {
   "cell_type": "markdown",
   "metadata": {
    "deletable": false,
    "editable": false,
    "nbgrader": {
     "cell_type": "markdown",
     "checksum": "51335270cce86c37d15c512d1211c5b8",
     "grade": false,
     "grade_id": "cell-8c11cefbe723ab1d",
     "locked": true,
     "schema_version": 3,
     "solution": false,
     "task": false
    }
   },
   "source": [
    "### (vi) i. Perform a $\\chi^2$ minimisation using a Voigt model for the H$\\alpha$ emission line. What are the best-fit parameters (amplitude, center, sigma, and gamma), and the value of $\\chi^2_{min}$?"
   ]
  },
  {
   "cell_type": "code",
   "execution_count": 30,
   "metadata": {
    "deletable": false,
    "nbgrader": {
     "cell_type": "code",
     "checksum": "de4ca129d285043b6666f0b1aa633f22",
     "grade": false,
     "grade_id": "cell-ff999d870c95b6f0",
     "locked": false,
     "schema_version": 3,
     "solution": true,
     "task": false
    }
   },
   "outputs": [],
   "source": [
    "from scipy.special import wofz #this is needed to define the Voigt profile\n",
    "\n",
    "'''write the code to calculate chi-square for the given Voigt profile'''\n",
    "\n",
    "data = pd.read_csv('ha_line.csv')\n",
    "Wavelength = data.iloc[:,0]\n",
    "Flux = data.iloc[:,1]\n",
    "Flux_errors = data.iloc[:,2]\n",
    "\n",
    "def voigt(Wavelength, amplitude, center, sigma, gamma):\n",
    "    peak = amplitude*(sigma*np.sqrt(2*np.pi))\n",
    "    return peak*np.real(wofz(((Wavelength-center) + 1j*gamma)/sigma/np.sqrt(2))) / sigma/np.sqrt(2*np.pi)\n",
    "        \n",
    "def chisqfunc_voigt(parameters):\n",
    "    '''Voigt chi-square'''\n",
    "    Wavelength, amp, cent, sig, gam = parameters\n",
    "    chisq=sum((Flux-voigt(Wavelength,amp,cent,sig,gam))**2/Flux_errors**2) #Definition of Chi-square in Voigt\n",
    "\n",
    "    return chisq\n",
    "\n",
    "\n"
   ]
  },
  {
   "cell_type": "code",
   "execution_count": 31,
   "metadata": {
    "deletable": false,
    "nbgrader": {
     "cell_type": "code",
     "checksum": "ae43fda693a082995c56df34aacfea32",
     "grade": false,
     "grade_id": "cell-9e7ced4b53db5850",
     "locked": false,
     "schema_version": 3,
     "solution": true,
     "task": false
    }
   },
   "outputs": [
    {
     "name": "stdout",
     "output_type": "stream",
     "text": [
      "([17.655599792242864, 6562.885840229928, -5.391053381096836, -0.826122858806446], 148.81282865454352)\n"
     ]
    }
   ],
   "source": [
    "'''write a function called three_vi_i which performs a chi-square minimisation based on the chisqfunc_voigt function \n",
    "from the previous step, and returns an array containing the best fit Voigt amplitude, center, sigma, and gamma, \n",
    "as well as the minimsed chi-square'''\n",
    "\n",
    "def three_vi_i():\n",
    "    '''Please make sure that the answer is a list/array of the type [[best_fit_parameters_voigt], min_chisq_voigt]'''\n",
    "    initial_guess = [17,6565,100,5] #initial values\n",
    "    popt, pcov = curve_fit(voigt, Wavelength,Flux, p0=initial_guess, sigma=Flux_errors)# using curve fit function for best fit parameters\n",
    "    amp=popt[0] #best fit parameters\n",
    "    cent=popt[1]\n",
    "    sig=popt[2]\n",
    "    gam=popt[3]\n",
    "    covariance_matrix=pcov#coveriance matrix\n",
    "    best_fit_parameters_voigt=[amp,cent,sig,gam] #best fit parameters\n",
    "    parameters=[Wavelength, amp, cent, sig, gam]\n",
    "    min_chisq_voigt=chisqfunc_voigt(parameters)\n",
    "    \n",
    "    up=[]\n",
    "    down=[]\n",
    "    for i in range(len(Flux)-1): #Durbin Watson for check correlation\n",
    "        up.append(((Flux[i+1]-voigt(Wavelength[i+1],amp,cent,sig,gam))-(Flux[i]-voigt(Wavelength[i+1],amp,cent,sig,gam)))**2)\n",
    "    for i in range(len(Flux)):\n",
    "        down.append((Flux[i]-voigt(Wavelength[i],amp,cent,sig,gam))**2)\n",
    "    Durbin_Watson=sum(up)/sum(down)\n",
    "    #print(Durbin_Watson)\n",
    "\n",
    "    return best_fit_parameters_voigt, min_chisq_voigt\n",
    "\n",
    "print(three_vi_i())"
   ]
  },
  {
   "cell_type": "code",
   "execution_count": 32,
   "metadata": {
    "deletable": false,
    "editable": false,
    "nbgrader": {
     "cell_type": "code",
     "checksum": "0ac4488a197afc00818644cab64aad80",
     "grade": true,
     "grade_id": "cell-a9e48ab04d01d428",
     "locked": true,
     "points": 0.25,
     "schema_version": 3,
     "solution": false,
     "task": false
    }
   },
   "outputs": [],
   "source": [
    "'''TEST CELL- DO NOT DELETE'''\n",
    "# sanity check:\n",
    "assert len(three_vi_i()[0]) == 4"
   ]
  },
  {
   "cell_type": "code",
   "execution_count": 33,
   "metadata": {
    "deletable": false,
    "editable": false,
    "nbgrader": {
     "cell_type": "code",
     "checksum": "3c96914c6448eb88094bf160f047e53a",
     "grade": true,
     "grade_id": "cell-f7fff7584bf6d6de",
     "locked": true,
     "points": 0.25,
     "schema_version": 3,
     "solution": false,
     "task": false
    }
   },
   "outputs": [
    {
     "data": {
      "text/plain": [
       "'TEST CELL- DO NOT DELETE'"
      ]
     },
     "execution_count": 33,
     "metadata": {},
     "output_type": "execute_result"
    }
   ],
   "source": [
    "'''TEST CELL- DO NOT DELETE'''"
   ]
  },
  {
   "cell_type": "markdown",
   "metadata": {
    "deletable": false,
    "editable": false,
    "nbgrader": {
     "cell_type": "markdown",
     "checksum": "7e9c532b051f0bba2e25cdc47d7fde8f",
     "grade": false,
     "grade_id": "cell-2e30b1638a29d738",
     "locked": true,
     "schema_version": 3,
     "solution": false,
     "task": false
    }
   },
   "source": [
    "### (vi) ii. What is the value of $\\chi^2_{\\rm \\nu}$?"
   ]
  },
  {
   "cell_type": "code",
   "execution_count": 34,
   "metadata": {
    "deletable": false,
    "nbgrader": {
     "cell_type": "code",
     "checksum": "f763e8770ddb05a9423ae1598eb94e31",
     "grade": false,
     "grade_id": "cell-dd36a01f42b96b89",
     "locked": false,
     "schema_version": 3,
     "solution": true,
     "task": false
    }
   },
   "outputs": [
    {
     "name": "stdout",
     "output_type": "stream",
     "text": [
      "1.5501336318181618\n"
     ]
    }
   ],
   "source": [
    "def three_vi_ii():\n",
    "    '''your function should return the value of the reduced chi-square'''\n",
    "    dof=len(Flux)-4 #Degree of freedom (4 parameters)\n",
    "    chisq_red_voigt=three_vi_i()[1]/dof #Definition of reduced Chi-square\n",
    "    return chisq_red_voigt\n",
    "\n",
    "print(three_vi_ii())"
   ]
  },
  {
   "cell_type": "code",
   "execution_count": 35,
   "metadata": {
    "deletable": false,
    "editable": false,
    "nbgrader": {
     "cell_type": "code",
     "checksum": "968d1758f997a01c2ef6c47469ff77c8",
     "grade": true,
     "grade_id": "cell-82f94b523ab101a3",
     "locked": true,
     "points": 0.5,
     "schema_version": 3,
     "solution": false,
     "task": false
    }
   },
   "outputs": [
    {
     "data": {
      "text/plain": [
       "'TEST CELL- DO NOT DELETE'"
      ]
     },
     "execution_count": 35,
     "metadata": {},
     "output_type": "execute_result"
    }
   ],
   "source": [
    "'''TEST CELL- DO NOT DELETE'''"
   ]
  },
  {
   "cell_type": "markdown",
   "metadata": {
    "deletable": false,
    "editable": false,
    "nbgrader": {
     "cell_type": "markdown",
     "checksum": "6979969e7fa65a880207628215382a44",
     "grade": false,
     "grade_id": "cell-37308f580df58f7e",
     "locked": true,
     "schema_version": 3,
     "solution": false,
     "task": false
    }
   },
   "source": [
    "### (vi) iii. What is the probability one would obtain a value of $\\chi^2$ equal to, or greater than, $\\chi^2_{\\rm min}$ assuming that the data are described by the model?\n"
   ]
  },
  {
   "cell_type": "code",
   "execution_count": 36,
   "metadata": {
    "deletable": false,
    "nbgrader": {
     "cell_type": "code",
     "checksum": "e2cdb2a12eb3329de74209f1b909129e",
     "grade": false,
     "grade_id": "cell-1906328eae301779",
     "locked": false,
     "schema_version": 3,
     "solution": true,
     "task": false
    }
   },
   "outputs": [
    {
     "name": "stdout",
     "output_type": "stream",
     "text": [
      "0.00044651491291269885\n"
     ]
    }
   ],
   "source": [
    "def three_vi_iii():\n",
    "    '''your function should return the probability of obtaining the value of chi-square minimum obtained from above'''\n",
    "    dof=len(Flux)-4.#Degree of freedom\n",
    "    def factorial(n):#Factorial for calculate\n",
    "        if n < 2:\n",
    "            return 1\n",
    "        else:\n",
    "            return n * factorial(n-1)\n",
    "    def prob(x): #Chi-square probability distribution function\n",
    "        return ((x**(dof/2-1)*np.exp(-x/2))/(2**(dof/2)*factorial(dof/2)))\n",
    "\n",
    "    probability_voigt=1-stats.chi2.cdf(three_vi_i()[1],dof) #with Chi-sqare cumulative distribution function calculate the probability\n",
    "    return probability_voigt\n",
    "\n",
    "print(three_vi_iii())"
   ]
  },
  {
   "cell_type": "code",
   "execution_count": 37,
   "metadata": {
    "deletable": false,
    "editable": false,
    "nbgrader": {
     "cell_type": "code",
     "checksum": "afd5acf6981b61ef05472690980d0f20",
     "grade": true,
     "grade_id": "cell-25e76d74e4ee9c97",
     "locked": true,
     "points": 0.5,
     "schema_version": 3,
     "solution": false,
     "task": false
    }
   },
   "outputs": [],
   "source": [
    "'''TEST CELL- DO NOT DELETE'''\n",
    "# sanity check:\n",
    "assert three_vi_iii() > 0"
   ]
  },
  {
   "cell_type": "markdown",
   "metadata": {
    "deletable": false,
    "editable": false,
    "nbgrader": {
     "cell_type": "markdown",
     "checksum": "7d369795827ee9b3c599c746e6094653",
     "grade": false,
     "grade_id": "cell-51d33b10614cbc3b",
     "locked": true,
     "schema_version": 3,
     "solution": false,
     "task": false
    }
   },
   "source": [
    "### (vi) iv. Plot the best fit Voigt model on top of the data. Then, plot the residuals of the model fit and discuss what you observe."
   ]
  },
  {
   "cell_type": "code",
   "execution_count": 38,
   "metadata": {
    "deletable": false,
    "nbgrader": {
     "cell_type": "code",
     "checksum": "db1bb140e5b64f2d22599bcdf70d3167",
     "grade": true,
     "grade_id": "cell-dfee889e98129c97",
     "locked": false,
     "points": 0.5,
     "schema_version": 3,
     "solution": true,
     "task": false
    }
   },
   "outputs": [
    {
     "data": {
      "image/png": "[encoded data removed]",
      "text/plain": [
       "<Figure size 720x1440 with 3 Axes>"
      ]
     },
     "metadata": {
      "needs_background": "light"
     },
     "output_type": "display_data"
    }
   ],
   "source": [
    "amp=three_vi_i()[0][0] #best fit parameters\n",
    "cent=three_vi_i()[0][1]\n",
    "sig=three_vi_i()[0][2]\n",
    "gam=three_vi_i()[0][3]\n",
    "\n",
    "fig, ax = plt.subplots(3, 1, figsize=(10,20))\n",
    "Resi=(Flux-voigt(Wavelength,amp,cent,sig,gam))/Flux_errors#Normalised residuals\n",
    "Resi1=list(Resi)\n",
    "Resi2=list(Resi)\n",
    "Resi1.remove(Resi1[0])#lagged residuals\n",
    "Resi2.remove(Resi2[99])\n",
    "\n",
    "ax[0].plot(Wavelength, voigt(Wavelength,amp,cent,sig,gam), color='red', linewidth=2)#best fit curve graph\n",
    "ax[1].scatter(Resi1, Resi2, color='black') #Lagged residual plot\n",
    "ax[2].scatter(Wavelength, Resi, color='black') #Normalised residual plot\n",
    "ax[0].errorbar(Wavelength,Flux, label = 'data', yerr=Flux_errors,fmt='.',capsize=2.5)#error bars\n",
    "ax[0].plot(Wavelength,Flux, label = 'plot')\n",
    "ax[0].set_xlabel('Wavelegth (Å)')\n",
    "ax[0].set_ylabel('Flux (10−14ergcm−1s−2Å−1)')\n",
    "ax[1].set_xlabel('Residual(n)')\n",
    "ax[1].set_ylabel('Residual(n+1)')\n",
    "ax[1].add_patch(Rectangle((-2,-2),4,4,fc='blue',ec='red',alpha=0.1)) #To find +_2 range easily\n",
    "ax[2].set_xlabel('Wavelegth (Å)')\n",
    "ax[2].set_ylabel('Residual(n)')\n",
    "ax[0].set_title('Wavelength-Flux')\n",
    "ax[1].set_title('lag plot(Residuals)')\n",
    "ax[2].set_title('Residuals')\n",
    "ax[0].legend()\n",
    "plt.show()"
   ]
  },
  {
   "cell_type": "markdown",
   "metadata": {
    "deletable": false,
    "editable": false,
    "nbgrader": {
     "cell_type": "markdown",
     "checksum": "2d82155665ddf48734c9fcb2a3086c1b",
     "grade": false,
     "grade_id": "cell-6ea2c946397c0355",
     "locked": true,
     "schema_version": 3,
     "solution": false,
     "task": false
    }
   },
   "source": [
    "### (vii) Finally, comment on the differences between the two fits."
   ]
  },
  {
   "cell_type": "markdown",
   "metadata": {
    "deletable": false,
    "nbgrader": {
     "cell_type": "markdown",
     "checksum": "968c2c58e938bf5b93a3a997c5de8f74",
     "grade": true,
     "grade_id": "cell-c50706b0c896e18c",
     "locked": false,
     "points": 1,
     "schema_version": 3,
     "solution": true,
     "task": false
    }
   },
   "source": [
    "In the residual graphs, using the Voigt function is more accurate than the Gaussian function. Not like Gaussian, Voigt function lag plot seems like clustering about 90% of residuals in the $\\pm$2. And Normalised Residuals graph of the Voigt also represents scatter within $\\pm$2, but many of the gaussian's normalised residuals over +2. Probability of chi-square also slightly closer to 0.5 than Gaussian.\n",
    "As a result, the Voigt function could make the best fit parameter more closely than the Gaussian function. the value of Chi-square also defines that Voigt is better.\n",
    "However, the probability of Voigt and shape of Normalised residual also make Voigt is not the best fit parameters."
   ]
  },
  {
   "cell_type": "markdown",
   "metadata": {
    "deletable": false,
    "editable": false,
    "nbgrader": {
     "cell_type": "markdown",
     "checksum": "f739ede6cb01f09c450d51ce5d1f6a1c",
     "grade": false,
     "grade_id": "cell-0fb564fda588cb4e",
     "locked": true,
     "schema_version": 3,
     "solution": false,
     "task": false
    }
   },
   "source": [
    "### Bonus: What could you do to improve the fit? You can either write an answer into the markdown cell below, or you could add some code to demonstrate what you could do, or both."
   ]
  },
  {
   "cell_type": "markdown",
   "metadata": {},
   "source": [
    "1. Use iterative approaches. The goodness-of-fit parameter is minimised by changing each parameter in turn, based on input step sizes. So one parameter changed gradually, and other parameters kept the same. But it is the inefficient method that changes all parameters simultaneously, with vector directed towards minimum.\n",
    "2. Use second-Order expansion, like Taylor expansion of Chi-Square about a set of parameters, the second-order expansion parameters about the minimum.\n",
    "3. Use other functions. If I choose the other base function of the best fit parameter, it could be better. The Gaussian is the exponential function, and Voigt is also consist of the exponential function. The normalised residual graph usually had bump data at about 6535, 6565, 6585 wavelengths.\n",
    "4. Change initial values\n",
    "5. If the data set is sufficiently large, use Benford's Law to check it is valid"
   ]
  },
  {
   "cell_type": "code",
   "execution_count": 39,
   "metadata": {},
   "outputs": [],
   "source": [
    "def mine(x,a,b,c,d):\n",
    "    return a*np.exp(x**b)+c*x+d #example of function\n",
    "\n",
    "def chisqfunc_mine(parameters): #chi-square of function\n",
    "    Wavelength, a, b, c, d = parameters\n",
    "    chisq=sum((Flux-mine(Wavelength,a,b,c,d))**2/Flux_errors**2)\n",
    "\n",
    "    return chisq\n",
    "def value(): #find best fit parameters\n",
    "    initial_guess = [17,6565,100,5]\n",
    "    popt, pcov = curve_fit(mine, Wavelength,Flux, p0=initial_guess, sigma=Flux_errors)\n",
    "    a=popt[0]\n",
    "    b=popt[1]\n",
    "    c=popt[2]\n",
    "    d=popt[3]\n",
    "    covariance_matrix=pcov\n",
    "    best_fit_parameters_mine=[a,b,c,d]\n",
    "    parameters=[Wavelength, a, b, c, d]\n",
    "    min_chisq_mine=chisqfunc_mine(parameters)\n",
    "    \n",
    "    return best_fit_parameters_mine, min_chisq_mine\n",
    "\n",
    "\n"
   ]
  },
  {
   "cell_type": "markdown",
   "metadata": {
    "deletable": false,
    "editable": false,
    "nbgrader": {
     "cell_type": "markdown",
     "checksum": "082d1983b938abdef8038cdc6c87fbc8",
     "grade": false,
     "grade_id": "cell-2c8e81cb9756140f",
     "locked": true,
     "schema_version": 3,
     "solution": false,
     "task": false
    }
   },
   "source": [
    "## Question 4: Particle growth (10 marks)\n",
    "\n",
    "In this question we shall analyse data from an experiment measuring the aggregation of particles in a solution.\n",
    "\n",
    "\\begin{array}{lcc}\n",
    "\\hline\n",
    "{\\rm time~(s)} & {\\rm size~(nm)} & {\\rm error~(nm)}\\\\\n",
    "0.13 & 117 & 30\\\\\n",
    "0.17 & 128 & 11\\\\\n",
    "0.44 & 200 & 20\\\\\n",
    "0.87 & 331 & 15\\\\\n",
    "2.10 & 514 & 30\\\\\n",
    "6.03 & 887 & 40\\\\\n",
    "17.96 & 1703 & 40\\\\\n",
    "42.01 & 2598 & 43\\\\\n",
    "\\hline\n",
    "\\end{array} \n",
    "\n",
    "The experiment involves measuring the growth of the particles as a function of time described by the equation $r = r_{0}t^{n}$.\n",
    "\n",
    "\n",
    "The model to describe the data has two parameters: an initial particle size $r_{0}$, and a growth parameter $n$. \n",
    "\n",
    "(i) Perform a $\\chi^2$ minimisation. What is the value of $\\chi^2_{min}$? <br>\n",
    "(ii) What are  the  best-fit parameters?<br>\n",
    "(iii) What is the reduced $\\chi^2$ value? How many degrees of freedom are there?<br>\n",
    "(iv) Does the model give a good description of the data?<br>\n"
   ]
  },
  {
   "cell_type": "markdown",
   "metadata": {
    "deletable": false,
    "editable": false,
    "nbgrader": {
     "cell_type": "markdown",
     "checksum": "8969492589902e498d63fc43e1f2e51c",
     "grade": false,
     "grade_id": "cell-c236fe18f62ca50d",
     "locked": true,
     "schema_version": 3,
     "solution": false,
     "task": false
    }
   },
   "source": [
    "### (i) Perform a $\\chi^2$ minimisation. What is the value of $\\chi^2_{min}$?"
   ]
  },
  {
   "cell_type": "code",
   "execution_count": 40,
   "metadata": {
    "deletable": false,
    "nbgrader": {
     "cell_type": "code",
     "checksum": "9ffa9875ffc691d923851c8ca3424091",
     "grade": false,
     "grade_id": "cell-05a43a8b4473382f",
     "locked": false,
     "schema_version": 3,
     "solution": true,
     "task": false
    }
   },
   "outputs": [],
   "source": [
    "time = [0.13, 0.17, 0.44, 0.87, 2.10, 6.03, 17.96, 42.01]\n",
    "size = [118, 128, 200, 331, 514, 887, 1703, 2598]\n",
    "size_errors = [30, 11, 20, 15, 30, 40, 40, 43]\n",
    "time=np.asarray(time)\n",
    "size=np.asarray(size)\n",
    "size_errors=np.asarray(size_errors)\n",
    "'''write the code to perform a chi-square minimisation and return the minimised chi-square'''\n",
    "\n",
    "def chisqfunc(x):\n",
    "    best_fit_r0=0\n",
    "    best_fit_n=0\n",
    "    chisq=sum((size-best_fit_r0*time**best_fit_n)**2/size_errors**2)\n",
    "    return chisq\n",
    "\n",
    "def func(time,r0,n):\n",
    "    return r0*time**n\n",
    "\n"
   ]
  },
  {
   "cell_type": "code",
   "execution_count": 41,
   "metadata": {
    "deletable": false,
    "nbgrader": {
     "cell_type": "code",
     "checksum": "7ce086b9326fd0175bfcc27ca893fbd6",
     "grade": false,
     "grade_id": "cell-ac9643deb73adbd4",
     "locked": false,
     "schema_version": 3,
     "solution": true,
     "task": false
    }
   },
   "outputs": [
    {
     "name": "stdout",
     "output_type": "stream",
     "text": [
      "(344.8044726181549, 0.5428280061865257, 4.116800008661966)\n"
     ]
    },
    {
     "data": {
      "image/png": "[encoded data removed]",
      "text/plain": [
       "<Figure size 720x1440 with 3 Axes>"
      ]
     },
     "metadata": {
      "needs_background": "light"
     },
     "output_type": "display_data"
    }
   ],
   "source": [
    "def four_i():\n",
    "    '''using the chisqfunc from the previous cell, perform a chi-square minimisation and return the\n",
    "    best fit parameters and chi-square minimum.\n",
    "    Please make sure that the answer is a list/array of three floats'''\n",
    "    initial_guess = [330,1] #initial guess\n",
    "    popt, pcov = curve_fit(func, time, size, p0=initial_guess, sigma=size_errors) #Using curve fit function\n",
    "    best_fit_r0=popt[0] #get parameters\n",
    "    best_fit_n=popt[1]\n",
    "    covariance_matrix=pcov\n",
    "    x=[size, best_fit_r0, best_fit_n]\n",
    "    min_chisq=sum((size-best_fit_r0*time**best_fit_n)**2/size_errors**2) #definition of Chi-sqare\n",
    "\n",
    "    return best_fit_r0, best_fit_n, min_chisq\n",
    "\n",
    "print(four_i())\n",
    "\n",
    "fig, ax = plt.subplots(3, 1, figsize=(10,20))\n",
    "Resi=(size-func(time,four_i()[0],four_i()[1]))/size_errors#Residuals\n",
    "Resi1=list(Resi)\n",
    "Resi2=list(Resi)\n",
    "Resi1.remove(Resi1[0])\n",
    "Resi2.remove(Resi2[len(Resi)-1])\n",
    "\n",
    "ax[0].plot(time,func(time,four_i()[0],four_i()[1]), color='red', linewidth=2)#Plotting\n",
    "ax[1].scatter(Resi1, Resi2)#Lagged plot\n",
    "ax[2].scatter(time, Resi)#Normalised residuals\n",
    "ax[0].errorbar(time, size, label = 'data', yerr=size_errors,fmt='.',capsize=2.5)\n",
    "ax[0].plot(time, size, label = 'plot')\n",
    "ax[0].set_xlabel('Time (s)')\n",
    "ax[0].set_ylabel('Size (nm)')\n",
    "ax[1].set_xlabel('Residual(n)')\n",
    "ax[1].set_ylabel('Residual(n+1)')\n",
    "ax[2].set_xlabel('Time (s)')\n",
    "ax[2].set_ylabel('Residual(n)')\n",
    "ax[0].set_title('Time-Size')\n",
    "ax[1].set_title('lag plot(Residuals)')\n",
    "ax[2].set_title('Normalised Residuals')\n",
    "ax[0].legend()\n",
    "plt.show()"
   ]
  },
  {
   "cell_type": "code",
   "execution_count": 42,
   "metadata": {
    "deletable": false,
    "editable": false,
    "nbgrader": {
     "cell_type": "code",
     "checksum": "0f3123dd2e1dd337478080ff7b8a2019",
     "grade": true,
     "grade_id": "cell-6f6f64cd98679f24",
     "locked": true,
     "points": 2,
     "schema_version": 3,
     "solution": false,
     "task": false
    }
   },
   "outputs": [
    {
     "data": {
      "text/plain": [
       "'TEST CELL- DO NOT DELETE'"
      ]
     },
     "execution_count": 42,
     "metadata": {},
     "output_type": "execute_result"
    }
   ],
   "source": [
    "'''TEST CELL- DO NOT DELETE'''"
   ]
  },
  {
   "cell_type": "markdown",
   "metadata": {
    "deletable": false,
    "editable": false,
    "nbgrader": {
     "cell_type": "markdown",
     "checksum": "64e6835be8f96cadc271344108321374",
     "grade": false,
     "grade_id": "cell-cf19f6fcf85cf02d",
     "locked": true,
     "schema_version": 3,
     "solution": false,
     "task": false
    }
   },
   "source": [
    "### (ii) What are  the  best-fit parameters?"
   ]
  },
  {
   "cell_type": "code",
   "execution_count": 43,
   "metadata": {
    "deletable": false,
    "nbgrader": {
     "cell_type": "code",
     "checksum": "5ee8746fc12248e1c12e074d4d2106d4",
     "grade": false,
     "grade_id": "cell-d8007571dcc71e7e",
     "locked": false,
     "schema_version": 3,
     "solution": true,
     "task": false
    }
   },
   "outputs": [
    {
     "name": "stdout",
     "output_type": "stream",
     "text": [
      "(344.8044726181549, 0.5428280061865257)\n"
     ]
    }
   ],
   "source": [
    "def four_ii(): \n",
    "    '''Your function must return the best fit r0 and exponent n from the function four_i.\n",
    "    Please make sure that the answer is a list/array of two floats'''\n",
    "    r0=four_i()[0] #best fit parameters\n",
    "    n=four_i()[1]\n",
    "    return r0, n\n",
    "\n",
    "print(four_ii())"
   ]
  },
  {
   "cell_type": "code",
   "execution_count": 44,
   "metadata": {
    "deletable": false,
    "editable": false,
    "nbgrader": {
     "cell_type": "code",
     "checksum": "1b2633329470388d8f3f5c67371e7e91",
     "grade": true,
     "grade_id": "cell-975425a982f89ca7",
     "locked": true,
     "points": 2,
     "schema_version": 3,
     "solution": false,
     "task": false
    }
   },
   "outputs": [
    {
     "data": {
      "text/plain": [
       "'TEST CELL- DO NOT DELETE'"
      ]
     },
     "execution_count": 44,
     "metadata": {},
     "output_type": "execute_result"
    }
   ],
   "source": [
    "'''TEST CELL- DO NOT DELETE'''"
   ]
  },
  {
   "cell_type": "markdown",
   "metadata": {
    "deletable": false,
    "editable": false,
    "nbgrader": {
     "cell_type": "markdown",
     "checksum": "8ca839e4b81c4d6a0e606683d20414bd",
     "grade": false,
     "grade_id": "cell-62c0d06a36b2856d",
     "locked": true,
     "schema_version": 3,
     "solution": false,
     "task": false
    }
   },
   "source": [
    "### (iii) What is the reduced $\\chi^2$ value? How many degrees of freedom are there?"
   ]
  },
  {
   "cell_type": "code",
   "execution_count": 45,
   "metadata": {
    "deletable": false,
    "nbgrader": {
     "cell_type": "code",
     "checksum": "d67acea1dbc0bcd3833491f6325a1089",
     "grade": false,
     "grade_id": "cell-173bc7ff24ff7e1c",
     "locked": false,
     "schema_version": 3,
     "solution": true,
     "task": false
    }
   },
   "outputs": [
    {
     "name": "stdout",
     "output_type": "stream",
     "text": [
      "(0.6861333347769943, 6)\n"
     ]
    }
   ],
   "source": [
    "def four_iii():\n",
    "    '''your function should return the reduced chi-square as well as the number of degrees of freedom.\n",
    "    Please make sure that the answer is a list/array of two floats'''\n",
    "    df=len(size)-2\n",
    "    red_chisq=four_i()[2]/df #Definition of degree of freedom\n",
    "    return red_chisq, df\n",
    "\n",
    "print(four_iii())"
   ]
  },
  {
   "cell_type": "code",
   "execution_count": 46,
   "metadata": {
    "deletable": false,
    "editable": false,
    "nbgrader": {
     "cell_type": "code",
     "checksum": "18876a2d7385de75a7638cbeb055e348",
     "grade": true,
     "grade_id": "cell-36a26447abd5de5b",
     "locked": true,
     "points": 2,
     "schema_version": 3,
     "solution": false,
     "task": false
    }
   },
   "outputs": [
    {
     "data": {
      "text/plain": [
       "'TEST CELL- DO NOT DELETE'"
      ]
     },
     "execution_count": 46,
     "metadata": {},
     "output_type": "execute_result"
    }
   ],
   "source": [
    "'''TEST CELL- DO NOT DELETE'''"
   ]
  },
  {
   "cell_type": "code",
   "execution_count": 47,
   "metadata": {
    "deletable": false,
    "editable": false,
    "nbgrader": {
     "cell_type": "code",
     "checksum": "7adef9eb2c5b583470af2614212ea729",
     "grade": true,
     "grade_id": "cell-7065d9049db3a38b",
     "locked": true,
     "points": 2,
     "schema_version": 3,
     "solution": false,
     "task": false
    }
   },
   "outputs": [
    {
     "data": {
      "text/plain": [
       "'TEST CELL- DO NOT DELETE'"
      ]
     },
     "execution_count": 47,
     "metadata": {},
     "output_type": "execute_result"
    }
   ],
   "source": [
    "'''TEST CELL- DO NOT DELETE'''"
   ]
  },
  {
   "cell_type": "markdown",
   "metadata": {
    "deletable": false,
    "editable": false,
    "nbgrader": {
     "cell_type": "markdown",
     "checksum": "ceb83251ab7c764b258f436e0b5c589a",
     "grade": false,
     "grade_id": "cell-631a4c99fd7928a9",
     "locked": true,
     "schema_version": 3,
     "solution": false,
     "task": false
    }
   },
   "source": [
    "### (vi) Does the model give a good description of the data? (Hint: think about what other tests you could perform to test the null hypothesis)"
   ]
  },
  {
   "cell_type": "markdown",
   "metadata": {
    "deletable": false,
    "nbgrader": {
     "cell_type": "markdown",
     "checksum": "7ac4ad511b41aaeb4f0436a90916c057",
     "grade": true,
     "grade_id": "cell-813e9149b6f3d1b1",
     "locked": false,
     "points": 2,
     "schema_version": 3,
     "solution": true,
     "task": false
    }
   },
   "source": [
    "This model gave us a good description. Because\n",
    "1. Lag plot of normalised Residual keep in -2<x<2\n",
    "2. Time-Residual graph does not make any shapes\n",
    "3. Reduced Chi-square is close to 1. If the value is too low or too high,  should have a question.\n",
    "4. Probability of Chi-square should be close to 0.5, But the probability is lower than 10$^{-4}$ should reject, and other values should check uncertainties and measurements of errors.\n",
    "5. Durbin-Watson value autocorrelation of normalised residuals yields test that whether D is close to 2"
   ]
  },
  {
   "cell_type": "code",
   "execution_count": null,
   "metadata": {},
   "outputs": [],
   "source": []
  }
 ],
 "metadata": {
  "kernelspec": {
   "display_name": "Python 3",
   "language": "python",
   "name": "python3"
  },
  "language_info": {
   "codemirror_mode": {
    "name": "ipython",
    "version": 3
   },
   "file_extension": ".py",
   "mimetype": "text/x-python",
   "name": "python",
   "nbconvert_exporter": "python",
   "pygments_lexer": "ipython3",
   "version": "3.7.4"
  }
 },
 "nbformat": 4,
 "nbformat_minor": 4
}
