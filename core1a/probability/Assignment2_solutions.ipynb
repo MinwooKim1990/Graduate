{
 "cells": [
  {
   "cell_type": "code",
   "execution_count": 1,
   "metadata": {},
   "outputs": [],
   "source": [
    "from __future__ import division\n",
    "from IPython.display import HTML\n",
    "from IPython.display import display\n",
    "from scipy.optimize import *\n",
    "import scipy\n",
    "import numpy as np\n",
    "import pandas as pd\n",
    "import matplotlib.pyplot as plt"
   ]
  },
  {
   "cell_type": "markdown",
   "metadata": {},
   "source": [
    "## Question 1: Poiseuille's method for determining viscosity\n",
    "\n",
    "The  volume flow rate, ${\\displaystyle\\frac{{\\rm d}V}{{\\rm d}t}}$, of fluid flowing smoothly through a horizontal tube of length $L$ and radius $r$ is given by Poiseuille's equation:\n",
    "\\begin{equation}\n",
    "\\frac{{\\rm d}V}{{\\rm d}t}=\\frac{\\pi\\rho g h r^4}{8\\eta L},\n",
    "\\end{equation}\n",
    "where $\\eta$ and $\\rho$ are the viscosity and density, respectively, of the fluid,  $h$ is the head of pressure across the tube, and $g$ the acceleration due to gravity. \n",
    "<bf>\n",
    "In an experiment the graph of the flow rate versus height has a slope measured to 7%, the length is known to 0.5%, and the radius to 8%.  \n",
    "<bf>\n",
    "Required:\n",
    "<bf>\n",
    "<blockquote>\n",
    "(i) What is the fractional precision to which the viscosity is known? \n",
    "<bf>\n",
    "<bf>\n",
    "(ii) If more experimental time is available, should this be devoted to \n",
    ">(a) collecting more flow-rate data, \n",
    "<bf>\n",
    ">(b) measuring the length,  \n",
    "<bf>\n",
    ">(c) the radius of the tube?"
   ]
  },
  {
   "cell_type": "markdown",
   "metadata": {},
   "source": [
    "### (i) What is the fractional precision to which the viscosity is known? Express your answer as a DECIMAL. "
   ]
  },
  {
   "cell_type": "code",
   "execution_count": 3,
   "metadata": {},
   "outputs": [
    {
     "name": "stdout",
     "output_type": "stream",
     "text": [
      "0.32760494501762333\n"
     ]
    }
   ],
   "source": [
    "def one_i():\n",
    "    fractional_precision = np.sqrt((16*0.08**2)+(0.07**2)+(0.005**2))\n",
    "    percentage_error = fractional_precision*100\n",
    "    return(fractional_precision)\n",
    "\n",
    "print(one_i())"
   ]
  },
  {
   "cell_type": "markdown",
   "metadata": {},
   "source": [
    "### (ii) If more experimental time is available, should this be devoted to \n",
    ">(a) collecting more flow-rate data, \n",
    "<bf>\n",
    ">(b) measuring the length,  \n",
    "<bf>\n",
    ">(c) the radius of the tube?\n"
   ]
  },
  {
   "cell_type": "code",
   "execution_count": 5,
   "metadata": {},
   "outputs": [
    {
     "name": "stdout",
     "output_type": "stream",
     "text": [
      "C\n"
     ]
    }
   ],
   "source": [
    "def one_ii():\n",
    "    '''Your function should return a string of A,B,C'''\n",
    "    ### BEGIN SOLUTION\n",
    "    comment = 'C' ###Add the answer to 1ii here\n",
    "    ### END SOLUTION\n",
    "    return(comment)\n",
    "\n",
    "print(one_ii())"
   ]
  },
  {
   "cell_type": "markdown",
   "metadata": {},
   "source": [
    "## Question 2: Functional error approach for Van der Waals calculation\n",
    "\n",
    "The Van der Waals equation of state is a correction to the ideal gas law, given by the equation,\n",
    "\n",
    "\\begin{equation}\n",
    "(P+\\frac{a}{V_m^2})(V_m-b) = RT,\n",
    "\\end{equation}\n",
    "\n",
    "where $P$ is the pressure, $V_m$ is the molar volume, $T$ is the absolute temperature, $R$ is the universal gas constant with $a$ and $b$ being species-specific Van der Waals coefficents. \n",
    "\n",
    "A sample of Nitrogen was measured in an experiment as,\n",
    "<bf>\n",
    ">Molar Volume $V_m$ = $(2.000 \\pm 0.003)$x$10^{-4}m^3mol^{-1}$\n",
    "<bf>\n",
    ">Absolute Temperature $T$ = $298.0\\pm0.2K$\n",
    "\n",
    "and the constants are,\n",
    "<blockquote>\n",
    "<bf> \n",
    "$a$ = $(1.408$x$10^{-1}) m^6mol^{-2}Pa$\n",
    "<bf>\n",
    "$b$ = $(3.913$x$10^{-5}) m^3mol^{-1}$\n",
    "<bf>\n",
    "$R$ = $(8.3145) JK^{-1}mol^{-1}$\n",
    "<bf>\n",
    "</blockquote>\n",
    "Required:\n",
    "<bf>\n",
    ">(i) From the given data, calculate the pressure giving your answer in MPa.\n",
    "<bf>\n",
    ">(ii) Calculate the uncertainty in the pressure by using the functional approach for error propagation.\n",
    "<bf>\n",
    ">(iii) Repeat the calculations above for \n",
    ">>$V_m = (2.000\\pm0.003)\\times10^{-3}\\,{\\rm m}^{3}\\,{\\rm mol}^{-1}$ and  $T=400.0 \\pm 0.2K$."
   ]
  },
  {
   "cell_type": "markdown",
   "metadata": {},
   "source": [
    "### (i) From the given data, calculate the pressure giving your answer in MPa.\n"
   ]
  },
  {
   "cell_type": "code",
   "execution_count": 7,
   "metadata": {},
   "outputs": [
    {
     "name": "stdout",
     "output_type": "stream",
     "text": [
      "11.882007832411261\n"
     ]
    }
   ],
   "source": [
    "def two_i():\n",
    "    '''Your function should return the pressure in MPa'''\n",
    "    R = 8.3145\n",
    "    T,alpha_t = 298,0.2\n",
    "    v_m,alpha_vm = 2*10**-4,0.003*10**-4\n",
    "    b = 3.913*10**-5\n",
    "    a = 1.408*10**-1\n",
    "    pressure = (((R*T)/(v_m-b))-(a/(v_m**2)))/10**6\n",
    "    return(pressure)\n",
    "print(two_i())"
   ]
  },
  {
   "cell_type": "markdown",
   "metadata": {},
   "source": [
    "### (ii) Calculate the uncertainty in the pressure by using the functional approach for error propagation.\n"
   ]
  },
  {
   "cell_type": "code",
   "execution_count": 8,
   "metadata": {},
   "outputs": [
    {
     "name": "stdout",
     "output_type": "stream",
     "text": [
      "0.020872267575327286\n"
     ]
    }
   ],
   "source": [
    "def two_ii():\n",
    "    '''Your function should return the uncertainty'''\n",
    "    R = 8.3145\n",
    "    T,alpha_t = 298,0.2\n",
    "    v_m,alpha_vm = 2*10**-4,0.003*10**-4\n",
    "    b = 3.913*10**-5\n",
    "    a = 1.408*10**-1\n",
    "    pressure = two_i()*10**6\n",
    "    \n",
    "    alpha_v= ((R*T)/((v_m+alpha_vm)-b))-(a/((v_m+alpha_vm)**2))-pressure\n",
    "    alpha_t = ((R*(T+alpha_t))/(v_m-b))-(a/(v_m**2))-pressure\n",
    "    uncertainty = (np.sqrt((alpha_v**2)+(alpha_t**2)))/10**6\n",
    "    return(uncertainty)\n",
    "  \n",
    "print(two_ii())   "
   ]
  },
  {
   "cell_type": "markdown",
   "metadata": {},
   "source": [
    "### (iii) Repeat the calculations above for \n",
    ">$V_m = (2.000\\pm0.003)\\times10^{-3}\\,{\\rm m}^{3}\\,{\\rm mol}^{-1}$ and  $T=400.0 \\pm 0.2K$."
   ]
  },
  {
   "cell_type": "code",
   "execution_count": 10,
   "metadata": {},
   "outputs": [
    {
     "name": "stdout",
     "output_type": "stream",
     "text": [
      "(1.6608838811343944, 0.0026262566498485803)\n"
     ]
    }
   ],
   "source": [
    "def two_iii():\n",
    "    '''Your function should return both the pressure and the uncertainty'''\n",
    "    pressure_2 = 0\n",
    "    uncertainty_2 = 0\n",
    "    R = 8.3145\n",
    "    T,alpha_t = 400,0.2\n",
    "    v_m,alpha_vm = 2*10**-3,0.003*10**-3\n",
    "    b = 3.913*10**-5\n",
    "    a = 1.408*10**-1\n",
    "    \n",
    "    pressure_2 = (((R*T)/(v_m-b))-(a/(v_m**2)))\n",
    "    alpha_v= ((R*T)/((v_m+alpha_vm)-b))-(a/((v_m+alpha_vm)**2))-pressure_2\n",
    "    alpha_t = ((R*(T+alpha_t))/(v_m-b))-(a/(v_m**2))-pressure_2\n",
    "    uncertainty_2 = (np.sqrt((alpha_v**2)+(alpha_t**2)))/1000000\n",
    "    pressure_2 = pressure_2/10**6\n",
    "    return(pressure_2,uncertainty_2)\n",
    "\n",
    "print(two_iii())"
   ]
  },
  {
   "cell_type": "markdown",
   "metadata": {},
   "source": [
    "## Question 3: Reverse Engineering the Incredible Goal\n",
    "The separation of the posts is 7.32m, and the ball is struck from a point 22m from the near post and 29m from the far post.\n",
    "\n",
    "Required:\n",
    "\n",
    "> (i) Plot a graph of $\\alpha_\\theta$ on the y-axis vs $\\alpha_L$ on the x-axis for the range of values presented in the alpha_ls array.\n",
    "<bf>\n",
    ">(ii) To what (common) precision must these three lengths be known to justify quoting the angle to 11 significant figures? \n",
    "\n",
    "*[Hint: use the functional approach using the values for the errors in the length measurements as the provided alpha__ls array]*"
   ]
  },
  {
   "cell_type": "code",
   "execution_count": 11,
   "metadata": {},
   "outputs": [
    {
     "data": {
      "image/png": "[encoded data removed]",
      "text/plain": [
       "<Figure size 432x288 with 1 Axes>"
      ]
     },
     "metadata": {
      "needs_background": "light"
     },
     "output_type": "display_data"
    },
    {
     "data": {
      "text/plain": [
       "[0.06827378949079929,\n",
       " 0.006893712190569874,\n",
       " 0.0006909666270784624,\n",
       " 6.911354959069365e-05,\n",
       " 6.911524764420023e-06,\n",
       " 6.911541761150482e-07,\n",
       " 6.91154354277181e-08,\n",
       " 6.911543877188722e-09,\n",
       " 6.911537651168946e-10,\n",
       " 6.911442838053188e-11,\n",
       " 6.911803154041826e-12,\n",
       " 6.901352877330132e-13]"
      ]
     },
     "execution_count": 11,
     "metadata": {},
     "output_type": "execute_result"
    }
   ],
   "source": [
    "def three_i():\n",
    "    a = 22\n",
    "    b = 29\n",
    "    c = 7.32\n",
    "    alpha_ls = [0.1, 0.01, 0.001, 0.0001, 1e-05, 1e-06, 1e-07, 1e-08, 1e-09, 1e-10, 1e-11, 1e-12]\n",
    "    alpha_thetas = []\n",
    "    '''Your function should plot the graph and return the alpha_thetas array.'''\n",
    "    theta_rad = np.arccos(((b**2)+(c**2)-(a**2))/(2*b*c))\n",
    "\n",
    "    for i in alpha_ls:\n",
    "        error = i\n",
    "        alpha_az = np.arccos(((b**2)+(c**2)-((a+error)**2))/(2*b*c))-theta_rad\n",
    "        alpha_bz = np.arccos((((b+error)**2)+(c**2)-(a**2))/(2*(b+error)*c))-theta_rad\n",
    "        alpha_cz = np.arccos(((b**2)+((c+error)**2)-(a**2))/(2*b*(c+error)))-theta_rad\n",
    "        alpha_theta = np.sqrt(((alpha_az)**2)+((alpha_bz)**2)+((alpha_cz)**2))\n",
    "        alpha_thetas.append(alpha_theta)\n",
    "    plt.plot(alpha_ls,alpha_thetas)\n",
    "    plt.yscale('log')\n",
    "    plt.xscale('log')\n",
    "    plt.xlabel(r'$\\alpha_L$')\n",
    "    plt.ylabel(r'$\\alpha_\\theta$')\n",
    "    plt.show()\n",
    "    return(alpha_thetas)\n",
    "\n",
    "three_i()"
   ]
  },
  {
   "cell_type": "markdown",
   "metadata": {},
   "source": [
    "### (ii) To what (common) precision must these three lengths be known to justify quoting the angle to 11 significant figures?"
   ]
  },
  {
   "cell_type": "markdown",
   "metadata": {},
   "source": [
    "For the angle to be quoted to 11 significant figures, the error must be in the 10th decimal place (since the angle is in radians and we are assuming the angle to be >1 radian). This is the case first when the error in the angle is 7x$10^{-10}$, which corresponds to a common precision in the lenghts of $10^{-9}$. If the angle were <1 radian then the precision would be $10^{-10}$."
   ]
  },
  {
   "cell_type": "markdown",
   "metadata": {},
   "source": [
    "## Question 4: Linear Regression/Weighted Fit\n",
    "\n",
    "The data  plotted in Fig 6.1(d) relating to the degradation of the signal to noise ratio from a frequency to voltage converter near harmonics of the mains frequency are listed below.\n",
    "\\begin{equation}\n",
    "\\begin{array}{lcccccc}\n",
    "\\hline\n",
    "{\\rm frequency~(Hz)} &10&20&30&40&50&60\\\\\n",
    "{\\rm voltage~(mV)} &16&45&64&75&70&115\\\\\n",
    "{\\rm error~(mV)}   &5&5&5&5&30&5\\\\\n",
    "\\hline\n",
    "{\\rm frequency~(Hz)} &70&80&90&100&110&\\\\\n",
    "{\\rm voltage~(mV)} &142&167&183&160&221&\\\\\n",
    "{\\rm error~(mV)}   &5&5&5&30&5&\\\\\n",
    "\\hline\n",
    "\\end{array} \n",
    "\\end{equation}\n",
    "\n",
    "This data is also contained in the file 'linear_regression.csv'.\n",
    "\n",
    "Required: \n",
    "<bf>\n",
    "> (i) Calculate the best-fit gradient and intercept and associated errors using a weighted fit. You may use the `curve_fit` function."
   ]
  },
  {
   "cell_type": "code",
   "execution_count": 12,
   "metadata": {},
   "outputs": [
    {
     "data": {
      "text/plain": [
       "(2.0284648194758716,\n",
       " 0.05231193382948591,\n",
       " -0.9474963040606827,\n",
       " 3.4085972274383725)"
      ]
     },
     "execution_count": 12,
     "metadata": {},
     "output_type": "execute_result"
    }
   ],
   "source": [
    "dat = open(\"linear_regression.csv\", \"w\")\n",
    "a = \"Frequency/Hz,Voltage/mV,Error/mV\\n10,16,5\\n20,45,5\\n30,64,5\\n40,75,5\\n50,70,30\\n60,115,5\\n70,142,5\\n80,167,5\\n90,183,5\\n100,160,30\\n110,221,5\"\n",
    "dat.write(a)\n",
    "dat.close()\n",
    "\n",
    "data = pd.read_csv('linear_regression.csv')\n",
    "frequencies = data.iloc[:,0]\n",
    "voltages = data.iloc[:,1]\n",
    "voltage_errors = data.iloc[:,2]\n",
    "\n",
    "def f(frequencies, a,b):\n",
    "    return a*frequencies+b\n",
    "\n",
    "def best_fit_params():\n",
    "    '''Your function should return the gradient,gradient_error,intercept,intercept_error'''\n",
    "    gradient = 0\n",
    "    gradient_error = 0\n",
    "    intercept = 0\n",
    "    intercept_error = 0\n",
    "\n",
    "    # Using the curve_fit function\n",
    "    popt, pcov = curve_fit(f, frequencies, voltages, sigma = voltage_errors)\n",
    "    perr = np.sqrt(np.diag(pcov))\n",
    "    gradient = popt[0]\n",
    "    gradient_error = perr[0]\n",
    "    intercept = popt[1]\n",
    "    intercept_error = perr[1]\n",
    "\n",
    "    return(gradient,gradient_error,intercept,intercept_error)\n",
    "\n",
    "best_fit_params()"
   ]
  },
  {
   "cell_type": "markdown",
   "metadata": {},
   "source": [
    "## Question 5: Error bars from a $\\chi^2$ minimisation\n",
    "|--|Unweighted | Weighted |\n",
    "| --- | --- | --- |\n",
    "| Gradient | (1.9$\\pm$0.2)mV/Hz | (2.03$\\pm$0.05)mV/Hz |\n",
    "| Intercept | (0$\\pm$1)x10mV | (-1$\\pm$3)mV |\n",
    "\n",
    "Required:\n",
    "<bf>\n",
    ">(i) For the data set of the previous question, write your own code to perform a $\\chi^2$ minimisation. You may use the `mininmize` function, but not the `curve_fit` function.\n",
    "<bf>\n",
    ">(ii) Verify that $\\chi^{2}_{\\rm{min}}$ is obtained for the same values of the parameters as are listed in the table above. \n",
    "<bf>\n",
    ">(iii) By following the procedure of $\\chi^2\\rightarrow\\chi^2_{\\rm min}+1$ outlined in Section 6.5 in Hughes and Hase and the figure above, check that the error bars for $m$ and $c$ are in agreement with the table above.  Include explicitly the first 5 steps of the procedure shown in the figure above for the calculation of the slope."
   ]
  },
  {
   "cell_type": "markdown",
   "metadata": {},
   "source": [
    "### (i) For the data set of the previous question, write code to perform a $\\chi^2$ minimisation."
   ]
  },
  {
   "cell_type": "code",
   "execution_count": 45,
   "metadata": {},
   "outputs": [
    {
     "name": "stdout",
     "output_type": "stream",
     "text": [
      "chi2_min =  9.12\n"
     ]
    },
    {
     "data": {
      "image/png": "[encoded data removed]",
      "text/plain": [
       "<Figure size 432x288 with 1 Axes>"
      ]
     },
     "metadata": {
      "needs_background": "light"
     },
     "output_type": "display_data"
    },
    {
     "name": "stdout",
     "output_type": "stream",
     "text": [
      "The gradient is 2.028464767335051 mV/Hz and the intecept is -0.947492954467219 mV\n"
     ]
    }
   ],
   "source": [
    "data = pd.read_csv('linear_regression.csv')\n",
    "frequencies = data.iloc[:,0]\n",
    "voltages = data.iloc[:,1]\n",
    "voltage_errors = data.iloc[:,2]\n",
    "# Note: it is useful to normalise the data in order to help avoid a large\n",
    "# dependence on the initial starting position\n",
    "voltages = voltages\n",
    "voltage_errors = voltage_errors\n",
    "\n",
    "def chisqfunc(x):\n",
    "    'Linear chi squared fitting function'\n",
    "    a,b = x\n",
    "    model = a + b*frequencies\n",
    "    chisq = np.sum(((voltages - model)/voltage_errors)**2)\n",
    "    return chisq\n",
    "\n",
    "# Set starting position from which to minimize\n",
    "x0 = np.array([0,0])\n",
    "\n",
    "# Use scipy.optimize.minimize\n",
    "result =  minimize(chisqfunc, x0)\n",
    "a,b=result.x\n",
    "min_chisq = chisqfunc(result.x)\n",
    "print('chi2_min = ',np.round(minchisq,2))\n",
    "\n",
    "# Good practice to plot graph to show the fit to check its quality\n",
    "plt.errorbar(frequencies,voltages, label = 'data', yerr=voltage_errors,fmt='o',capsize=2.5)\n",
    "plt.plot(frequencies,a+b*frequencies, label = 'chi squared fit')\n",
    "plt.xlabel('Frequency (Hz)')\n",
    "plt.ylabel('Voltage (mV)')\n",
    "plt.legend()\n",
    "plt.show()\n",
    "\n",
    "print ('The gradient is {} mV/Hz and the intecept is {} mV'.format(b,a))"
   ]
  },
  {
   "cell_type": "markdown",
   "metadata": {},
   "source": [
    "Note: the fit is good and the only points further away from the line are the two with very large error bars."
   ]
  },
  {
   "cell_type": "markdown",
   "metadata": {},
   "source": [
    "### (ii) Verify that $\\chi^{2}_{\\rm{min}}$ is obtained for the same values of the parameters as are listed in the table above. "
   ]
  },
  {
   "cell_type": "code",
   "execution_count": 18,
   "metadata": {},
   "outputs": [
    {
     "data": {
      "text/plain": [
       "(2.028464767335051, -0.947492954467219)"
      ]
     },
     "execution_count": 18,
     "metadata": {},
     "output_type": "execute_result"
    }
   ],
   "source": [
    "def five_ii(): \n",
    "    '''Your function must return the gradient and intercept'''\n",
    "    \n",
    "    gradient = b\n",
    "    intercept = a\n",
    "    \n",
    "    return gradient,intercept \n",
    "five_ii()"
   ]
  },
  {
   "cell_type": "code",
   "execution_count": 31,
   "metadata": {},
   "outputs": [
    {
     "data": {
      "text/plain": [
       "True"
      ]
     },
     "execution_count": 31,
     "metadata": {},
     "output_type": "execute_result"
    }
   ],
   "source": [
    "np.round(five_ii()[0], 2) == 2.03"
   ]
  },
  {
   "cell_type": "code",
   "execution_count": 30,
   "metadata": {},
   "outputs": [
    {
     "data": {
      "text/plain": [
       "True"
      ]
     },
     "execution_count": 30,
     "metadata": {},
     "output_type": "execute_result"
    }
   ],
   "source": [
    "np.round(five_ii()[1]) == -1"
   ]
  },
  {
   "cell_type": "markdown",
   "metadata": {},
   "source": [
    "### (iii) By following the procedure of $\\chi^2\\rightarrow\\chi^2_{\\rm min}+1$ outlined in Section 6.5 in Hughes and Hase and the figure above, check that the error bars for $m$ and $c$ are in agreement with the table above.  Include explicitly the first 5 steps of the procedure shown in the figure above for the calculation of the slope."
   ]
  },
  {
   "cell_type": "code",
   "execution_count": 32,
   "metadata": {},
   "outputs": [
    {
     "data": {
      "text/plain": [
       "(0.05, 3.0)"
      ]
     },
     "execution_count": 32,
     "metadata": {},
     "output_type": "execute_result"
    }
   ],
   "source": [
    "def search(precision, z_min, f_min):\n",
    "\n",
    "    z_new = z_min\n",
    "    f_new = f_min\n",
    "    m_stop = 0\n",
    "    c_stop = 0\n",
    "    while(m_stop == 0 or c_stop == 0):\n",
    "        m_stop = 1\n",
    "        c_stop = 1\n",
    "        \n",
    "        # There are more optimal ways than doing a while(1) function but this suffices for this solution\n",
    "        while (1):\n",
    "            # changing gradient\n",
    "            z_new[1] = z_new[1] + (1 / precision)\n",
    "\n",
    "            f_new = chisqfunc(z_new)\n",
    "                \n",
    "            if (f_new - f_min) >= 1 :\n",
    "                z_new[1] = z_new[1] - (1 / precision)\n",
    "                break;\n",
    "            else :\n",
    "                m_stop = 0\n",
    "        \n",
    "        while (1):\n",
    "            # changing intercept\n",
    "            z_new[0] = z_new[0] - (1 / precision)\n",
    "\n",
    "            f_new = chisqfunc(z_new)\n",
    "                \n",
    "            if (f_new - f_min) >= 1 :\n",
    "                z_new[0] = z_new[0] + (1 / precision)\n",
    "                break;\n",
    "            else:\n",
    "                c_stop = 0\n",
    "                \n",
    "    return z_new\n",
    "\n",
    "def five_iii():\n",
    "    '''\n",
    "    Adapted from one of the submitted homework solutions - thank you to whoever did this\n",
    "    The function has been adapted to make it slightly more efficient but I liked the custom search function\n",
    "    '''\n",
    "    error_m = 0\n",
    "    error_c = 0\n",
    "    \n",
    "    x0 = [0,0]\n",
    "    result_weight = minimize(chisqfunc, x0)\n",
    "    \n",
    "    precision = 1000\n",
    "    result_shift_weight = search(1000, result_weight.x, result_weight.fun)\n",
    "    \n",
    "    result_weight = minimize(chisqfunc, x0)\n",
    "    \n",
    "    error_m_weight = round(abs(result_shift_weight[1] - result_weight.x[1]), 2)\n",
    "    error_c_weight = round(abs(result_shift_weight[0] - result_weight.x[0]), 0)\n",
    "    \n",
    "    error_m = error_m_weight\n",
    "    error_c = error_c_weight\n",
    "    \n",
    "    return error_m, error_c\n",
    "\n",
    "five_iii()"
   ]
  },
  {
   "cell_type": "markdown",
   "metadata": {},
   "source": [
    "## Question 6- Strategies for error bars\n",
    "\n",
    "\\begin{equation}\n",
    "\\begin{array}{lccccc}\n",
    "\\hline\n",
    "x &1&2&3&4&5\\\\\n",
    "y &51&103&150&199&251\\\\\n",
    "\\alpha_{y}   &1&1&2&2&3\\\\\n",
    "\\hline\n",
    "x &6&7&8&9&10\\\\\n",
    "y &303&347&398&452&512\\\\\n",
    "\\alpha_{y}   &3&4&5&6&7\\\\\n",
    "\\hline\n",
    "\\end{array} \n",
    "\\end{equation}\n",
    "\n",
    "Required:\n",
    "<bf>\n",
    ">(i) Calculate the weighted best-fit values of the slope, intercept, and their uncertainties.\n",
    "<bf>\n",
    ">(ii) If the data set had been homoscedastic, with all the errors equal, $\\alpha_{y}=4$, calculate the weighted best-fit values of the slope, intercept, and their uncertainties.\n",
    "<bf>\n",
    ">(iii) If the experimenter took greater time to collect the first and last data points, for which $\\alpha_{y}=1$, at the expense of all of the other data points, for which $\\alpha_{y}=8$, calculate the weighted best-fit values of the slope, intercept, and their uncertainties.\n",
    "<bf>\n",
    ">(iv) Comment on your results.\n",
    "<bf>\n",
    ">(v) Plot the original data from the table including error bars. On the same plot, show the fitted function calculated in (i)."
   ]
  },
  {
   "cell_type": "markdown",
   "metadata": {},
   "source": [
    "### (i) Calculate the weighted best-fit values of the slope, intercept, and their uncertainties."
   ]
  },
  {
   "cell_type": "code",
   "execution_count": 33,
   "metadata": {},
   "outputs": [
    {
     "data": {
      "text/plain": [
       "(49.897901330290246,\n",
       " 1.726770927266596,\n",
       " 0.33220168672803313,\n",
       " 1.0360069243330237)"
      ]
     },
     "execution_count": 33,
     "metadata": {},
     "output_type": "execute_result"
    }
   ],
   "source": [
    "xs = [1,2,3,4,5,6,7,8,9,10]\n",
    "ys = [51,103,150,199,251,303,347,398,452,512]\n",
    "ay = [1,1,2,2,3,3,4,5,6,7]\n",
    "\n",
    "def f(x,a,b):\n",
    "    return(a*x+b)\n",
    "\n",
    "def six_i():\n",
    "    'Returns slope, intercept, slope uncertainty and intercept uncertainty'\n",
    "    errors = [1,1,2,2,3,3,4,5,6,7]\n",
    "    slope = 0\n",
    "    intercept = 0\n",
    "    slope_uncertainty = 0\n",
    "    intercept_uncertainty = 0\n",
    "\n",
    "    popt, pcov = curve_fit(f, xs, ys, sigma = errors,p0 = [49,1.7])\n",
    "    perr = np.sqrt(np.diag(pcov))\n",
    "    slope = popt[0]\n",
    "    intercept = popt[1]\n",
    "    slope_uncertainty = perr[0]\n",
    "    intercept_uncertainty = perr[1]\n",
    "\n",
    "    return slope,intercept,slope_uncertainty,intercept_uncertainty\n",
    "six_i()"
   ]
  },
  {
   "cell_type": "markdown",
   "metadata": {},
   "source": [
    "### (ii) If the data set had been homoscedastic, with all the errors equal, $\\alpha_{y}=4$, calculate the weighted best-fit values of the slope, intercept, and their uncertainties.\n"
   ]
  },
  {
   "cell_type": "code",
   "execution_count": 35,
   "metadata": {},
   "outputs": [
    {
     "data": {
      "text/plain": [
       "(50.47272726877133,\n",
       " -0.9999999782423065,\n",
       " 0.45720434535997834,\n",
       " 2.836878357799031)"
      ]
     },
     "execution_count": 35,
     "metadata": {},
     "output_type": "execute_result"
    }
   ],
   "source": [
    "def six_ii():\n",
    "    errors = [4,4,4,4,4,4,4,4,4,4]\n",
    "    slope = 0\n",
    "    intercept = 0\n",
    "    slope_uncertainty = 0\n",
    "    intercept_uncertainty = 0\n",
    "\n",
    "    popt, pcov = curve_fit(f, xs, ys, sigma = errors)\n",
    "    perr = np.sqrt(np.diag(pcov))\n",
    "    slope = popt[0]\n",
    "    intercept = popt[1]\n",
    "    slope_uncertainty = perr[0]\n",
    "    intercept_uncertainty = perr[1]\n",
    "\n",
    "    return slope,intercept,slope_uncertainty,intercept_uncertainty\n",
    "\n",
    "six_ii()"
   ]
  },
  {
   "cell_type": "markdown",
   "metadata": {},
   "source": [
    "### (iii) If the experimenter took greater time to collect the first and last data points, for which $\\alpha_{y}=1$, at the expense of all of the other data points, for which $\\alpha_{y}=8$, calculate the weighted best-fit values of the slope, intercept, and their uncertainties."
   ]
  },
  {
   "cell_type": "code",
   "execution_count": 36,
   "metadata": {},
   "outputs": [
    {
     "data": {
      "text/plain": [
       "(51.198747152729084,\n",
       " -0.45340345705795704,\n",
       " 0.1386871428143153,\n",
       " 0.9769093572145311)"
      ]
     },
     "execution_count": 36,
     "metadata": {},
     "output_type": "execute_result"
    }
   ],
   "source": [
    "def six_iii():\n",
    "    errors = [1,8,8,8,8,8,8,8,8,1]\n",
    "    slope = 0\n",
    "    intercept = 0\n",
    "    slope_uncertainty = 0\n",
    "    intercept_uncertainty = 0\n",
    "\n",
    "    popt, pcov = curve_fit(f, xs, ys, sigma = errors)\n",
    "    perr = np.sqrt(np.diag(pcov))\n",
    "    slope = popt[0]\n",
    "    intercept = popt[1]\n",
    "    slope_uncertainty = perr[0]\n",
    "    intercept_uncertainty = perr[1]\n",
    "    comment = 'In this case, the error on the fit parameters is lower due to reducing the error of these datapoints.'\n",
    "\n",
    "    return slope,intercept,slope_uncertainty,intercept_uncertainty\n",
    "six_iii()"
   ]
  },
  {
   "cell_type": "markdown",
   "metadata": {},
   "source": [
    "### (iv) Comment on your results."
   ]
  },
  {
   "cell_type": "markdown",
   "metadata": {},
   "source": [
    "Comparing the uncertainties of the fits found in parts (i), (ii) and (iii), we find that the uncertainty on the slope is smallest for (iii). I.e. having small uncertainties for the extremal points is important for a good determination of the slope. Precise measurements of the data points close to x=0 reduce the uncertainty on the intercept. This is why we find relatively small (and similar) uncertainties on the intercept in scenarios (i) and (iii), where the uncertainty on the y-position of the x=1 data point is 1 in both cases."
   ]
  },
  {
   "cell_type": "markdown",
   "metadata": {},
   "source": [
    "### (v) Plot the original data from the table including error bars. On the same plot, show the fitted function calculated in (i)."
   ]
  },
  {
   "cell_type": "code",
   "execution_count": 38,
   "metadata": {},
   "outputs": [
    {
     "data": {
      "text/plain": [
       "<function matplotlib.pyplot.show(*args, **kw)>"
      ]
     },
     "execution_count": 38,
     "metadata": {},
     "output_type": "execute_result"
    },
    {
     "data": {
      "image/png": "[encoded data removed]",
      "text/plain": [
       "<Figure size 432x288 with 1 Axes>"
      ]
     },
     "metadata": {
      "needs_background": "light"
     },
     "output_type": "display_data"
    }
   ],
   "source": [
    "m,c,_,_ = six_i()\n",
    "plt.errorbar(xs,ys,yerr=ay,fmt='o',capsize=2.5, label = 'data')\n",
    "plt.plot(np.arange(11),m*np.arange(11)+c, label = 'weighted fit')\n",
    "plt.xlabel('x')\n",
    "plt.ylabel('y')\n",
    "plt.legend()\n",
    "plt.show"
   ]
  },
  {
   "cell_type": "code",
   "execution_count": null,
   "metadata": {},
   "outputs": [],
   "source": []
  }
 ],
 "metadata": {
  "kernelspec": {
   "display_name": "Python 3",
   "language": "python",
   "name": "python3"
  },
  "language_info": {
   "codemirror_mode": {
    "name": "ipython",
    "version": 3
   },
   "file_extension": ".py",
   "mimetype": "text/x-python",
   "name": "python",
   "nbconvert_exporter": "python",
   "pygments_lexer": "ipython3",
   "version": "3.7.4"
  }
 },
 "nbformat": 4,
 "nbformat_minor": 2
}
