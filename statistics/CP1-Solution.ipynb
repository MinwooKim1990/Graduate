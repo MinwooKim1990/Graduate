{
 "cells": [
  {
   "cell_type": "markdown",
   "metadata": {
    "deletable": false,
    "editable": false,
    "nbgrader": {
     "cell_type": "markdown",
     "checksum": "d4a842077842fab0115f4315d3c290fb",
     "grade": false,
     "grade_id": "cell-10c931060e6d0906",
     "locked": true,
     "schema_version": 3,
     "solution": false,
     "task": false
    }
   },
   "source": [
    "# Problem\n",
    "\n",
    "In this practical, you will perform a simple Bayesian analysis in order to learn about an underlying population quantity from a sample. The unknown quantity of interest will be the proportion of people, $p \\in [0, 1]$, who plan to vote for the Labour Party at the next election. The data will be the number $i$ who plan to vote Labour (or not) in a sample of size $n$ from the population. We are therefore interested in the distribution $P(p \\mid i, n, K)$, where $K$ represents all our other knowledge. We will drop $K$ from now on for simplicity, but remember it is always there implicitly. \n",
    "\n",
    "To proceed, we must either model $P(p \\mid i, n, K)$ directly, or re-express it in terms of other probabilities that are easier to model. In this case, the latter is easier, for the reasons discussed in lectures: we can imagine that we know something about $p$ from previous data, and that we have an understanding of how the sample was taken. We therefore rewrite $P(p \\mid i, n, K)$ using Bayes' theorem:\n",
    "\n",
    "$$\n",
    "P(p \\mid i, n) = \\frac{P(i \\mid p, n)\\: P(p \\mid n)}{P(i \\mid n)}\n",
    "$$\n",
    "\n",
    "Note that $P(i \\mid n)$ does not depend upon $p$ and that $P(p \\mid n) = P(p)$. Hence, we can write\n",
    "\n",
    "$$\n",
    "P(p \\mid i, n) = P(i \\mid p, n)\\: P(p)\n",
    "$$\n",
    "\n",
    "with the constant determined by normalization. To obtain the left-hand side, we must first create models $P(p)$ for our knowledge of $p$ in the absence of the data (the 'prior'), and $P(i \\mid p, n)$ for how the data is generated (the 'likelihood'). We then multiply them together, and extract information computationally. Since this is a computer practical, we will discretize the range $[0, 1]$ of $p$, evaluate the prior and the likelihood for these discrete values, multiply them together, and then normalize the results so that they sum to 1. This will give us a plot of the whole distribution $P(p \\mid i, n, K)$. \n",
    "\n",
    "## The data model (likelihood)\n",
    "\n",
    "Suppose we take a sample of 12 people from the population and we find that 7 are planning to vote Labour, and 5 are not. Thus $n = 12$ and $i = 7$. If knowledge of how one person plans to vote does not tell us anything about how the others are planning to vote given that we know $p$ (true if we know nothing about the people involved), then the individual votings plans are independent. Thus we have that  \n",
    "\n",
    "$$ \n",
    "P(i \\mid p, n) = \\binom{n}{i}\\: p^{i} \\: (1-p)^{n-i}\n",
    "$$\n",
    "\n",
    "i.e. binomial with parameters $p$ and $n$."
   ]
  },
  {
   "cell_type": "markdown",
   "metadata": {
    "deletable": false,
    "editable": false,
    "nbgrader": {
     "cell_type": "markdown",
     "checksum": "450e237f0d14dc0ffbd475d06dca65ce",
     "grade": false,
     "grade_id": "cell-ac85562e53c733a4",
     "locked": true,
     "schema_version": 3,
     "solution": false,
     "task": false
    }
   },
   "source": [
    "##### Question\n",
    "\n",
    "Express the likelihood of our 12 person sample in terms of p."
   ]
  },
  {
   "cell_type": "markdown",
   "metadata": {
    "deletable": false,
    "editable": false,
    "nbgrader": {
     "cell_type": "markdown",
     "checksum": "fd2e1d817e6041a8045772f76402460d",
     "grade": false,
     "grade_id": "cell-962707e8434c7210",
     "locked": true,
     "schema_version": 3,
     "solution": false,
     "task": false
    }
   },
   "source": [
    "$$\n",
    "P(7 \\mid p, 12) = \\binom{12}{7}\\: p^{7}\\:(1 - p)^{5}\n",
    "$$"
   ]
  },
  {
   "cell_type": "markdown",
   "metadata": {
    "deletable": false,
    "editable": false,
    "nbgrader": {
     "cell_type": "markdown",
     "checksum": "dd90671da14f72632953ea20ba7bad6e",
     "grade": false,
     "grade_id": "cell-59c6fe97a22bcd39",
     "locked": true,
     "schema_version": 3,
     "solution": false,
     "task": false
    }
   },
   "source": [
    "##### Question\n",
    "\n",
    "Use the `choose` function in R to calculate $\\binom{12}{7}$."
   ]
  },
  {
   "cell_type": "code",
   "execution_count": 8,
   "metadata": {
    "deletable": false,
    "editable": false,
    "nbgrader": {
     "cell_type": "code",
     "checksum": "943d8b48913c9e9c23c9179a4fd2f5e2",
     "grade": false,
     "grade_id": "cell-8c5a8e36490e82ae",
     "locked": true,
     "schema_version": 3,
     "solution": false,
     "task": false
    }
   },
   "outputs": [
    {
     "data": {
      "text/html": [
       "792"
      ],
      "text/latex": [
       "792"
      ],
      "text/markdown": [
       "792"
      ],
      "text/plain": [
       "[1] 792"
      ]
     },
     "metadata": {},
     "output_type": "display_data"
    }
   ],
   "source": [
    "choose(12, 7)"
   ]
  },
  {
   "cell_type": "markdown",
   "metadata": {
    "deletable": false,
    "editable": false,
    "nbgrader": {
     "cell_type": "markdown",
     "checksum": "7bf6e3eac9b61e5942136c4484981110",
     "grade": false,
     "grade_id": "cell-d251190a905f2b81",
     "locked": true,
     "schema_version": 3,
     "solution": false,
     "task": false
    }
   },
   "source": [
    "##### Question\n",
    "\n",
    "Write an R function called `like` with one argument, `p`, that computes and returns the likelihood of our 12 person sample."
   ]
  },
  {
   "cell_type": "code",
   "execution_count": 9,
   "metadata": {
    "deletable": false,
    "editable": false,
    "nbgrader": {
     "cell_type": "code",
     "checksum": "16b0acdd1e69574d6f7ec1c65cbbf08f",
     "grade": false,
     "grade_id": "cell-41c19593a32f5044",
     "locked": true,
     "schema_version": 3,
     "solution": false,
     "task": false
    }
   },
   "outputs": [],
   "source": [
    "like = function(p){\n",
    "    \n",
    "    n = 12\n",
    "    i = 7\n",
    "    comb = choose(12, 7)\n",
    "    \n",
    "    P = comb * p^(i) * (1 - p)^(n - i)\n",
    "    \n",
    "    return(P)\n",
    "}"
   ]
  },
  {
   "cell_type": "markdown",
   "metadata": {
    "deletable": false,
    "editable": false,
    "nbgrader": {
     "cell_type": "markdown",
     "checksum": "0297177bfe4fad4c8c0fc68572115706",
     "grade": false,
     "grade_id": "cell-9465c531103d177f",
     "locked": true,
     "schema_version": 3,
     "solution": false,
     "task": false
    }
   },
   "source": [
    "## The prior\n",
    "\n",
    "We will consider two people, A and B, with different states of knowledge about $p$.  First we consider person A. \n",
    "\n",
    "### Person A\n",
    "\n",
    "Based on reading the Guardian, A believes that $p$ is large, and that the probability of a given proportion $p$ is proportional to $p^{2}$."
   ]
  },
  {
   "cell_type": "markdown",
   "metadata": {
    "deletable": false,
    "editable": false,
    "nbgrader": {
     "cell_type": "markdown",
     "checksum": "cb9665f815e46b5adb4c48cff7c87241",
     "grade": false,
     "grade_id": "cell-b8db65b785f0444a",
     "locked": true,
     "schema_version": 3,
     "solution": false,
     "task": false
    }
   },
   "source": [
    "##### Question\n",
    "\n",
    "Write a function to evaluate $P(p \\mid A) up to a multiplicative constant. "
   ]
  },
  {
   "cell_type": "code",
   "execution_count": 10,
   "metadata": {
    "deletable": false,
    "editable": false,
    "eval": false,
    "nbgrader": {
     "cell_type": "code",
     "checksum": "4439e07d2ee6c0861091e50bccfb74b6",
     "grade": false,
     "grade_id": "cell-9ea542cfa641cc69",
     "locked": true,
     "schema_version": 3,
     "solution": false,
     "task": false
    }
   },
   "outputs": [],
   "source": [
    " priorA = function(p){\n",
    "     \n",
    "     return(p^2)\n",
    " }"
   ]
  },
  {
   "cell_type": "markdown",
   "metadata": {
    "deletable": false,
    "editable": false,
    "nbgrader": {
     "cell_type": "markdown",
     "checksum": "b120d077b1556c8aa92b61c830d70d5b",
     "grade": false,
     "grade_id": "cell-d03633da5d278650",
     "locked": true,
     "schema_version": 3,
     "solution": false,
     "task": false
    }
   },
   "source": [
    "Note that as written, the function is not a probability distribution as it does not integrate to 1. However, we do not need to compute these constants as part of a Bayesian analysis in R, as we will be rescaling the answers to sum to 1 at the end anyway.\n",
    "\n"
   ]
  },
  {
   "cell_type": "markdown",
   "metadata": {
    "deletable": false,
    "editable": false,
    "nbgrader": {
     "cell_type": "markdown",
     "checksum": "cfb3a28861f3ebb1d1dc76464570deee",
     "grade": false,
     "grade_id": "cell-84cddaad08db48f1",
     "locked": true,
     "schema_version": 3,
     "solution": false,
     "task": false
    }
   },
   "source": [
    "##### Question\n",
    "\n",
    "How many times more probable does person A think that $p=0.8$ is than $p=0.2$?"
   ]
  },
  {
   "cell_type": "code",
   "execution_count": 11,
   "metadata": {
    "deletable": false,
    "editable": false,
    "nbgrader": {
     "cell_type": "code",
     "checksum": "0bc5e1ce5339f49a33844fa21731a3ec",
     "grade": false,
     "grade_id": "cell-b1cc30f6415dc21e",
     "locked": true,
     "schema_version": 3,
     "solution": false,
     "task": false
    }
   },
   "outputs": [
    {
     "data": {
      "text/html": [
       "16"
      ],
      "text/latex": [
       "16"
      ],
      "text/markdown": [
       "16"
      ],
      "text/plain": [
       "[1] 16"
      ]
     },
     "metadata": {},
     "output_type": "display_data"
    }
   ],
   "source": [
    "priorA(0.8) / priorA(0.2)"
   ]
  },
  {
   "cell_type": "markdown",
   "metadata": {
    "deletable": false,
    "editable": false,
    "nbgrader": {
     "cell_type": "markdown",
     "checksum": "e9a50a92e5d01f9349bf5322398e452a",
     "grade": false,
     "grade_id": "cell-65fe0c09bf38f01e",
     "locked": true,
     "schema_version": 3,
     "solution": false,
     "task": false
    }
   },
   "source": [
    "## Combining the prior and the likelihood \n",
    "\n",
    "We now perform the Bayesian calculation by taking a number of $p$'s spanning the possible values of $p$, computing the likelihood of each of these values and  multiplying it by the prior. We then rescale the answers to sum to one to give us an idea of person A's posterior distribution for $p$.\n",
    "\n",
    "##### Question\n",
    "\n",
    "We will divide the range $[0, 1]$ of $p$ into $m$ intervals. Use R to define $dp = 1 / m$, and then create a sequence of values in $[0,1]$ separated by $dp$, and call it `ps`. Take $m = 50$ initially."
   ]
  },
  {
   "cell_type": "code",
   "execution_count": 12,
   "metadata": {
    "deletable": false,
    "editable": false,
    "nbgrader": {
     "cell_type": "code",
     "checksum": "28a68556d2756338221e4b1f49c65fe0",
     "grade": false,
     "grade_id": "cell-6e5941431163b56e",
     "locked": true,
     "schema_version": 3,
     "solution": false,
     "task": false
    }
   },
   "outputs": [],
   "source": [
    "m = 50\n",
    "\n",
    "dp = 1 / m\n",
    "\n",
    "ps = seq(0, 1, by = dp)"
   ]
  },
  {
   "cell_type": "markdown",
   "metadata": {
    "deletable": false,
    "editable": false,
    "nbgrader": {
     "cell_type": "markdown",
     "checksum": "b12634668509bd22c51cdb99ecfb19f5",
     "grade": false,
     "grade_id": "cell-679f5c4742c11524",
     "locked": true,
     "schema_version": 3,
     "solution": false,
     "task": false
    }
   },
   "source": [
    "##### Question\n",
    "\n",
    "Apply the functions `priorA` and `like` to the vector `ps` and then multiply the answers element-wise. Multiply the result by $dp$ and store the resulting vector in `postAs`. Now normalize the vector `postAs` so that it  corresponds to a probability distribution. There is a subtlety here: what is it?"
   ]
  },
  {
   "cell_type": "code",
   "execution_count": 13,
   "metadata": {
    "deletable": false,
    "editable": false,
    "eval": false,
    "nbgrader": {
     "cell_type": "code",
     "checksum": "8a082ee4f71461c8516893f4cf900260",
     "grade": false,
     "grade_id": "cell-5cdc8fcb531acff2",
     "locked": true,
     "schema_version": 3,
     "solution": false,
     "task": false
    }
   },
   "outputs": [],
   "source": [
    "priorAs = priorA(ps)\n",
    "\n",
    "likes = like(ps)\n",
    "\n",
    "postAs = dp * likes * priorAs\n",
    "\n",
    "postAs = postAs / sum(postAs)"
   ]
  },
  {
   "cell_type": "markdown",
   "metadata": {
    "deletable": false,
    "editable": false,
    "nbgrader": {
     "cell_type": "markdown",
     "checksum": "efb7efaa478ade8415d5f5bbf919c738",
     "grade": false,
     "grade_id": "cell-638f7cc06857062b",
     "locked": true,
     "schema_version": 3,
     "solution": false,
     "task": false
    }
   },
   "source": [
    "##### Question\n",
    "\n",
    "Now how much more probable does person A think that $p=0.8$ is than  p=0.2?"
   ]
  },
  {
   "cell_type": "code",
   "execution_count": 14,
   "metadata": {
    "deletable": false,
    "editable": false,
    "nbgrader": {
     "cell_type": "code",
     "checksum": "1b73525aad1eed6bcc8e9f91a28d5883",
     "grade": false,
     "grade_id": "cell-aa9f5b3ba5d3be1e",
     "locked": true,
     "schema_version": 3,
     "solution": false,
     "task": false
    }
   },
   "outputs": [
    {
     "data": {
      "text/html": [
       "134456"
      ],
      "text/latex": [
       "134456"
      ],
      "text/markdown": [
       "134456"
      ],
      "text/plain": [
       "[1] 134456"
      ]
     },
     "metadata": {},
     "output_type": "display_data"
    }
   ],
   "source": [
    "postAs[9] / postAs[3]"
   ]
  },
  {
   "cell_type": "markdown",
   "metadata": {
    "deletable": false,
    "editable": false,
    "nbgrader": {
     "cell_type": "markdown",
     "checksum": "009cda62607397b82f83f1e62988a4de",
     "grade": false,
     "grade_id": "cell-f860d488b0add4e6",
     "locked": true,
     "schema_version": 3,
     "solution": false,
     "task": false
    }
   },
   "source": [
    "##### Question\n",
    "\n",
    "Plot `ps` ($x$-axis) against `postAs` ($y$-axis) as a line. Give your plot a title and label the axes. Use the `plot` command to do this."
   ]
  },
  {
   "cell_type": "code",
   "execution_count": 15,
   "metadata": {
    "deletable": false,
    "editable": false,
    "nbgrader": {
     "cell_type": "code",
     "checksum": "d7e148ec5d07f7f538b975b818edf83a",
     "grade": false,
     "grade_id": "cell-ee2af1e8c69e3e72",
     "locked": true,
     "schema_version": 3,
     "solution": false,
     "task": false
    }
   },
   "outputs": [
    {
     "data": {
      "image/png": "[encoded data removed]",
      "text/plain": [
       "Plot with title “Posterior for p”"
      ]
     },
     "metadata": {
      "image/png": {
       "height": 420,
       "width": 420
      }
     },
     "output_type": "display_data"
    }
   ],
   "source": [
    "plot(ps, postAs, main = 'Posterior for p', xlab = 'p', ylab = 'Probability', type = 'l', lty = 1)"
   ]
  },
  {
   "cell_type": "markdown",
   "metadata": {
    "deletable": false,
    "editable": false,
    "nbgrader": {
     "cell_type": "markdown",
     "checksum": "e645037f1dbe9fb175608da6fba8feae",
     "grade": false,
     "grade_id": "cell-3866be7b50ec1c8a",
     "locked": true,
     "schema_version": 3,
     "solution": false,
     "task": false
    }
   },
   "source": [
    "##### Question\n",
    "\n",
    "Normalize priorAs in the same way we did for the posterior, repeat the above plot, but now add the normalized values of priorAs to the plot as a dashed line. You will need to copy and past the plotting code above to the cell below. To add to a plot, use the `lines` command. The argument `lty =` an integer can be used to change the line type."
   ]
  },
  {
   "cell_type": "code",
   "execution_count": 16,
   "metadata": {
    "deletable": false,
    "editable": false,
    "nbgrader": {
     "cell_type": "code",
     "checksum": "dac0fbccf7c8b58a3da41f6f243de907",
     "grade": false,
     "grade_id": "cell-70e9650e464bdfff",
     "locked": true,
     "schema_version": 3,
     "solution": false,
     "task": false
    }
   },
   "outputs": [
    {
     "data": {
      "image/png": "[encoded data removed]",
      "text/plain": [
       "Plot with title “Posterior and prior for p”"
      ]
     },
     "metadata": {
      "image/png": {
       "height": 420,
       "width": 420
      }
     },
     "output_type": "display_data"
    }
   ],
   "source": [
    "priorAs = priorAs / sum(priorAs)\n",
    "\n",
    "plot(ps, postAs, main = 'Posterior and prior for p', xlab = 'p', ylab = 'Probability', type = 'l', lty = 1)\n",
    "\n",
    "lines(ps, priorAs, type = 'l', pch = 2, lty = 2)"
   ]
  },
  {
   "cell_type": "markdown",
   "metadata": {
    "deletable": false,
    "editable": false,
    "nbgrader": {
     "cell_type": "markdown",
     "checksum": "4a7bf06dd8b79e2332ac29728169e3e0",
     "grade": false,
     "grade_id": "cell-49d25be698446f5c",
     "locked": true,
     "schema_version": 3,
     "solution": false,
     "task": false
    }
   },
   "source": [
    "### Person B\n",
    "\n",
    "Now we consider person B. Based on reading the Telegraph, person B thinks that $p$ is probably small, and that the probability of a given proportion $p$ is proportional to $(1-p)^{2}$.\n",
    "\n",
    "##### Question\n",
    "\n",
    "Write a function to evaluate $P(p \\mid B) up to a multiplicative constant, and compute the posterior probabilities for person B for the values in `ps` in the same way as we did for person A. Call them `postBs`."
   ]
  },
  {
   "cell_type": "code",
   "execution_count": 17,
   "metadata": {
    "deletable": false,
    "editable": false,
    "eval": false,
    "nbgrader": {
     "cell_type": "code",
     "checksum": "3bedb1789defaa00ba9c084e0623d261",
     "grade": false,
     "grade_id": "cell-6d865235cb41eb9b",
     "locked": true,
     "schema_version": 3,
     "solution": false,
     "task": false
    }
   },
   "outputs": [],
   "source": [
    "priorB = function(p){\n",
    "\n",
    "    return((1 - p)^2)\n",
    "\n",
    "} \n",
    "\n",
    "priorBs = priorB(ps)\n",
    "\n",
    "postBs = dp * likes * priorBs\n",
    "\n",
    "postBs = postBs / sum(postBs)"
   ]
  },
  {
   "cell_type": "markdown",
   "metadata": {
    "deletable": false,
    "editable": false,
    "nbgrader": {
     "cell_type": "markdown",
     "checksum": "3279c6439db798510de2852b3121ef8c",
     "grade": false,
     "grade_id": "cell-1c2dc95470ec4991",
     "locked": true,
     "schema_version": 3,
     "solution": false,
     "task": false
    }
   },
   "source": [
    "##### Question\n",
    "\n",
    "Add the posterior probabilities to your picture as a dotted red line, together with a fourth, red dotted-dashed line, showing the (normalized) prior probabilities of person B.\n",
    "\n",
    "Use the `legend` function to add an appropriate legend to the plot."
   ]
  },
  {
   "cell_type": "code",
   "execution_count": 18,
   "metadata": {
    "deletable": false,
    "editable": false,
    "nbgrader": {
     "cell_type": "code",
     "checksum": "d9c13a1dc47333f3328e753ce7497437",
     "grade": false,
     "grade_id": "cell-bc4643fb15d230c3",
     "locked": true,
     "schema_version": 3,
     "solution": false,
     "task": false
    }
   },
   "outputs": [
    {
     "data": {
      "image/png": "[encoded data removed]",
      "text/plain": [
       "Plot with title “Posteriors and priors for p”"
      ]
     },
     "metadata": {
      "image/png": {
       "height": 420,
       "width": 420
      }
     },
     "output_type": "display_data"
    }
   ],
   "source": [
    "priorBs = priorBs / sum(priorBs)\n",
    "\n",
    "plot(ps, postAs, main = 'Posteriors and priors for p', xlab = 'p', ylab = 'Probability', type = 'l', lty = 1)\n",
    "\n",
    "lines(ps, priorAs, type = 'l', pch = 2, lty = 2)\n",
    "\n",
    "lines(ps, postBs, type = 'l', pch = 16, lty = 3, col = 'red')\n",
    "\n",
    "lines(ps, priorBs, type = 'l', pch = 17, lty = 4, col = 'red')\n",
    "\n",
    "legend(0, 0.3, legend = c('prior A', 'posterior A', 'prior B', 'posterior B'), \n",
    "       col = c('black', 'black', 'red', 'red'), lty = c(2, 1, 4, 3))"
   ]
  },
  {
   "cell_type": "markdown",
   "metadata": {
    "deletable": false,
    "editable": false,
    "nbgrader": {
     "cell_type": "markdown",
     "checksum": "9ca50830e2421d372ff7c66409da2001",
     "grade": false,
     "grade_id": "cell-374085b19c8a75eb",
     "locked": true,
     "schema_version": 3,
     "solution": false,
     "task": false
    }
   },
   "source": [
    "##### Question\n",
    "\n",
    "What value $\\hat{p}$ of $p$ maximizes the likelihood? Add a dashed vertical line to the graph at this value using `abline`. This 'maximum likelihood estimate' (MLE) is the usual classical statistics estimate of the value of $p$."
   ]
  },
  {
   "cell_type": "markdown",
   "metadata": {
    "deletable": false,
    "editable": false,
    "nbgrader": {
     "cell_type": "markdown",
     "checksum": "eb5e13076d965e232f3f17db77ca68d0",
     "grade": false,
     "grade_id": "cell-854465e937cbbdd0",
     "locked": true,
     "schema_version": 3,
     "solution": false,
     "task": false
    }
   },
   "source": [
    "Let $L(i \\mid p, n) = \\ln P(i \\mid p, n)$. Differentiating $L$ with respect to $p$ gives:\n",
    "\n",
    "$$\n",
    "{dL \\over dp} = {i \\over p} - {n - i \\over 1 - p}\n",
    "$$\n",
    "\n",
    "Setting the result to zero gives $\\hat{p} = i/n$. Differentiating again shows this is a maximum."
   ]
  },
  {
   "cell_type": "code",
   "execution_count": 19,
   "metadata": {
    "deletable": false,
    "editable": false,
    "nbgrader": {
     "cell_type": "code",
     "checksum": "f54d13e2d84d9423033d5e3a12fe7f41",
     "grade": false,
     "grade_id": "cell-f686dbc4684c1972",
     "locked": true,
     "schema_version": 3,
     "solution": false,
     "task": false
    }
   },
   "outputs": [
    {
     "data": {
      "image/png": "[encoded data removed]",
      "text/plain": [
       "Plot with title “Posteriors and priors for p”"
      ]
     },
     "metadata": {
      "image/png": {
       "height": 420,
       "width": 420
      }
     },
     "output_type": "display_data"
    }
   ],
   "source": [
    "plot(ps, postAs, main = 'Posteriors and priors for p', xlab = 'p', ylab = 'Probability', type = 'l', lty = 1)\n",
    "\n",
    "lines(ps, priorAs, type = 'l', pch = 2, lty = 2)\n",
    "\n",
    "lines(ps, postBs, type = 'l', pch = 16, lty = 3, col = 'red')\n",
    "\n",
    "lines(ps, priorBs, type = 'l', pch = 17, lty = 4, col = 'red')\n",
    "\n",
    "legend(0, 0.3, legend = c('prior A', 'posterior A', 'prior B', 'posterior B'), \n",
    "       col = c('black', 'black', 'red', 'red'), lty = c(2, 1, 4, 3))\n",
    "\n",
    "abline(v = 7/12, col = 'green')"
   ]
  },
  {
   "cell_type": "markdown",
   "metadata": {
    "deletable": false,
    "editable": false,
    "nbgrader": {
     "cell_type": "markdown",
     "checksum": "961e07f1d5c1bc44fed43627fc3b6d10",
     "grade": false,
     "grade_id": "cell-45ca112adbebd553",
     "locked": true,
     "schema_version": 3,
     "solution": false,
     "task": false
    }
   },
   "source": [
    "##### Question\n",
    "\n",
    "Consider how the posterior distributions for persons A and B different. Is this what you would expect?"
   ]
  },
  {
   "cell_type": "markdown",
   "metadata": {
    "deletable": false,
    "editable": false,
    "nbgrader": {
     "cell_type": "markdown",
     "checksum": "dff70c3bfe4f0666fc08e7c976c60afc",
     "grade": false,
     "grade_id": "cell-19854ceb573e1787",
     "locked": true,
     "schema_version": 3,
     "solution": false,
     "task": false
    }
   },
   "source": [
    "A's weighting towards higher $p$ has pulled the liklehood to the right, whereas the reverse is true of B. Their prior expectations change their conclusions. Prior probabilities, which effectively premises of an argument, should be based in more objective criteria than an impression from a newspaper. We discuss some of these in lectures."
   ]
  },
  {
   "cell_type": "markdown",
   "metadata": {
    "deletable": false,
    "editable": false,
    "nbgrader": {
     "cell_type": "markdown",
     "checksum": "8fbe566400ebed0662ec02e477393d4d",
     "grade": false,
     "grade_id": "cell-b1dda07df246d115",
     "locked": true,
     "schema_version": 3,
     "solution": false,
     "task": false
    }
   },
   "source": [
    "# Updating beliefs with larger samples \n",
    "\n",
    "As the sample size becomes larger, the prior probability becomes dominated by the likelihood, and the posterior becomes Gaussian. We shall see this in action now. Suppose we had sampled 1000 people and observed that 612 plan to vote Labour at the next election.\n",
    "\n",
    "##### Question\n",
    "\n",
    "Rewrite the previous likelihood function with extra arguments $i$ and $n$. Setting $i = 612$ and $n = 1000$, reproduce the \n",
    "previous plot, using $m = 500$ to increase the resolution, and including the new MLE and the legend.\n",
    "\n",
    "Zoom in to the central part of the figure in the interval $[0.5,0.7]$ using the `xlim` argument for the plot function. What do you observe?"
   ]
  },
  {
   "cell_type": "code",
   "execution_count": null,
   "metadata": {
    "deletable": false,
    "editable": false,
    "nbgrader": {
     "cell_type": "code",
     "checksum": "23ff0115607ac964b9e23d5bc1b5320d",
     "grade": false,
     "grade_id": "cell-b7f8444cbc125197",
     "locked": true,
     "schema_version": 3,
     "solution": false,
     "task": false
    }
   },
   "outputs": [],
   "source": [
    "# Define the general likelihood function.\n",
    "\n",
    "genLike = function(p, i, n){\n",
    "    \n",
    "    comb = choose(n, i)\n",
    "    \n",
    "    P = comb * p^(i) * (1 - p)^(n - i)\n",
    "    \n",
    "    return(P)\n",
    "}\n",
    "\n",
    "# Compute the likelihoods for the larger sample and then the new posteriors.\n",
    "\n",
    "m = 500\n",
    "\n",
    "dp = 1 / m\n",
    "\n",
    "ps = seq(0, 1, by = dp)\n",
    "\n",
    "priorAs = priorA(ps)\n",
    "\n",
    "priorAs = priorAs / sum(priorAs)\n",
    "\n",
    "priorBs = priorB(ps)\n",
    "\n",
    "priorBs = priorBs / sum(priorBs)\n",
    "\n",
    "i = 612\n",
    "\n",
    "n = 1000\n",
    "\n",
    "newLikes = genLike(ps, i, n)\n",
    "\n",
    "postAs = dp * newLikes * priorAs\n",
    "\n",
    "postAs = postAs / sum(postAs)\n",
    "\n",
    "postBs = dp * newLikes * priorBs\n",
    "\n",
    "postBs = postBs / sum(postBs)\n",
    "\n",
    "# Make the plots.\n",
    "\n",
    "plot(ps, postAs, main = 'Posteriors and priors for p', xlab = 'p', ylab = 'Probability', type = 'l', lty = 1)\n",
    "\n",
    "lines(ps, priorAs, type = 'l', pch = 2, lty = 2)\n",
    "\n",
    "lines(ps, postBs, type = 'l', pch = 16, lty = 3, col = 'red')\n",
    "\n",
    "lines(ps, priorBs, type = 'l', pch = 17, lty = 4, col = 'red')\n",
    "\n",
    "legend(0, 0.3, legend = c('prior A', 'posterior A', 'prior B', 'posterior B'), \n",
    "       col = c('black', 'black', 'red', 'red'), lty = c(2, 1, 4, 3))\n",
    "\n",
    "abline(v = i/n, col = 'green')\n",
    "\n",
    "# Repeat the plots but 'zoomed' in.\n",
    "\n",
    "plot(ps, postAs, main = 'Zoom of posteriors and priors for p', xlab = 'p', ylab = 'Probability', type = 'l', lty = 1, \n",
    "     xlim = c(0.5, 0.7))\n",
    "\n",
    "lines(ps, priorAs, type = 'l', pch = 2, lty = 2)\n",
    "\n",
    "lines(ps, postBs, type = 'l', pch = 16, lty = 3, col = 'red')\n",
    "\n",
    "lines(ps, priorBs, type = 'l', pch = 17, lty = 4, col = 'red')\n",
    "\n",
    "legend(0, 0.3, legend = c('prior A', 'posterior A', 'prior B', 'posterior B'), \n",
    "       col = c('black', 'black', 'red', 'red'), lty = c(2, 1, 4, 3))\n",
    "\n",
    "abline(v = i/n, col = 'green')"
   ]
  },
  {
   "cell_type": "markdown",
   "metadata": {
    "deletable": false,
    "editable": false,
    "nbgrader": {
     "cell_type": "markdown",
     "checksum": "9cf2721ec39c486fc7a0d2d0211e7ff8",
     "grade": false,
     "grade_id": "cell-1d699690a507c2a8",
     "locked": true,
     "schema_version": 3,
     "solution": false,
     "task": false
    }
   },
   "source": [
    "##### Question\n",
    "\n",
    "Derive the form of the posterior distribution for $p$ for person's A and B by considering the general form P(p) \\propto p^{a - 1}\\: (1 - p)^{b - 1}. (Note that person A corresponds to $a = 3$, $b = 1$; person B to $a = 1$, $b = 3$.) \n",
    "\n",
    "As the size $n$ of the sample increases with $i/n$ constant, show that the the prior becomes irrelevant. \n",
    "\n",
    "At the same time, the posterior becomes increasingly Gaussian (you do not have to show this). Derive the limiting mean and standard deviation of this Gaussian by considering those of a beta distribution."
   ]
  },
  {
   "cell_type": "markdown",
   "metadata": {
    "deletable": false,
    "editable": false,
    "nbgrader": {
     "cell_type": "markdown",
     "checksum": "1fc4865869fbfdd2f9cc64693c1c7b48",
     "grade": false,
     "grade_id": "cell-f16ae8f9b5186c2f",
     "locked": true,
     "schema_version": 3,
     "solution": false,
     "task": false
    }
   },
   "source": [
    "Dropping multiplicative constants that do not depend on $p$, we have\n",
    "\n",
    "$$\n",
    "P(p \\mid i, n) \\propto p^{i + a - 1}\\: (1 - p)^{n - i + b - 1}\n",
    "$$\n",
    "\n",
    "As $n$ and $i$ become larger, the exponents increasingly approximate $i$ and $n - i$, i.e. the likelihood values. The values of $a$ and $b$ become increasingly irrelevant. \n",
    "\n",
    "The posterior has the form of a beta distribution. The mean and variance of a beta distribution are given by:\n",
    "$$\n",
    "\\begin{align*}\n",
    "\\mu & = {\\alpha \\over \\alpha + \\beta} \\\\\n",
    "v & = {\\alpha\\beta \\over (\\alpha + \\beta)^{2}\\: (\\alpha + \\beta + 1)}\n",
    "\\end{align*}\n",
    "$$\n",
    "\n",
    "Substituting the above values and taking the large $n$ limit then gives:\n",
    "$$\n",
    "\\begin{align*}\n",
    "\\mu & = {i \\over n} \\\\\n",
    "v & = {i \\: (n - i) \\over n^{3}} = {\\mu\\: (1 - \\mu) \\over n}\n",
    "\\end{align*}\n",
    "$$\n",
    "\n",
    "Note that $\\mu = \\hat{p}$."
   ]
  },
  {
   "cell_type": "markdown",
   "metadata": {
    "deletable": false,
    "editable": false,
    "nbgrader": {
     "cell_type": "markdown",
     "checksum": "9e32e4aba6cc8520a7730636e92f51b9",
     "grade": false,
     "grade_id": "cell-5d87c2d7f1aa6263",
     "locked": true,
     "schema_version": 3,
     "solution": false,
     "task": false
    }
   },
   "source": [
    "##### Question\n",
    "\n",
    "Use the function `dnorm` applied to vector `ps`, with the above mean and standard deviation, to calculate the normal density at each point in `ps`, then convert to probabilities by multiplying by $dp$. Assign these values to a vector called `nprobs`, and add it to your plot in a different colour and line type. "
   ]
  },
  {
   "cell_type": "code",
   "execution_count": null,
   "metadata": {
    "deletable": false,
    "editable": false,
    "nbgrader": {
     "cell_type": "code",
     "checksum": "f2a1d29ed6dde9454a980a2a43bb9295",
     "grade": false,
     "grade_id": "cell-641f9af37f213bfb",
     "locked": true,
     "schema_version": 3,
     "solution": false,
     "task": false
    }
   },
   "outputs": [],
   "source": [
    "mu = i / n\n",
    "\n",
    "v = mu * (1 - mu) / n\n",
    "\n",
    "nprobs = dp * dnorm(ps, mu, sqrt(v))\n",
    "\n",
    "# Repeat the plots but 'zoomed' in.\n",
    "\n",
    "plot(ps, postAs, main = 'Zoom of posteriors and priors for p', xlab = 'p', ylab = 'Probability', type = 'l', lty = 1, \n",
    "     xlim = c(0.5, 0.7))\n",
    "\n",
    "lines(ps, priorAs, type = 'l', pch = 2, lty = 2)\n",
    "\n",
    "lines(ps, postBs, type = 'l', pch = 16, lty = 3, col = 'red')\n",
    "\n",
    "lines(ps, priorBs, type = 'l', pch = 17, lty = 4, col = 'red')\n",
    "\n",
    "legend(0, 0.3, legend = c('prior A', 'posterior A', 'prior B', 'posterior B', 'Gaussian'), \n",
    "       col = c('black', 'black', 'red', 'red', 'orange'), lty = c(2, 1, 4, 3, 5))\n",
    "\n",
    "abline(v = i/n, col = 'green')\n",
    "\n",
    "lines(ps, nprobs, type = 'l', pch = 17, lty = 5, col = 'orange')"
   ]
  }
 ],
 "metadata": {
  "jupytext": {
   "cell_metadata_filter": "eval,-all",
   "formats": "Rmd,ipynb",
   "notebook_metadata_filter": "-all",
   "text_representation": {
    "extension": ".Rmd",
    "format_name": "rmarkdown"
   }
  },
  "kernelspec": {
   "display_name": "R",
   "language": "R",
   "name": "ir"
  },
  "language_info": {
   "codemirror_mode": "r",
   "file_extension": ".r",
   "mimetype": "text/x-r-source",
   "name": "R",
   "pygments_lexer": "r",
   "version": "4.0.3"
  }
 },
 "nbformat": 4,
 "nbformat_minor": 2
}
