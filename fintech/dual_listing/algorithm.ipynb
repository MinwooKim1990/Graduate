{
 "cells": [
  {
   "cell_type": "code",
   "execution_count": 1,
   "id": "e3904176-5048-4db6-a99d-303967dbf512",
   "metadata": {},
   "outputs": [
    {
     "name": "stderr",
     "output_type": "stream",
     "text": [
      "2021-11-26 21:44:52,271 [asyncio   ] [MainThread  ] Using selector: EpollSelector\n",
      "2021-11-26 21:44:52,273 [client    ] [Thread-4    ] background thread started\n",
      "2021-11-26 21:44:52,281 [client    ] [Thread-4    ] opened connection\n",
      "2021-11-26 21:44:52,281 [client    ] [Thread-4    ] start read <StreamReader t=<_SelectorSocketTransport fd=95 read=polling write=<idle, bufsize=0>>>\n",
      "2021-11-26 21:44:52,283 [client    ] [Thread-4    ] logged in!\n"
     ]
    }
   ],
   "source": [
    "import datetime as dt\n",
    "import time\n",
    "import random\n",
    "import logging\n",
    "\n",
    "from optibook.synchronous_client import Exchange\n",
    "\n",
    "exchange = Exchange()\n",
    "exchange.connect()\n",
    "\n",
    "logging.getLogger('client').setLevel('ERROR')"
   ]
  },
  {
   "cell_type": "code",
   "execution_count": 2,
   "id": "0b1c1ea1-a554-4b9c-9341-1561f738528b",
   "metadata": {},
   "outputs": [],
   "source": [
    "def trade_would_breach_position_limit(instrument_id, volume, side, position_limit):\n",
    "    positions = exchange.get_positions()\n",
    "    position_instrument = positions[instrument_id]\n",
    "\n",
    "    if side == 'bid':\n",
    "        return position_instrument + volume > position_limit\n",
    "    elif side == 'ask':\n",
    "        return position_instrument - volume < -position_limit\n",
    "    else:\n",
    "        raise Exception(f'''Invalid side provided: {side}, expecting 'bid' or 'ask'.''')"
   ]
  },
  {
   "cell_type": "code",
   "execution_count": 13,
   "id": "c76bd654-0d1f-49c9-8be6-65a42f777eea",
   "metadata": {},
   "outputs": [
    {
     "name": "stdout",
     "output_type": "stream",
     "text": [
      "{'PHILIPS_A': -1, 'PHILIPS_B': 0}\n",
      "17.200000000000003\n"
     ]
    },
    {
     "name": "stderr",
     "output_type": "stream",
     "text": [
      "2021-11-26 22:47:16,003 [client    ] [Thread-4    ] Forcing a disconnect due to an error: Closing connection because someone else logged in with the same credentials. Only one session may be active at the same time.\n"
     ]
    }
   ],
   "source": [
    "def print_positions_and_pnl():\n",
    "    positions = exchange.get_positions()\n",
    "    pnl = exchange.get_pnl()\n",
    "\n",
    "    print('Positions:')\n",
    "    for instrument_id in positions:\n",
    "        print(f'  {instrument_id:10s}: {positions[instrument_id]:4.0f}')\n",
    "\n",
    "    print(f'\\nPnL: {pnl:.2f}')\n",
    "print(exchange.get_positions())\n",
    "print(exchange.get_pnl())"
   ]
  },
  {
   "cell_type": "code",
   "execution_count": null,
   "id": "d8a0d283-9d89-45c9-b962-3c9c1aed34f9",
   "metadata": {},
   "outputs": [],
   "source": [
    "STOCK_A_ID = 'PHILIPS_A'\n",
    "STOCK_B_ID = 'PHILIPS_B'\n",
    "\n",
    "while True:\n",
    "    print(f'')\n",
    "    print(f'-----------------------------------------------------------------')\n",
    "    print(f'TRADE LOOP ITERATION ENTERED AT {str(dt.datetime.now()):18s} UTC.')\n",
    "    print(f'-----------------------------------------------------------------')\n",
    "\n",
    "    print_positions_and_pnl()\n",
    "    print(f'')\n",
    "    \n",
    "    while True:\n",
    "        if abs(exchange.get_last_price_book(STOCK_A_ID).asks[0].price - exchange.get_last_price_book(STOCK_A_ID).bids[0].price) > abs(exchange.get_last_price_book(STOCK_B_ID).asks[0].price - exchange.get_last_price_book(STOCK_B_ID).bids[0].price):\n",
    "            stock_id = STOCK_A_ID\n",
    "            bid=bida\n",
    "            ask=aska\n",
    "        else:\n",
    "            stock_id = STOCK_B_ID\n",
    "            bid=bidb\n",
    "            ask=aska\n",
    "\n",
    "        if exchange.get_positions()[stock_id] > 0:\n",
    "            if bid < exchange.get_last_price_book(stock_id).asks[0].price:\n",
    "                side = 'ask'\n",
    "            else:\n",
    "                time.sleep(5)\n",
    "        else:\n",
    "            if bid > exchange.get_last_price_book(stock_id).bids[0].price and exchange.get_positions()[STOCK_A_ID] + exchange.get_positions()[STOCK_B_ID] <= 10:\n",
    "                side = 'bid'\n",
    "            else:\n",
    "                time.sleep(5)\n",
    "            \n",
    "    print(f'Selected stock {stock_id} to trade.')\n",
    "\n",
    "    # Obtain order book and only trade if there are both bids and offers available on that stock\n",
    "    stock_order_book = exchange.get_last_price_book(stock_id)\n",
    "    if not (stock_order_book and stock_order_book.bids and stock_order_book.asks):\n",
    "        print(f'Order book for {stock_id} does not have bids or offers. Skipping iteration.')\n",
    "        continue\n",
    "\n",
    "    # Obtain best bid and ask prices from order book\n",
    "    best_bid_price = stock_order_book.bids[0].price\n",
    "    best_ask_price = stock_order_book.asks[0].price\n",
    "    print(f'Top level prices for {stock_id}: {best_bid_price:.2f} :: {best_ask_price:.2f}')\n",
    "\n",
    "    if stock_id == STOCK_A_ID:\n",
    "        if side == 'bid':\n",
    "            price = best_bid_price\n",
    "            bida = price\n",
    "        else:\n",
    "            price = best_ask_price\n",
    "            aska = price\n",
    "    if stock_id == STOCK_B_ID:\n",
    "        if side == 'bid':\n",
    "            price = best_bid_price\n",
    "            bidb = price\n",
    "        else:\n",
    "            price = best_ask_price\n",
    "            askb = price\n",
    "\n",
    "    # Insert an IOC order to trade the opposing top-level, ensure to always keep instrument position below 5 so\n",
    "    # aggregate position stays below 10.\n",
    "    volume = 5\n",
    "    if not trade_would_breach_position_limit(stock_id, volume, side, 5):\n",
    "        print(f'''Inserting {side} for {stock_id}: {volume:.0f} lot(s) at price {price:.2f}.''')\n",
    "        exchange.insert_order(\n",
    "            instrument_id=stock_id,\n",
    "            price=price,\n",
    "            volume=volume,\n",
    "            side=side,\n",
    "            order_type='ioc')\n",
    "    else:\n",
    "        print(f'''Not inserting {volume:.0f} lot {side} for {stock_id} to avoid position-limit breach.''')\n",
    "\n",
    "    print(f'\\nSleeping for 3 seconds.')\n",
    "    time.sleep(3)"
   ]
  }
 ],
 "metadata": {
  "kernelspec": {
   "display_name": "Python 3",
   "language": "python",
   "name": "python3"
  },
  "language_info": {
   "codemirror_mode": {
    "name": "ipython",
    "version": 3
   },
   "file_extension": ".py",
   "mimetype": "text/x-python",
   "name": "python",
   "nbconvert_exporter": "python",
   "pygments_lexer": "ipython3",
   "version": "3.6.12"
  }
 },
 "nbformat": 4,
 "nbformat_minor": 5
}
