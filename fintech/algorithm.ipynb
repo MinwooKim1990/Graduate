{
 "cells": [
  {
   "cell_type": "code",
   "execution_count": 4,
   "id": "b2451cbc-92dc-456f-9e90-ecd545b50f44",
   "metadata": {},
   "outputs": [
    {
     "ename": "ModuleNotFoundError",
     "evalue": "No module named 'black_scholes'",
     "output_type": "error",
     "traceback": [
      "\u001b[0;31m---------------------------------------------------------------------------\u001b[0m",
      "\u001b[0;31mModuleNotFoundError\u001b[0m                       Traceback (most recent call last)",
      "\u001b[0;32m<ipython-input-4-d979c371ee25>\u001b[0m in \u001b[0;36m<module>\u001b[0;34m\u001b[0m\n\u001b[1;32m      8\u001b[0m \u001b[0;34m\u001b[0m\u001b[0m\n\u001b[1;32m      9\u001b[0m \u001b[0;32mfrom\u001b[0m \u001b[0mmath\u001b[0m \u001b[0;32mimport\u001b[0m \u001b[0mfloor\u001b[0m\u001b[0;34m,\u001b[0m \u001b[0mceil\u001b[0m\u001b[0;34m\u001b[0m\u001b[0;34m\u001b[0m\u001b[0m\n\u001b[0;32m---> 10\u001b[0;31m \u001b[0;32mfrom\u001b[0m \u001b[0mblack_scholes\u001b[0m \u001b[0;32mimport\u001b[0m \u001b[0mcall_value\u001b[0m\u001b[0;34m,\u001b[0m \u001b[0mput_value\u001b[0m\u001b[0;34m,\u001b[0m \u001b[0mcall_delta\u001b[0m\u001b[0;34m,\u001b[0m \u001b[0mput_delta\u001b[0m\u001b[0;34m,\u001b[0m \u001b[0mcall_vega\u001b[0m\u001b[0;34m\u001b[0m\u001b[0;34m\u001b[0m\u001b[0m\n\u001b[0m\u001b[1;32m     11\u001b[0m \u001b[0;32mfrom\u001b[0m \u001b[0mlibs\u001b[0m \u001b[0;32mimport\u001b[0m \u001b[0mcalculate_current_time_to_date\u001b[0m\u001b[0;34m\u001b[0m\u001b[0;34m\u001b[0m\u001b[0m\n\u001b[1;32m     12\u001b[0m \u001b[0;34m\u001b[0m\u001b[0m\n",
      "\u001b[0;31mModuleNotFoundError\u001b[0m: No module named 'black_scholes'"
     ]
    }
   ],
   "source": [
    "import datetime as dt\n",
    "import time\n",
    "import logging\n",
    "import numpy as np\n",
    "import math\n",
    "\n",
    "from optibook.synchronous_client import Exchange\n",
    "\n",
    "from math import floor, ceil\n",
    "from black_scholes import call_value, put_value, call_delta, put_delta, call_vega\n",
    "from libs import calculate_current_time_to_date\n",
    "\n",
    "exchange = Exchange()\n",
    "exchange.connect()\n",
    "# Login\n",
    "logging.getLogger('client').setLevel('ERROR')\n",
    "\n",
    "# Variable setting\n",
    "STOCK_ID = ['BAYER','SANTANDER','ING']\n",
    "OPTIONS_ID=['BAYER50','BAYER75','BAYER100','SAN40','SAN50','SAN60','ING15','ING20','ING25']\n",
    "options_ID=['BAY-2022_03_18-050C', 'BAY-2022_03_18-050P', 'BAY-2022_03_18-075C', 'BAY-2022_03_18-075P', 'BAY-2022_03_18-100C', 'BAY-2022_03_18-100P',\n",
    "'SAN-2022_03_18-040C','SAN-2022_03_18-040P','SAN-2022_03_18-050C','SAN-2022_03_18-050P','SAN-2022_03_18-060C','SAN-2022_03_18-060P',\n",
    " 'ING-2022_03_18-015C','ING-2022_03_18-015P','ING-2022_03_18-020C','ING-2022_03_18-020P','ING-2022_03_18-025C','ING-2022_03_18-025P']\n",
    "OPTIONS = [\n",
    "    {'id': 'BAY-2022_03_18-050C', 'expiry_date': dt.datetime(2022, 3, 18, 12, 0, 0), 'strike': 50, 'callput': 'call'},\n",
    "    {'id': 'BAY-2022_03_18-050P', 'expiry_date': dt.datetime(2022, 3, 18, 12, 0, 0), 'strike': 50, 'callput': 'put'},\n",
    "    {'id': 'BAY-2022_03_18-075C', 'expiry_date': dt.datetime(2022, 3, 18, 12, 0, 0), 'strike': 75, 'callput': 'call'},\n",
    "    {'id': 'BAY-2022_03_18-075P', 'expiry_date': dt.datetime(2022, 3, 18, 12, 0, 0), 'strike': 75, 'callput': 'put'},\n",
    "    {'id': 'BAY-2022_03_18-100C', 'expiry_date': dt.datetime(2022, 3, 18, 12, 0, 0), 'strike': 100, 'callput': 'call'},\n",
    "    {'id': 'BAY-2022_03_18-100P', 'expiry_date': dt.datetime(2022, 3, 18, 12, 0, 0), 'strike': 100, 'callput': 'put'},\n",
    "    {'id': 'SAN-2022_03_18-040C', 'expiry_date': dt.datetime(2022, 3, 18, 12, 0, 0), 'strike': 40, 'callput': 'call'},\n",
    "    {'id': 'SAN-2022_03_18-040P', 'expiry_date': dt.datetime(2022, 3, 18, 12, 0, 0), 'strike': 40, 'callput': 'put'},\n",
    "    {'id': 'SAN-2022_03_18-050C', 'expiry_date': dt.datetime(2022, 3, 18, 12, 0, 0), 'strike': 50, 'callput': 'call'},\n",
    "    {'id': 'SAN-2022_03_18-050P', 'expiry_date': dt.datetime(2022, 3, 18, 12, 0, 0), 'strike': 50, 'callput': 'put'},\n",
    "    {'id': 'SAN-2022_03_18-060C', 'expiry_date': dt.datetime(2022, 3, 18, 12, 0, 0), 'strike': 60, 'callput': 'call'},\n",
    "    {'id': 'SAN-2022_03_18-060P', 'expiry_date': dt.datetime(2022, 3, 18, 12, 0, 0), 'strike': 60, 'callput': 'put'},\n",
    "    {'id': 'ING-2022_03_18-015C', 'expiry_date': dt.datetime(2022, 3, 18, 12, 0, 0), 'strike': 15, 'callput': 'call'},\n",
    "    {'id': 'ING-2022_03_18-015P', 'expiry_date': dt.datetime(2022, 3, 18, 12, 0, 0), 'strike': 15, 'callput': 'put'},\n",
    "    {'id': 'ING-2022_03_18-020C', 'expiry_date': dt.datetime(2022, 3, 18, 12, 0, 0), 'strike': 20, 'callput': 'call'},\n",
    "    {'id': 'ING-2022_03_18-020P', 'expiry_date': dt.datetime(2022, 3, 18, 12, 0, 0), 'strike': 20, 'callput': 'put'},\n",
    "    {'id': 'ING-2022_03_18-025C', 'expiry_date': dt.datetime(2022, 3, 18, 12, 0, 0), 'strike': 25, 'callput': 'call'},\n",
    "    {'id': 'ING-2022_03_18-025P', 'expiry_date': dt.datetime(2022, 3, 18, 12, 0, 0), 'strike': 25, 'callput': 'put'},\n",
    "]"
   ]
  },
  {
   "cell_type": "code",
   "execution_count": null,
   "id": "2f35c941-cb6e-40b6-84f4-5f065f08e63e",
   "metadata": {},
   "outputs": [],
   "source": []
  }
 ],
 "metadata": {
  "kernelspec": {
   "display_name": "Python 3",
   "language": "python",
   "name": "python3"
  },
  "language_info": {
   "codemirror_mode": {
    "name": "ipython",
    "version": 3
   },
   "file_extension": ".py",
   "mimetype": "text/x-python",
   "name": "python",
   "nbconvert_exporter": "python",
   "pygments_lexer": "ipython3",
   "version": "3.6.12"
  }
 },
 "nbformat": 4,
 "nbformat_minor": 5
}
