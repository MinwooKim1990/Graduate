{
 "cells": [
  {
   "cell_type": "markdown",
   "metadata": {},
   "source": [
    "# Optibook Manual\n",
    "\n",
    "This notebook contains examples for **all interactions** you can do with optibook (that means inserting orders, getting your positions, etc.). You can use this notebook as a reference for the system later on when you write more extensive algorithms.\n",
    "\n",
    "First we do some setup and import the optibook client, which is used to connect to the optibook exchange."
   ]
  },
  {
   "cell_type": "code",
   "execution_count": 1,
   "metadata": {},
   "outputs": [
    {
     "name": "stdout",
     "output_type": "stream",
     "text": [
      "Setup was successful.\n"
     ]
    }
   ],
   "source": [
    "from optibook.synchronous_client import Exchange\n",
    "\n",
    "import time\n",
    "import logging\n",
    "logger = logging.getLogger('client')\n",
    "logger.setLevel('ERROR')\n",
    "\n",
    "print(\"Setup was successful.\")"
   ]
  },
  {
   "cell_type": "markdown",
   "metadata": {},
   "source": [
    "## Define Your Instrument\n",
    "\n",
    "An instrument is the term we use for the product that we are trading. As such, if we are trading BMW stocks, we would call that stock an instrument. An option on BMW would be a different instrument, and a future yet another. \n",
    "\n",
    "Here we set a variable to an instrument name, which we use in all functions down the line. You can see all available instruments by looking at the dropdown menu labeled \"Instruments\" on the visualizer."
   ]
  },
  {
   "cell_type": "code",
   "execution_count": 2,
   "metadata": {},
   "outputs": [],
   "source": [
    "instrument_id = 'TEST'"
   ]
  },
  {
   "cell_type": "markdown",
   "metadata": {},
   "source": [
    "## Connect to Exchange"
   ]
  },
  {
   "cell_type": "code",
   "execution_count": 4,
   "metadata": {},
   "outputs": [
    {
     "name": "stderr",
     "output_type": "stream",
     "text": [
      "2021-11-24 09:27:40,124 [asyncio   ] [MainThread  ] Using selector: EpollSelector\n",
      "2021-11-24 09:27:40,299 [client    ] [Thread-4    ] Forcing a disconnect due to an error: Closing connection because someone else logged in with the same credentials. Only one session may be active at the same time.\n"
     ]
    }
   ],
   "source": [
    "e = Exchange()\n",
    "a = e.connect()"
   ]
  },
  {
   "cell_type": "markdown",
   "metadata": {},
   "source": [
    "## Order Books"
   ]
  },
  {
   "cell_type": "code",
   "execution_count": 6,
   "metadata": {},
   "outputs": [
    {
     "name": "stdout",
     "output_type": "stream",
     "text": [
      "Best bid is 20 lots @ price 400.00.\n",
      "No asks at all for instrument.\n"
     ]
    }
   ],
   "source": [
    "# Returns the current limit order book for the instrument\n",
    "book = e.get_last_price_book(instrument_id)\n",
    "  \n",
    "if not book.bids:\n",
    "    print('No bids at all for instrument.')\n",
    "else:\n",
    "    best_bid = book.bids[0]\n",
    "    price = best_bid.price\n",
    "    volume = best_bid.volume\n",
    "    print(f'Best bid is {volume} lots @ price {price:.2f}.')\n",
    "\n",
    "if not book.asks:\n",
    "    print('No asks at all for instrument.')\n",
    "else:\n",
    "    best_ask = book.asks[0]\n",
    "    price = best_ask.price\n",
    "    volume = best_ask.volume\n",
    "    print(f'Best ask is {volume} lots @ price {price:.2f}.')"
   ]
  },
  {
   "cell_type": "markdown",
   "metadata": {},
   "source": [
    "## Public Trade Ticks"
   ]
  },
  {
   "cell_type": "code",
   "execution_count": 19,
   "metadata": {},
   "outputs": [],
   "source": [
    "# Returns all public tradeticks since the instantiation of the Exchange (upto a max limit)\n",
    "tradeticks = e.get_trade_tick_history(instrument_id)"
   ]
  },
  {
   "cell_type": "code",
   "execution_count": 20,
   "metadata": {},
   "outputs": [],
   "source": [
    "# Returns all public tradeticks since the last time this function was called\n",
    "tradeticks = e.poll_new_trade_ticks(instrument_id)"
   ]
  },
  {
   "cell_type": "code",
   "execution_count": 21,
   "metadata": {},
   "outputs": [
    {
     "name": "stdout",
     "output_type": "stream",
     "text": [
      "Tradetick at 2021-11-24 09:35:55:    2 lots @ 120.00\n",
      "Tradetick at 2021-11-24 09:35:55:    2 lots @ 120.00\n",
      "Tradetick at 2021-11-24 09:35:55:    2 lots @ 125.00\n",
      "Tradetick at 2021-11-24 09:35:55:    5 lots @ 125.00\n",
      "Tradetick at 2021-11-24 09:35:55:    7 lots @ 130.00\n",
      "Tradetick at 2021-11-24 09:35:55:    3 lots @ 150.00\n"
     ]
    }
   ],
   "source": [
    "for tradetick in tradeticks:\n",
    "    timestamp = tradetick.timestamp\n",
    "    price = tradetick.price\n",
    "    volume = tradetick.volume\n",
    "    \n",
    "    print(f'Tradetick at {timestamp}: {volume:4.0f} lots @ {price:.2f}')"
   ]
  },
  {
   "cell_type": "markdown",
   "metadata": {},
   "source": [
    "## Private Trades"
   ]
  },
  {
   "cell_type": "code",
   "execution_count": 22,
   "metadata": {},
   "outputs": [],
   "source": [
    "# Returns all trades you have done since since the instantiation of the Exchange\n",
    "trades = e.get_trade_history(instrument_id)"
   ]
  },
  {
   "cell_type": "code",
   "execution_count": 23,
   "metadata": {},
   "outputs": [],
   "source": [
    "# Returns all trades you have done since the last time this function was called\n",
    "trades = e.poll_new_trades(instrument_id)"
   ]
  },
  {
   "cell_type": "code",
   "execution_count": 24,
   "metadata": {},
   "outputs": [
    {
     "name": "stdout",
     "output_type": "stream",
     "text": [
      "Sold     5 lots @ 120.00\n"
     ]
    }
   ],
   "source": [
    "for trade in trades:\n",
    "    timestamp = trade\n",
    "    price = trade.price\n",
    "    volume = trade.volume\n",
    "    \n",
    "    buysell = 'Bought' if trade.side == 'bid' else 'Sold'\n",
    "    \n",
    "    print(f'{buysell:6s} {volume:3.0f} lots @ {price:.2f}')"
   ]
  },
  {
   "cell_type": "markdown",
   "metadata": {},
   "source": [
    "## Positions & PnL"
   ]
  },
  {
   "cell_type": "code",
   "execution_count": 25,
   "metadata": {},
   "outputs": [
    {
     "name": "stdout",
     "output_type": "stream",
     "text": [
      "DEMO              :   0\n",
      "TEST              :  -5\n",
      "MKT1              :   0\n",
      "MKT2              :   0\n",
      "MKT3              :   0\n"
     ]
    }
   ],
   "source": [
    "# Returns all current positions\n",
    "positions = e.get_positions()\n",
    "for iid in positions:\n",
    "    print(f'{iid:18s}: {positions[iid]:3.0f}')"
   ]
  },
  {
   "cell_type": "code",
   "execution_count": 26,
   "metadata": {},
   "outputs": [
    {
     "name": "stdout",
     "output_type": "stream",
     "text": [
      "DEMO              :   0 position,       0.00 cash\n",
      "TEST              :  -5 position,     600.00 cash\n",
      "MKT1              :   0 position,       0.00 cash\n",
      "MKT2              :   0 position,       0.00 cash\n",
      "MKT3              :   0 position,       0.00 cash\n"
     ]
    }
   ],
   "source": [
    "# Returns postions with cash component\n",
    "positions = e.get_positions_and_cash()\n",
    "for iid in positions:\n",
    "    print(f'''{iid:18s}: {positions[iid]['volume']:3.0f} position, {positions[iid]['cash']:10.2f} cash''')"
   ]
  },
  {
   "cell_type": "code",
   "execution_count": 27,
   "metadata": {},
   "outputs": [
    {
     "name": "stdout",
     "output_type": "stream",
     "text": [
      "-150.0\n"
     ]
    }
   ],
   "source": [
    "# Returns current PnL based on last traded price\n",
    "pnl = e.get_pnl()\n",
    "print(pnl)"
   ]
  },
  {
   "cell_type": "markdown",
   "metadata": {},
   "source": [
    "## Inserting Orders"
   ]
  },
  {
   "cell_type": "code",
   "execution_count": 13,
   "metadata": {},
   "outputs": [
    {
     "name": "stdout",
     "output_type": "stream",
     "text": [
      "Order Id: 3986\n"
     ]
    }
   ],
   "source": [
    "# Insert bid limit order - This trades against any current orders, and any remainders become new resting orders in the book\n",
    "result = e.insert_order(instrument_id, price=100, volume=5, side='bid', order_type='limit')\n",
    "print(f\"Order Id: {result}\")"
   ]
  },
  {
   "cell_type": "code",
   "execution_count": 14,
   "metadata": {},
   "outputs": [
    {
     "name": "stdout",
     "output_type": "stream",
     "text": [
      "Order Id: 3987\n"
     ]
    }
   ],
   "source": [
    "# Insert ask limit order - This trades against any current orders, and any remainders become new resting orders in the book\n",
    "result = e.insert_order(instrument_id, price=120, volume=5, side='ask', order_type='limit')\n",
    "print(f\"Order Id: {result}\")"
   ]
  },
  {
   "cell_type": "code",
   "execution_count": 29,
   "metadata": {},
   "outputs": [
    {
     "name": "stdout",
     "output_type": "stream",
     "text": [
      "Order Id: 4697\n"
     ]
    }
   ],
   "source": [
    "# Insert bid IOC - This can trade against any resting volume but does not remain in the book\n",
    "result = e.insert_order(instrument_id, price=100.0, volume=1, side='bid', order_type='ioc')\n",
    "print(f\"Order Id: {result}\")"
   ]
  },
  {
   "cell_type": "code",
   "execution_count": null,
   "metadata": {},
   "outputs": [],
   "source": [
    "# Insert ask IOC - This can trade against any resting volume but does not remain in the book\n",
    "result = e.insert_order(instrument_id, price=430.0, volume=1, side='ask', order_type='ioc')\n",
    "print(f\"Order Id: {result}\")"
   ]
  },
  {
   "cell_type": "markdown",
   "metadata": {},
   "source": [
    "## Order Management"
   ]
  },
  {
   "cell_type": "code",
   "execution_count": 12,
   "metadata": {},
   "outputs": [],
   "source": [
    "# Returns list of outstanding (unfilled) orders\n",
    "orders = e.get_outstanding_orders(instrument_id)\n",
    "for order_id in orders:\n",
    "    print(f'Order {order_id}: {orders[order_id].side} {orders[order_id].volume:3.0f} @ {orders[order_id].price:.2f}')"
   ]
  },
  {
   "cell_type": "code",
   "execution_count": 8,
   "metadata": {},
   "outputs": [
    {
     "name": "stdout",
     "output_type": "stream",
     "text": [
      "Deleted order id 3496: True\n"
     ]
    }
   ],
   "source": [
    "# Attempt to delete inserted order by order_id\n",
    "order_id = 3496\n",
    "result = e.delete_order(instrument_id, order_id=order_id)\n",
    "print(f\"Deleted order id {order_id}: {result}\")"
   ]
  },
  {
   "cell_type": "code",
   "execution_count": null,
   "metadata": {},
   "outputs": [],
   "source": [
    "# Change volume for existing order\n",
    "order_id = 4\n",
    "new_volume = 16\n",
    "result = e.amend_order(instrument_id, order_id=order_id, volume=new_volume)\n",
    "print(f\"Changed volume for order id {order_id} to {new_volume} lots: {result}.\")"
   ]
  },
  {
   "cell_type": "code",
   "execution_count": 11,
   "metadata": {},
   "outputs": [
    {
     "name": "stdout",
     "output_type": "stream",
     "text": [
      "Deleted order id 3813: True\n"
     ]
    }
   ],
   "source": [
    "# Delete all outstanding orders\n",
    "outstanding = e.get_outstanding_orders(instrument_id)\n",
    "for o in outstanding.values():\n",
    "    result = e.delete_order(instrument_id, order_id=o.order_id)\n",
    "    print(f\"Deleted order id {o.order_id}: {result}\")"
   ]
  },
  {
   "cell_type": "markdown",
   "metadata": {},
   "source": [
    "## 'Hack' Out of Positions"
   ]
  },
  {
   "cell_type": "code",
   "execution_count": 28,
   "metadata": {},
   "outputs": [
    {
     "name": "stdout",
     "output_type": "stream",
     "text": [
      "Positions before:\n",
      "DEMO              :   0\n",
      "TEST              :   0\n",
      "MKT1              :   0\n",
      "MKT2              :   0\n",
      "MKT3              :   0\n",
      "\n",
      "PnL before: 100.00\n",
      "\n",
      "\n",
      "\n",
      "Positions after:\n",
      "DEMO              :   0\n",
      "TEST              :   0\n",
      "MKT1              :   0\n",
      "MKT2              :   0\n",
      "MKT3              :   0\n",
      "\n",
      "PnL after: 100.00\n"
     ]
    }
   ],
   "source": [
    "# Get out of all positions you are currently holding, regardless of the loss involved. That means selling whatever\n",
    "# you are long, and buying-back whatever you are short. Be sure you know what you are doing when you use this logic.\n",
    "\n",
    "positions = e.get_positions()\n",
    "print('Positions before:')\n",
    "for iid in positions:\n",
    "    print(f'{iid:18s}: {positions[iid]:3.0f}')\n",
    "\n",
    "print(f'\\nPnL before: {e.get_pnl():.2f}')\n",
    "print(f'\\n')\n",
    "\n",
    "for s, p in e.get_positions().items():\n",
    "    if p > 0:\n",
    "        print(f'Selling {p} lots of {s}.')\n",
    "        e.insert_order(s, price=1, volume=p, side='ask', order_type='ioc')\n",
    "    elif p < 0:\n",
    "        print(f'Buying {abs(p)} lots of {s}.')\n",
    "        e.insert_order(s, price=100000, volume=-p, side='bid', order_type='ioc')\n",
    "    time.sleep(0.10)\n",
    "        \n",
    "positions = e.get_positions()\n",
    "print('\\nPositions after:')\n",
    "for iid in positions:\n",
    "    print(f'{iid:18s}: {positions[iid]:3.0f}')\n",
    "\n",
    "print(f'\\nPnL after: {e.get_pnl():.2f}')"
   ]
  },
  {
   "cell_type": "code",
   "execution_count": null,
   "metadata": {},
   "outputs": [],
   "source": []
  }
 ],
 "metadata": {
  "kernelspec": {
   "display_name": "Python 3",
   "language": "python",
   "name": "python3"
  },
  "language_info": {
   "codemirror_mode": {
    "name": "ipython",
    "version": 3
   },
   "file_extension": ".py",
   "mimetype": "text/x-python",
   "name": "python",
   "nbconvert_exporter": "python",
   "pygments_lexer": "ipython3",
   "version": "3.6.12"
  }
 },
 "nbformat": 4,
 "nbformat_minor": 4
}
