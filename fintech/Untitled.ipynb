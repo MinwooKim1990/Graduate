{
 "cells": [
  {
   "cell_type": "code",
   "execution_count": 2,
   "id": "f5276375-5224-473c-9a97-d13385459de7",
   "metadata": {},
   "outputs": [],
   "source": [
    "import numpy as np\n",
    "import math\n",
    "dic={'key1':1, 'key2':2, 'key3':np.nan, 'key4':4}\n",
    "dic2={'key1':1, 'key2':2, 'key3':3, 'key4':4}"
   ]
  },
  {
   "cell_type": "code",
   "execution_count": 3,
   "id": "12aa22fa-13c6-4cde-a944-019d84d68430",
   "metadata": {},
   "outputs": [
    {
     "data": {
      "text/plain": [
       "{'key1': 1, 'key2': 2, 'key3': nan, 'key4': 4}"
      ]
     },
     "execution_count": 3,
     "metadata": {},
     "output_type": "execute_result"
    }
   ],
   "source": [
    "dic"
   ]
  },
  {
   "cell_type": "code",
   "execution_count": 4,
   "id": "81fea03d-3690-4cf3-9265-eae0d835d056",
   "metadata": {},
   "outputs": [
    {
     "name": "stdout",
     "output_type": "stream",
     "text": [
      "{'key1': 1, 'key2': 2, 'key3': nan, 'key4': 4}\n"
     ]
    }
   ],
   "source": [
    "print(dic)"
   ]
  },
  {
   "cell_type": "code",
   "execution_count": 5,
   "id": "4b5917e6-6e0a-4c96-a4e3-3329c8cd9adf",
   "metadata": {},
   "outputs": [
    {
     "name": "stdout",
     "output_type": "stream",
     "text": [
      "dict_keys(['key1', 'key2', 'key3', 'key4'])\n",
      "dict_items([('key1', 1), ('key2', 2), ('key3', nan), ('key4', 4)])\n"
     ]
    }
   ],
   "source": [
    "dickey=dic.keys()\n",
    "print(dickey)\n",
    "print(dic.items())"
   ]
  },
  {
   "cell_type": "code",
   "execution_count": 6,
   "id": "d34a1c46-4144-40ee-869b-d57a24399ec1",
   "metadata": {},
   "outputs": [
    {
     "name": "stdout",
     "output_type": "stream",
     "text": [
      "{'key1': 1, 'key2': 2, 'key3': nan, 'key4': 4}\n"
     ]
    }
   ],
   "source": [
    "d = {k: v for k, v in dic.items() if k == k}\n",
    "print(d)"
   ]
  },
  {
   "cell_type": "code",
   "execution_count": 7,
   "id": "44f6a027-e842-4ca4-bf13-ad124726a759",
   "metadata": {},
   "outputs": [
    {
     "name": "stdout",
     "output_type": "stream",
     "text": [
      "{'key1': 1, 'key2': 2, 'key4': 4}\n"
     ]
    }
   ],
   "source": [
    "new = {key: value for (key, value) in dic.items() if not np.isnan(value)}\n",
    "print(new)"
   ]
  },
  {
   "cell_type": "code",
   "execution_count": 8,
   "id": "212a9eeb-df2d-4e3f-ac9e-bc77067baed6",
   "metadata": {},
   "outputs": [
    {
     "name": "stdout",
     "output_type": "stream",
     "text": [
      "True\n",
      "key1\n",
      "key2\n",
      "key3\n",
      "key4\n"
     ]
    }
   ],
   "source": [
    "print(np.isnan(dic['key3']))\n",
    "\n",
    "for i in dic2.keys():\n",
    "    if np.isnan(dic2[i]):\n",
    "        print(1)\n",
    "    else :\n",
    "        print(i)"
   ]
  },
  {
   "cell_type": "code",
   "execution_count": 9,
   "id": "956d0d27-a144-425e-b7fb-6477f9512619",
   "metadata": {},
   "outputs": [
    {
     "ename": "TypeError",
     "evalue": "list indices must be integers or slices, not str",
     "output_type": "error",
     "traceback": [
      "\u001b[0;31m---------------------------------------------------------------------------\u001b[0m",
      "\u001b[0;31mTypeError\u001b[0m                                 Traceback (most recent call last)",
      "\u001b[0;32m<ipython-input-9-6bbd51f1966c>\u001b[0m in \u001b[0;36m<module>\u001b[0;34m\u001b[0m\n\u001b[1;32m     21\u001b[0m     \u001b[0;34m{\u001b[0m\u001b[0;34m'id'\u001b[0m\u001b[0;34m:\u001b[0m \u001b[0;34m'ING-2022_03_18-025P'\u001b[0m\u001b[0;34m,\u001b[0m \u001b[0;34m'expiry_date'\u001b[0m\u001b[0;34m:\u001b[0m \u001b[0mdt\u001b[0m\u001b[0;34m.\u001b[0m\u001b[0mdatetime\u001b[0m\u001b[0;34m(\u001b[0m\u001b[0;36m2022\u001b[0m\u001b[0;34m,\u001b[0m \u001b[0;36m3\u001b[0m\u001b[0;34m,\u001b[0m \u001b[0;36m18\u001b[0m\u001b[0;34m,\u001b[0m \u001b[0;36m12\u001b[0m\u001b[0;34m,\u001b[0m \u001b[0;36m0\u001b[0m\u001b[0;34m,\u001b[0m \u001b[0;36m0\u001b[0m\u001b[0;34m)\u001b[0m\u001b[0;34m,\u001b[0m \u001b[0;34m'strike'\u001b[0m\u001b[0;34m:\u001b[0m \u001b[0;36m25\u001b[0m\u001b[0;34m,\u001b[0m \u001b[0;34m'callput'\u001b[0m\u001b[0;34m:\u001b[0m \u001b[0;34m'put'\u001b[0m\u001b[0;34m}\u001b[0m\u001b[0;34m,\u001b[0m\u001b[0;34m\u001b[0m\u001b[0;34m\u001b[0m\u001b[0m\n\u001b[1;32m     22\u001b[0m ]\n\u001b[0;32m---> 23\u001b[0;31m \u001b[0mprint\u001b[0m\u001b[0;34m(\u001b[0m\u001b[0mOPTIONS\u001b[0m\u001b[0;34m[\u001b[0m\u001b[0;34m'id'\u001b[0m\u001b[0;34m]\u001b[0m\u001b[0;34m)\u001b[0m\u001b[0;34m\u001b[0m\u001b[0;34m\u001b[0m\u001b[0m\n\u001b[0m",
      "\u001b[0;31mTypeError\u001b[0m: list indices must be integers or slices, not str"
     ]
    }
   ],
   "source": [
    "import datetime as dt\n",
    "OPTIONS_ID=['BAYER50','BAYER75','BAYER100','SAN40','SAN50','SAN60','ING15','ING20','ING25']\n",
    "OPTIONS = [\n",
    "    {'id': 'BAY-2022_03_18-050C', 'expiry_date': dt.datetime(2022, 3, 18, 12, 0, 0), 'strike': 50, 'callput': 'call'},\n",
    "    {'id': 'BAY-2022_03_18-050P', 'expiry_date': dt.datetime(2022, 3, 18, 12, 0, 0), 'strike': 50, 'callput': 'put'},\n",
    "    {'id': 'BAY-2022_03_18-075C', 'expiry_date': dt.datetime(2022, 3, 18, 12, 0, 0), 'strike': 75, 'callput': 'call'},\n",
    "    {'id': 'BAY-2022_03_18-075P', 'expiry_date': dt.datetime(2022, 3, 18, 12, 0, 0), 'strike': 75, 'callput': 'put'},\n",
    "    {'id': 'BAY-2022_03_18-100C', 'expiry_date': dt.datetime(2022, 3, 18, 12, 0, 0), 'strike': 100, 'callput': 'call'},\n",
    "    {'id': 'BAY-2022_03_18-100P', 'expiry_date': dt.datetime(2022, 3, 18, 12, 0, 0), 'strike': 100, 'callput': 'put'},\n",
    "    {'id': 'SAN-2022_03_18-040C', 'expiry_date': dt.datetime(2022, 3, 18, 12, 0, 0), 'strike': 40, 'callput': 'call'},\n",
    "    {'id': 'SAN-2022_03_18-040P', 'expiry_date': dt.datetime(2022, 3, 18, 12, 0, 0), 'strike': 40, 'callput': 'put'},\n",
    "    {'id': 'SAN-2022_03_18-050C', 'expiry_date': dt.datetime(2022, 3, 18, 12, 0, 0), 'strike': 50, 'callput': 'call'},\n",
    "    {'id': 'SAN-2022_03_18-050P', 'expiry_date': dt.datetime(2022, 3, 18, 12, 0, 0), 'strike': 50, 'callput': 'put'},\n",
    "    {'id': 'SAN-2022_03_18-060C', 'expiry_date': dt.datetime(2022, 3, 18, 12, 0, 0), 'strike': 60, 'callput': 'call'},\n",
    "    {'id': 'SAN-2022_03_18-060P', 'expiry_date': dt.datetime(2022, 3, 18, 12, 0, 0), 'strike': 60, 'callput': 'put'},\n",
    "    {'id': 'ING-2022_03_18-015C', 'expiry_date': dt.datetime(2022, 3, 18, 12, 0, 0), 'strike': 15, 'callput': 'call'},\n",
    "    {'id': 'ING-2022_03_18-015P', 'expiry_date': dt.datetime(2022, 3, 18, 12, 0, 0), 'strike': 15, 'callput': 'put'},\n",
    "    {'id': 'ING-2022_03_18-020C', 'expiry_date': dt.datetime(2022, 3, 18, 12, 0, 0), 'strike': 20, 'callput': 'call'},\n",
    "    {'id': 'ING-2022_03_18-020P', 'expiry_date': dt.datetime(2022, 3, 18, 12, 0, 0), 'strike': 20, 'callput': 'put'},\n",
    "    {'id': 'ING-2022_03_18-025C', 'expiry_date': dt.datetime(2022, 3, 18, 12, 0, 0), 'strike': 25, 'callput': 'call'},\n",
    "    {'id': 'ING-2022_03_18-025P', 'expiry_date': dt.datetime(2022, 3, 18, 12, 0, 0), 'strike': 25, 'callput': 'put'},\n",
    "]\n",
    "print(OPTIONS['id'])"
   ]
  },
  {
   "cell_type": "code",
   "execution_count": 10,
   "id": "3c50747b-d4b3-4e81-bc17-9d6b272cdf07",
   "metadata": {},
   "outputs": [
    {
     "name": "stdout",
     "output_type": "stream",
     "text": [
      "nan\n"
     ]
    }
   ],
   "source": [
    "print(3*np.nan)"
   ]
  },
  {
   "cell_type": "code",
   "execution_count": 11,
   "id": "74fe755e-add8-417e-aada-4992af10480b",
   "metadata": {},
   "outputs": [
    {
     "name": "stdout",
     "output_type": "stream",
     "text": [
      "key1\n",
      "key2\n",
      "key3\n",
      "key4\n"
     ]
    }
   ],
   "source": [
    "for i in dic.keys():\n",
    "    print(i)"
   ]
  },
  {
   "cell_type": "code",
   "execution_count": 15,
   "id": "11c3d655-6ec8-4466-9f99-cbce8d2ebc9b",
   "metadata": {},
   "outputs": [
    {
     "name": "stdout",
     "output_type": "stream",
     "text": [
      "12\n",
      "13\n",
      "13\n",
      "13\n",
      "11\n",
      "11\n",
      "11\n",
      "12\n",
      "12\n"
     ]
    }
   ],
   "source": [
    "lis=[5,6,7,8,0,1,2,3,4]\n",
    "lis2=[11,12,13]\n",
    "for i in lis:\n",
    "    print(lis2[int(i/3)])"
   ]
  },
  {
   "cell_type": "code",
   "execution_count": 16,
   "id": "9d559041-b8ee-4876-a842-67fca95331f5",
   "metadata": {},
   "outputs": [],
   "source": [
    "def save(title,data):\n",
    "    with open(\"data2.csv\", \"a\") as file:\n",
    "        file.write(f'''{title},''')\n",
    "        file.write(f'''{data},''')\n",
    "        file.close()\n",
    "\n",
    "for i in range(len(lis)):\n",
    "    save('a,',lis[i])  "
   ]
  },
  {
   "cell_type": "code",
   "execution_count": 17,
   "id": "0befa64e-549b-4590-a7ce-0f50a836b323",
   "metadata": {},
   "outputs": [
    {
     "name": "stdout",
     "output_type": "stream",
     "text": [
      "4\n",
      "[5, 6, 7, 8, 0, 1, 2, 3, 4]\n"
     ]
    }
   ],
   "source": [
    "print(lis.index(min(lis)))\n",
    "print(lis)"
   ]
  },
  {
   "cell_type": "code",
   "execution_count": 20,
   "id": "fe0a21d2-7e36-4ad0-a164-9f881a09fa4b",
   "metadata": {},
   "outputs": [
    {
     "name": "stdout",
     "output_type": "stream",
     "text": [
      "[5, 4, 3, 2, 10, 9, 8, 7, 6]\n"
     ]
    }
   ],
   "source": [
    "temp=[]\n",
    "\n",
    "for i in lis:\n",
    "    temp.append(abs(10-i))\n",
    "print(temp)"
   ]
  },
  {
   "cell_type": "code",
   "execution_count": null,
   "id": "fa06399b-5291-47e4-8cad-234ad2c79b12",
   "metadata": {},
   "outputs": [],
   "source": []
  }
 ],
 "metadata": {
  "kernelspec": {
   "display_name": "Python 3",
   "language": "python",
   "name": "python3"
  },
  "language_info": {
   "codemirror_mode": {
    "name": "ipython",
    "version": 3
   },
   "file_extension": ".py",
   "mimetype": "text/x-python",
   "name": "python",
   "nbconvert_exporter": "python",
   "pygments_lexer": "ipython3",
   "version": "3.6.12"
  }
 },
 "nbformat": 4,
 "nbformat_minor": 5
}
