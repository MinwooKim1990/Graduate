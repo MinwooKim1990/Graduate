{
 "cells": [
  {
   "cell_type": "markdown",
   "id": "06aa973b-8321-4b47-8ae2-cf489f5c5699",
   "metadata": {},
   "source": [
    "# Package & Module Imports"
   ]
  },
  {
   "cell_type": "code",
   "execution_count": 1,
   "id": "8c6a4809-824f-409d-be7f-7b9008f59882",
   "metadata": {},
   "outputs": [],
   "source": [
    "import pandas as pd\n",
    "from cointegration_analysis import estimate_long_run_short_run_relationships, engle_granger_two_step_cointegration_test"
   ]
  },
  {
   "cell_type": "markdown",
   "id": "0baefe85-1258-446a-b3a6-019a732b8468",
   "metadata": {},
   "source": [
    "# Display Documentation for Cointegration Analysis"
   ]
  },
  {
   "cell_type": "code",
   "execution_count": 2,
   "id": "e505fde5-e46e-4896-8777-18a110bf2000",
   "metadata": {},
   "outputs": [
    {
     "name": "stdout",
     "output_type": "stream",
     "text": [
      "Help on function estimate_long_run_short_run_relationships in module cointegration_analysis:\n",
      "\n",
      "estimate_long_run_short_run_relationships(y, x)\n",
      "    Estimates long-run and short-run cointegration relationship for series y and x. \n",
      "    \n",
      "    Uses a 2-step process to first estimate coefficients for the long-run relationship\n",
      "        y_t = c + gamma * x_t + z_t\n",
      "        \n",
      "    and then the short-term relationship,\n",
      "        y_t - y_(t-1) = alpha * z_(t-1) + epsilon_t,\n",
      "        \n",
      "    with z the found residuals of the first equation.\n",
      "    \n",
      "    Parameters\n",
      "    ----------\n",
      "    y : pd.Series\n",
      "        The first time series of the pair to analyse.\n",
      "    \n",
      "    x : pd.Series\n",
      "        The second time series of the pair to analyse.\n",
      "    \n",
      "    Returns\n",
      "    -------\n",
      "    c : float\n",
      "        The constant term in the long-run relationship y_t = c + gamma * x_t + z_t. This \n",
      "        describes the static shift of y with respect to gamma * x.\n",
      "        \n",
      "    gamma : float\n",
      "        The gamma term in the long-run relationship y_t = c + gamma * x_t + z_t. This\n",
      "        describes the ratio between the const-shifted y and x.\n",
      "        \n",
      "    alpha : float\n",
      "        The alpha term in the short-run relationship y_t - y_(t-1) = alpha * z_(t-1) + epsilon. This\n",
      "        gives an indication of the strength of the error correction toward the long-run mean.\n",
      "    \n",
      "    z : pd.Series\n",
      "        Series of residuals z_t from the long-run relationship y_t = c + gamma * x_t + z_t, representing\n",
      "        the value of the error correction term.\n",
      "\n"
     ]
    }
   ],
   "source": [
    "help(estimate_long_run_short_run_relationships)"
   ]
  },
  {
   "cell_type": "code",
   "execution_count": 3,
   "id": "935c1247-a0c4-4ca1-8c8b-b9f411cb43db",
   "metadata": {},
   "outputs": [
    {
     "name": "stdout",
     "output_type": "stream",
     "text": [
      "Help on function engle_granger_two_step_cointegration_test in module cointegration_analysis:\n",
      "\n",
      "engle_granger_two_step_cointegration_test(y, x)\n",
      "    Applies the two-step Engle & Granger test for cointegration. \n",
      "    \n",
      "    First fits the long-run relationship\n",
      "        y_t = c + gamma * x_t + z_t\n",
      "    \n",
      "    and then tests, by Dickey-Fuller phi=1 vs phi < 1 in\n",
      "        z_t = phi * z_(t-1) + eta_t\n",
      "        \n",
      "    If this implies phi < 1, the z series is stationary is concluded to be\n",
      "    stationary, and thus the series y and x are concluded to be cointegrated.\n",
      "    \n",
      "    Parameters\n",
      "    ----------\n",
      "    y : pd.Series\n",
      "        the first time series of the pair to analyse\n",
      "    \n",
      "    x : pd.Series\n",
      "        the second time series of the pair to analyse\n",
      "        \n",
      "    Returns\n",
      "    -------\n",
      "    dfstat : float\n",
      "        The Dickey Fuller test-statistic for phi = 1 vs phi < 1 in the second equation. A more \n",
      "        negative value implies the existence of stronger cointegration.\n",
      "    \n",
      "    pvalue : float\n",
      "        The p-value corresponding to the Dickey Fuller test-statistic. A lower value implies\n",
      "        stronger rejection of no-cointegration, thus stronger evidence of cointegration.\n",
      "\n"
     ]
    }
   ],
   "source": [
    "help(engle_granger_two_step_cointegration_test)"
   ]
  },
  {
   "cell_type": "markdown",
   "id": "ed2a5c11-8872-4ca7-bd3c-288a6a2d4139",
   "metadata": {},
   "source": [
    "# Loading and Displaying Data"
   ]
  },
  {
   "cell_type": "code",
   "execution_count": 4,
   "id": "88b4ad39-80e9-4e73-89b3-2be8659b1984",
   "metadata": {},
   "outputs": [
    {
     "data": {
      "text/html": [
       "<div>\n",
       "<style scoped>\n",
       "    .dataframe tbody tr th:only-of-type {\n",
       "        vertical-align: middle;\n",
       "    }\n",
       "\n",
       "    .dataframe tbody tr th {\n",
       "        vertical-align: top;\n",
       "    }\n",
       "\n",
       "    .dataframe thead th {\n",
       "        text-align: right;\n",
       "    }\n",
       "</style>\n",
       "<table border=\"1\" class=\"dataframe\">\n",
       "  <thead>\n",
       "    <tr style=\"text-align: right;\">\n",
       "      <th></th>\n",
       "      <th>AIRBUS</th>\n",
       "      <th>SIEMENS</th>\n",
       "      <th>TOTAL</th>\n",
       "      <th>UNILEVER</th>\n",
       "      <th>SAP</th>\n",
       "      <th>ASML</th>\n",
       "      <th>LVMH</th>\n",
       "      <th>ALLIANZ</th>\n",
       "    </tr>\n",
       "    <tr>\n",
       "      <th>fraction_of_year</th>\n",
       "      <th></th>\n",
       "      <th></th>\n",
       "      <th></th>\n",
       "      <th></th>\n",
       "      <th></th>\n",
       "      <th></th>\n",
       "      <th></th>\n",
       "      <th></th>\n",
       "    </tr>\n",
       "  </thead>\n",
       "  <tbody>\n",
       "    <tr>\n",
       "      <th>6.341958e-08</th>\n",
       "      <td>50.000000</td>\n",
       "      <td>75.000000</td>\n",
       "      <td>105.000000</td>\n",
       "      <td>173.115733</td>\n",
       "      <td>85.000000</td>\n",
       "      <td>25.061320</td>\n",
       "      <td>93.000000</td>\n",
       "      <td>188.504031</td>\n",
       "    </tr>\n",
       "    <tr>\n",
       "      <th>1.268392e-07</th>\n",
       "      <td>49.981863</td>\n",
       "      <td>75.027072</td>\n",
       "      <td>104.872676</td>\n",
       "      <td>173.097455</td>\n",
       "      <td>85.018591</td>\n",
       "      <td>25.064812</td>\n",
       "      <td>93.032100</td>\n",
       "      <td>188.523269</td>\n",
       "    </tr>\n",
       "    <tr>\n",
       "      <th>1.902588e-07</th>\n",
       "      <td>50.042477</td>\n",
       "      <td>75.141293</td>\n",
       "      <td>104.806862</td>\n",
       "      <td>173.070839</td>\n",
       "      <td>84.820182</td>\n",
       "      <td>25.064363</td>\n",
       "      <td>93.014522</td>\n",
       "      <td>188.514059</td>\n",
       "    </tr>\n",
       "    <tr>\n",
       "      <th>2.536783e-07</th>\n",
       "      <td>50.112916</td>\n",
       "      <td>75.006166</td>\n",
       "      <td>104.637887</td>\n",
       "      <td>173.076076</td>\n",
       "      <td>84.638660</td>\n",
       "      <td>25.063833</td>\n",
       "      <td>92.993144</td>\n",
       "      <td>188.512385</td>\n",
       "    </tr>\n",
       "    <tr>\n",
       "      <th>3.170979e-07</th>\n",
       "      <td>50.128907</td>\n",
       "      <td>75.133670</td>\n",
       "      <td>104.770989</td>\n",
       "      <td>173.060506</td>\n",
       "      <td>84.690296</td>\n",
       "      <td>25.063427</td>\n",
       "      <td>92.873362</td>\n",
       "      <td>188.517757</td>\n",
       "    </tr>\n",
       "    <tr>\n",
       "      <th>...</th>\n",
       "      <td>...</td>\n",
       "      <td>...</td>\n",
       "      <td>...</td>\n",
       "      <td>...</td>\n",
       "      <td>...</td>\n",
       "      <td>...</td>\n",
       "      <td>...</td>\n",
       "      <td>...</td>\n",
       "    </tr>\n",
       "    <tr>\n",
       "      <th>1.923053e-02</th>\n",
       "      <td>22.879898</td>\n",
       "      <td>54.182166</td>\n",
       "      <td>211.093410</td>\n",
       "      <td>348.022515</td>\n",
       "      <td>48.797352</td>\n",
       "      <td>18.974450</td>\n",
       "      <td>139.245241</td>\n",
       "      <td>306.077427</td>\n",
       "    </tr>\n",
       "    <tr>\n",
       "      <th>1.923059e-02</th>\n",
       "      <td>22.905414</td>\n",
       "      <td>54.301063</td>\n",
       "      <td>211.039635</td>\n",
       "      <td>348.041058</td>\n",
       "      <td>48.815485</td>\n",
       "      <td>18.970324</td>\n",
       "      <td>139.206501</td>\n",
       "      <td>306.065946</td>\n",
       "    </tr>\n",
       "    <tr>\n",
       "      <th>1.923066e-02</th>\n",
       "      <td>22.911120</td>\n",
       "      <td>54.385957</td>\n",
       "      <td>210.668327</td>\n",
       "      <td>348.014037</td>\n",
       "      <td>48.802449</td>\n",
       "      <td>18.962853</td>\n",
       "      <td>139.228850</td>\n",
       "      <td>306.029947</td>\n",
       "    </tr>\n",
       "    <tr>\n",
       "      <th>1.923072e-02</th>\n",
       "      <td>22.930672</td>\n",
       "      <td>54.366635</td>\n",
       "      <td>210.944113</td>\n",
       "      <td>348.036195</td>\n",
       "      <td>48.818933</td>\n",
       "      <td>18.964556</td>\n",
       "      <td>139.164490</td>\n",
       "      <td>306.009147</td>\n",
       "    </tr>\n",
       "    <tr>\n",
       "      <th>1.923078e-02</th>\n",
       "      <td>22.937237</td>\n",
       "      <td>54.427682</td>\n",
       "      <td>210.735083</td>\n",
       "      <td>348.074026</td>\n",
       "      <td>48.804634</td>\n",
       "      <td>18.965697</td>\n",
       "      <td>139.270119</td>\n",
       "      <td>305.972444</td>\n",
       "    </tr>\n",
       "  </tbody>\n",
       "</table>\n",
       "<p>303231 rows × 8 columns</p>\n",
       "</div>"
      ],
      "text/plain": [
       "                     AIRBUS    SIEMENS       TOTAL    UNILEVER        SAP  \\\n",
       "fraction_of_year                                                            \n",
       "6.341958e-08      50.000000  75.000000  105.000000  173.115733  85.000000   \n",
       "1.268392e-07      49.981863  75.027072  104.872676  173.097455  85.018591   \n",
       "1.902588e-07      50.042477  75.141293  104.806862  173.070839  84.820182   \n",
       "2.536783e-07      50.112916  75.006166  104.637887  173.076076  84.638660   \n",
       "3.170979e-07      50.128907  75.133670  104.770989  173.060506  84.690296   \n",
       "...                     ...        ...         ...         ...        ...   \n",
       "1.923053e-02      22.879898  54.182166  211.093410  348.022515  48.797352   \n",
       "1.923059e-02      22.905414  54.301063  211.039635  348.041058  48.815485   \n",
       "1.923066e-02      22.911120  54.385957  210.668327  348.014037  48.802449   \n",
       "1.923072e-02      22.930672  54.366635  210.944113  348.036195  48.818933   \n",
       "1.923078e-02      22.937237  54.427682  210.735083  348.074026  48.804634   \n",
       "\n",
       "                       ASML        LVMH     ALLIANZ  \n",
       "fraction_of_year                                     \n",
       "6.341958e-08      25.061320   93.000000  188.504031  \n",
       "1.268392e-07      25.064812   93.032100  188.523269  \n",
       "1.902588e-07      25.064363   93.014522  188.514059  \n",
       "2.536783e-07      25.063833   92.993144  188.512385  \n",
       "3.170979e-07      25.063427   92.873362  188.517757  \n",
       "...                     ...         ...         ...  \n",
       "1.923053e-02      18.974450  139.245241  306.077427  \n",
       "1.923059e-02      18.970324  139.206501  306.065946  \n",
       "1.923066e-02      18.962853  139.228850  306.029947  \n",
       "1.923072e-02      18.964556  139.164490  306.009147  \n",
       "1.923078e-02      18.965697  139.270119  305.972444  \n",
       "\n",
       "[303231 rows x 8 columns]"
      ]
     },
     "metadata": {},
     "output_type": "display_data"
    }
   ],
   "source": [
    "df = pd.read_csv('data.csv')\n",
    "df = df.set_index('fraction_of_year')\n",
    "display(df)"
   ]
  },
  {
   "cell_type": "code",
   "execution_count": 5,
   "id": "beebabe1-e1dc-41d2-bedc-c46581d6b03e",
   "metadata": {},
   "outputs": [
    {
     "data": {
      "text/plain": [
       "<AxesSubplot:xlabel='fraction_of_year'>"
      ]
     },
     "execution_count": 5,
     "metadata": {},
     "output_type": "execute_result"
    },
    {
     "data": {
      "image/png": "[encoded data removed]",
      "text/plain": [
       "<Figure size 432x288 with 1 Axes>"
      ]
     },
     "metadata": {
      "needs_background": "light"
     },
     "output_type": "display_data"
    }
   ],
   "source": [
    "df.plot()"
   ]
  },
  {
   "cell_type": "code",
   "execution_count": null,
   "id": "32753a72-a3b3-4804-bdd4-ccd3d99c15cd",
   "metadata": {},
   "outputs": [],
   "source": []
  }
 ],
 "metadata": {
  "kernelspec": {
   "display_name": "Python 3",
   "language": "python",
   "name": "python3"
  },
  "language_info": {
   "codemirror_mode": {
    "name": "ipython",
    "version": 3
   },
   "file_extension": ".py",
   "mimetype": "text/x-python",
   "name": "python",
   "nbconvert_exporter": "python",
   "pygments_lexer": "ipython3",
   "version": "3.6.12"
  }
 },
 "nbformat": 4,
 "nbformat_minor": 5
}
