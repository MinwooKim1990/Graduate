{
 "cells": [
  {
   "cell_type": "markdown",
   "id": "06aa973b-8321-4b47-8ae2-cf489f5c5699",
   "metadata": {},
   "source": [
    "# Package & Module Imports"
   ]
  },
  {
   "cell_type": "code",
   "execution_count": null,
   "id": "8c6a4809-824f-409d-be7f-7b9008f59882",
   "metadata": {},
   "outputs": [],
   "source": [
    "import pandas as pd\n",
    "from cointegration_analysis import estimate_long_run_short_run_relationships, engle_granger_two_step_cointegration_test"
   ]
  },
  {
   "cell_type": "markdown",
   "id": "0baefe85-1258-446a-b3a6-019a732b8468",
   "metadata": {},
   "source": [
    "# Display Documentation for Cointegration Analysis"
   ]
  },
  {
   "cell_type": "code",
   "execution_count": null,
   "id": "e505fde5-e46e-4896-8777-18a110bf2000",
   "metadata": {},
   "outputs": [],
   "source": [
    "help(estimate_long_run_short_run_relationships)"
   ]
  },
  {
   "cell_type": "code",
   "execution_count": null,
   "id": "935c1247-a0c4-4ca1-8c8b-b9f411cb43db",
   "metadata": {},
   "outputs": [],
   "source": [
    "help(engle_granger_two_step_cointegration_test)"
   ]
  },
  {
   "cell_type": "markdown",
   "id": "ed2a5c11-8872-4ca7-bd3c-288a6a2d4139",
   "metadata": {},
   "source": [
    "# Loading and Displaying Data"
   ]
  },
  {
   "cell_type": "code",
   "execution_count": null,
   "id": "88b4ad39-80e9-4e73-89b3-2be8659b1984",
   "metadata": {},
   "outputs": [],
   "source": [
    "df = pd.read_csv('data.csv')\n",
    "df = df.set_index('fraction_of_year')\n",
    "display(df)"
   ]
  },
  {
   "cell_type": "code",
   "execution_count": null,
   "id": "beebabe1-e1dc-41d2-bedc-c46581d6b03e",
   "metadata": {},
   "outputs": [],
   "source": [
    "df.plot()"
   ]
  },
  {
   "cell_type": "code",
   "execution_count": null,
   "id": "32753a72-a3b3-4804-bdd4-ccd3d99c15cd",
   "metadata": {},
   "outputs": [],
   "source": []
  }
 ],
 "metadata": {
  "kernelspec": {
   "display_name": "Python 3",
   "language": "python",
   "name": "python3"
  },
  "language_info": {
   "codemirror_mode": {
    "name": "ipython",
    "version": 3
   },
   "file_extension": ".py",
   "mimetype": "text/x-python",
   "name": "python",
   "nbconvert_exporter": "python",
   "pygments_lexer": "ipython3",
   "version": "3.6.12"
  }
 },
 "nbformat": 4,
 "nbformat_minor": 5
}
