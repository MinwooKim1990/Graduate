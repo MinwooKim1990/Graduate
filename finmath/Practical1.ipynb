{
 "cells": [
  {
   "cell_type": "code",
   "execution_count": 13,
   "metadata": {},
   "outputs": [],
   "source": [
    "import numpy as np\n",
    "from scipy.stats import norm #easy way to access the CDF of a normal RV"
   ]
  },
  {
   "cell_type": "code",
   "execution_count": 14,
   "metadata": {},
   "outputs": [],
   "source": [
    "# Practical problem 1 -- implements the desired formula for price of European call option.\n",
    "\n",
    "def ECBS(T,S0,r,sigma,E):\n",
    "    # Price of the Black--Scholes solution for a European call option given its price S0 at t=0.\n",
    "    # Given the price at another time t>0, should be called with maturity time T-t to treat t as\n",
    "    # the initial time.\n",
    "    d1 = (1/(sigma*np.sqrt(T)))*(np.log(S0/E)+(r+(1/2)*(sigma**2)*T)) #d1 at t=0\n",
    "    d2 = d1-sigma*np.sqrt(T) #d2 at t=0\n",
    "    discount = E*np.exp(-r*T)    #discount factor at t=0                         \n",
    "    return S0*norm.cdf(d1) - discount*norm.cdf(d2)"
   ]
  },
  {
   "cell_type": "code",
   "execution_count": 188,
   "metadata": {},
   "outputs": [
    {
     "data": {
      "text/plain": [
       "1.5429374445144521"
      ]
     },
     "execution_count": 188,
     "metadata": {},
     "output_type": "execute_result"
    }
   ],
   "source": [
    "ECBS(1,10,.06,.1,9)"
   ]
  },
  {
   "cell_type": "code",
   "execution_count": 16,
   "metadata": {},
   "outputs": [],
   "source": [
    "# Practical problem 2 -- defines auxiliary functions, Monte Carlo sampling for European call option, \n",
    "# and collects the MC samples for various values of M into one experiment.\n",
    "\n",
    "# Payoff function\n",
    "def Payoff(x,E):\n",
    "    return max(x-E,0)\n",
    "\n",
    "# Asset price if the sampled normal is z\n",
    "def AssetPrice(S0,r,sigma,T,z):\n",
    "    return S0*np.exp((r-(1/2)*(sigma**2))*T+sigma*np.sqrt(T)*z)\n",
    "\n",
    "# Discounted asset price -- if z is a standard normal this gives one Monte Carlo sample\n",
    "def MonteCarloSample(S0,r,sigma,T,E,z):\n",
    "    S=AssetPrice(S0,r,sigma,T,z)\n",
    "    DiscountPayoff = np.exp(-r*T)*Payoff(S,E)\n",
    "    return DiscountPayoff\n",
    "\n",
    "# Monte Carlo sampling routine for M samples. Returns a tuple of samples.\n",
    "def MonteCarlo(M,S0,r,sigma,T,E):\n",
    "    NormalSamples = norm.rvs(size=M) #norm.rvs returns samples of normal RVs, standard by default\n",
    "    Samples = []\n",
    "    for j in NormalSamples:\n",
    "        Samples.append(MonteCarloSample(S0,r,sigma,T,E,j))\n",
    "    return Samples\n",
    "\n",
    "# Experiment to explore the convergence of the Monte Carlo scheme. Returns averaged values and estimates\n",
    "# for error for various quantities of samples.\n",
    "def Experiment(k,S0,r,sigma,T,E):\n",
    "    Exp = []\n",
    "    for j in range(1,k):\n",
    "        x=MonteCarlo(2**j,S0,r,sigma,T,E) #Monte Carlo scheme with 2^j samples.\n",
    "        a=np.average(x)\n",
    "        b=np.std(x,ddof=1) #std for standard deviation; ddof=1 is the '-1' to have an unbiased estimator of the variance\n",
    "        Exp.append([a,1.96*b/np.sqrt(2**j)])\n",
    "    return Exp"
   ]
  },
  {
   "cell_type": "code",
   "execution_count": 18,
   "metadata": {},
   "outputs": [
    {
     "data": {
      "text/plain": [
       "[[3.1764335520903666, 0.5252302757955041],\n",
       " [1.0515608878762899, 0.5424421961321659],\n",
       " [1.7146412895525271, 1.0073913082593413],\n",
       " [1.4020549385266787, 0.5806352910808793],\n",
       " [1.3393856731306921, 0.30883590104958625],\n",
       " [1.3492109235960021, 0.22500782110815237],\n",
       " [1.6856599353085058, 0.18177601536414198],\n",
       " [1.535765795177426, 0.114749158443375],\n",
       " [1.5075062130176198, 0.08477375045756916],\n",
       " [1.5704700403593526, 0.06082085693144876],\n",
       " [1.539026665125051, 0.04160994102102311],\n",
       " [1.5343180102596161, 0.029441126536872243],\n",
       " [1.538670827353186, 0.021047534071096313],\n",
       " [1.5377110837794281, 0.014660852679214808],\n",
       " [1.5478940550728828, 0.010462356341236287],\n",
       " [1.54400873880765, 0.00743459898348229],\n",
       " [1.5409270894517872, 0.00523018794540991],\n",
       " [1.543453619304037, 0.003706544695243285],\n",
       " [1.542600073562498, 0.0026146619421162183],\n",
       " [1.5415893203263265, 0.0018533490439755604],\n",
       " [1.5424828609695027, 0.0013100129686891384]]"
      ]
     },
     "execution_count": 18,
     "metadata": {},
     "output_type": "execute_result"
    }
   ],
   "source": [
    "Experiment(22,10,.06,.1,1,9)"
   ]
  },
  {
   "cell_type": "code",
   "execution_count": 187,
   "metadata": {},
   "outputs": [],
   "source": [
    "# Practical 2, Problem 1, part one -- MC for up-and-out European call option, standard method.\n",
    "\n",
    "r=.05\n",
    "sigma=.25\n",
    "B=9\n",
    "S0=5\n",
    "E=6\n",
    "T=1\n",
    "N=10**3 #Number of sampling times\n",
    "times=[T/N for k in range(N)] #increments of time, all of same size\n",
    "\n",
    "# Ingredientfor payoff function. Important: this is not the full payoff function, this just indicates how to\n",
    "# create the array of values along a discretized sample path, and then to check the barrier \n",
    "# condition. For the full payoff need to also check against strike price and discounting.):\n",
    "def UaOPayoff():\n",
    "    Sa=S0\n",
    "    Payoffs = [Sa]\n",
    "    for time in times:\n",
    "        PayoffIncrement = Sa*(np.exp((r-(1/2)*(sigma**2))*time+sigma*np.sqrt(time)*np.random.normal(0,1)))\n",
    "        Payoffs.append(PayoffIncrement)\n",
    "        Sa=PayoffIncrement\n",
    "    if np.max(Payoffs) < B:\n",
    "        return Payoffs[-1]\n",
    "    else:\n",
    "        return 0\n",
    "    \n",
    "# To complete Practical 2, problem 1 -- use this idea to create payoff function inside of the Monte Carlo method.\n",
    "# For other options (up-and-in, other barrier options, Asian options, etc.) the same idea can be\n",
    "# used by modifying the if-else to the situation at hand."
   ]
  },
  {
   "cell_type": "code",
   "execution_count": null,
   "metadata": {},
   "outputs": [],
   "source": []
  }
 ],
 "metadata": {
  "kernelspec": {
   "display_name": "Python 3 (ipykernel)",
   "language": "python",
   "name": "python3"
  },
  "language_info": {
   "codemirror_mode": {
    "name": "ipython",
    "version": 3
   },
   "file_extension": ".py",
   "mimetype": "text/x-python",
   "name": "python",
   "nbconvert_exporter": "python",
   "pygments_lexer": "ipython3",
   "version": "3.9.9"
  }
 },
 "nbformat": 4,
 "nbformat_minor": 4
}
